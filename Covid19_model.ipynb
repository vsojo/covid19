{
  "nbformat": 4,
  "nbformat_minor": 0,
  "metadata": {
    "colab": {
      "name": "Covid19_model.ipynb",
      "provenance": [],
      "collapsed_sections": [],
      "toc_visible": true,
      "include_colab_link": true
    },
    "kernelspec": {
      "name": "python3",
      "display_name": "Python 3"
    },
    "widgets": {
      "application/vnd.jupyter.widget-state+json": {
        "904a1bfbf0de4a37adda0b703e5fe13b": {
          "model_module": "@jupyter-widgets/controls",
          "model_name": "FloatTextModel",
          "state": {
            "_view_name": "FloatTextView",
            "style": "IPY_MODEL_660366776c2248d69f1fe32f1ae619fd",
            "_dom_classes": [],
            "description": "pop_0_4",
            "_model_name": "FloatTextModel",
            "_view_module": "@jupyter-widgets/controls",
            "_model_module_version": "1.5.0",
            "value": 2419114,
            "_view_count": null,
            "disabled": false,
            "_view_module_version": "1.5.0",
            "continuous_update": false,
            "step": 1,
            "description_tooltip": null,
            "_model_module": "@jupyter-widgets/controls",
            "layout": "IPY_MODEL_0a47e56a2c494192b9ba28c0dcab3d03"
          }
        },
        "660366776c2248d69f1fe32f1ae619fd": {
          "model_module": "@jupyter-widgets/controls",
          "model_name": "DescriptionStyleModel",
          "state": {
            "_view_name": "StyleView",
            "_model_name": "DescriptionStyleModel",
            "description_width": "",
            "_view_module": "@jupyter-widgets/base",
            "_model_module_version": "1.5.0",
            "_view_count": null,
            "_view_module_version": "1.2.0",
            "_model_module": "@jupyter-widgets/controls"
          }
        },
        "0a47e56a2c494192b9ba28c0dcab3d03": {
          "model_module": "@jupyter-widgets/base",
          "model_name": "LayoutModel",
          "state": {
            "_view_name": "LayoutView",
            "grid_template_rows": null,
            "right": null,
            "justify_content": null,
            "_view_module": "@jupyter-widgets/base",
            "overflow": null,
            "_model_module_version": "1.2.0",
            "_view_count": null,
            "flex_flow": null,
            "width": null,
            "min_width": null,
            "border": null,
            "align_items": null,
            "bottom": null,
            "_model_module": "@jupyter-widgets/base",
            "top": null,
            "grid_column": null,
            "overflow_y": null,
            "overflow_x": null,
            "grid_auto_flow": null,
            "grid_area": null,
            "grid_template_columns": null,
            "flex": null,
            "_model_name": "LayoutModel",
            "justify_items": null,
            "grid_row": null,
            "max_height": null,
            "align_content": null,
            "visibility": null,
            "align_self": null,
            "height": null,
            "min_height": null,
            "padding": null,
            "grid_auto_rows": null,
            "grid_gap": null,
            "max_width": null,
            "order": null,
            "_view_module_version": "1.2.0",
            "grid_template_areas": null,
            "object_position": null,
            "object_fit": null,
            "grid_auto_columns": null,
            "margin": null,
            "display": null,
            "left": null
          }
        },
        "7a7e949a88004a25b90f3f462ccd8247": {
          "model_module": "@jupyter-widgets/controls",
          "model_name": "FloatTextModel",
          "state": {
            "_view_name": "FloatTextView",
            "style": "IPY_MODEL_45b66eecde7446f6bb40ef7160107a2d",
            "_dom_classes": [],
            "description": "pop_5_9",
            "_model_name": "FloatTextModel",
            "_view_module": "@jupyter-widgets/controls",
            "_model_module_version": "1.5.0",
            "value": 2742065,
            "_view_count": null,
            "disabled": false,
            "_view_module_version": "1.5.0",
            "continuous_update": false,
            "step": 1,
            "description_tooltip": null,
            "_model_module": "@jupyter-widgets/controls",
            "layout": "IPY_MODEL_50bb736cb89a4062b4f81bdd950fc99c"
          }
        },
        "45b66eecde7446f6bb40ef7160107a2d": {
          "model_module": "@jupyter-widgets/controls",
          "model_name": "DescriptionStyleModel",
          "state": {
            "_view_name": "StyleView",
            "_model_name": "DescriptionStyleModel",
            "description_width": "",
            "_view_module": "@jupyter-widgets/base",
            "_model_module_version": "1.5.0",
            "_view_count": null,
            "_view_module_version": "1.2.0",
            "_model_module": "@jupyter-widgets/controls"
          }
        },
        "50bb736cb89a4062b4f81bdd950fc99c": {
          "model_module": "@jupyter-widgets/base",
          "model_name": "LayoutModel",
          "state": {
            "_view_name": "LayoutView",
            "grid_template_rows": null,
            "right": null,
            "justify_content": null,
            "_view_module": "@jupyter-widgets/base",
            "overflow": null,
            "_model_module_version": "1.2.0",
            "_view_count": null,
            "flex_flow": null,
            "width": null,
            "min_width": null,
            "border": null,
            "align_items": null,
            "bottom": null,
            "_model_module": "@jupyter-widgets/base",
            "top": null,
            "grid_column": null,
            "overflow_y": null,
            "overflow_x": null,
            "grid_auto_flow": null,
            "grid_area": null,
            "grid_template_columns": null,
            "flex": null,
            "_model_name": "LayoutModel",
            "justify_items": null,
            "grid_row": null,
            "max_height": null,
            "align_content": null,
            "visibility": null,
            "align_self": null,
            "height": null,
            "min_height": null,
            "padding": null,
            "grid_auto_rows": null,
            "grid_gap": null,
            "max_width": null,
            "order": null,
            "_view_module_version": "1.2.0",
            "grid_template_areas": null,
            "object_position": null,
            "object_fit": null,
            "grid_auto_columns": null,
            "margin": null,
            "display": null,
            "left": null
          }
        },
        "61af4062482e49dea34900d3fee64cfd": {
          "model_module": "@jupyter-widgets/controls",
          "model_name": "FloatTextModel",
          "state": {
            "_view_name": "FloatTextView",
            "style": "IPY_MODEL_062d07234b3548fb8d419015b204ceff",
            "_dom_classes": [],
            "description": "pop_10_14",
            "_model_name": "FloatTextModel",
            "_view_module": "@jupyter-widgets/controls",
            "_model_module_version": "1.5.0",
            "value": 2653148,
            "_view_count": null,
            "disabled": false,
            "_view_module_version": "1.5.0",
            "continuous_update": false,
            "step": 1,
            "description_tooltip": null,
            "_model_module": "@jupyter-widgets/controls",
            "layout": "IPY_MODEL_42df82780bcb4c6a89d0b007d2c577ff"
          }
        },
        "062d07234b3548fb8d419015b204ceff": {
          "model_module": "@jupyter-widgets/controls",
          "model_name": "DescriptionStyleModel",
          "state": {
            "_view_name": "StyleView",
            "_model_name": "DescriptionStyleModel",
            "description_width": "",
            "_view_module": "@jupyter-widgets/base",
            "_model_module_version": "1.5.0",
            "_view_count": null,
            "_view_module_version": "1.2.0",
            "_model_module": "@jupyter-widgets/controls"
          }
        },
        "42df82780bcb4c6a89d0b007d2c577ff": {
          "model_module": "@jupyter-widgets/base",
          "model_name": "LayoutModel",
          "state": {
            "_view_name": "LayoutView",
            "grid_template_rows": null,
            "right": null,
            "justify_content": null,
            "_view_module": "@jupyter-widgets/base",
            "overflow": null,
            "_model_module_version": "1.2.0",
            "_view_count": null,
            "flex_flow": null,
            "width": null,
            "min_width": null,
            "border": null,
            "align_items": null,
            "bottom": null,
            "_model_module": "@jupyter-widgets/base",
            "top": null,
            "grid_column": null,
            "overflow_y": null,
            "overflow_x": null,
            "grid_auto_flow": null,
            "grid_area": null,
            "grid_template_columns": null,
            "flex": null,
            "_model_name": "LayoutModel",
            "justify_items": null,
            "grid_row": null,
            "max_height": null,
            "align_content": null,
            "visibility": null,
            "align_self": null,
            "height": null,
            "min_height": null,
            "padding": null,
            "grid_auto_rows": null,
            "grid_gap": null,
            "max_width": null,
            "order": null,
            "_view_module_version": "1.2.0",
            "grid_template_areas": null,
            "object_position": null,
            "object_fit": null,
            "grid_auto_columns": null,
            "margin": null,
            "display": null,
            "left": null
          }
        },
        "2b6b2f8579224103a8cf9eb97b2175f6": {
          "model_module": "@jupyter-widgets/controls",
          "model_name": "FloatTextModel",
          "state": {
            "_view_name": "FloatTextView",
            "style": "IPY_MODEL_0bf687b551e24b9ea2598d90df99820c",
            "_dom_classes": [],
            "description": "pop_15_19",
            "_model_name": "FloatTextModel",
            "_view_module": "@jupyter-widgets/controls",
            "_model_module_version": "1.5.0",
            "value": 2478474,
            "_view_count": null,
            "disabled": false,
            "_view_module_version": "1.5.0",
            "continuous_update": false,
            "step": 1,
            "description_tooltip": null,
            "_model_module": "@jupyter-widgets/controls",
            "layout": "IPY_MODEL_03f4f38a37d740ec9812e8a30015864a"
          }
        },
        "0bf687b551e24b9ea2598d90df99820c": {
          "model_module": "@jupyter-widgets/controls",
          "model_name": "DescriptionStyleModel",
          "state": {
            "_view_name": "StyleView",
            "_model_name": "DescriptionStyleModel",
            "description_width": "",
            "_view_module": "@jupyter-widgets/base",
            "_model_module_version": "1.5.0",
            "_view_count": null,
            "_view_module_version": "1.2.0",
            "_model_module": "@jupyter-widgets/controls"
          }
        },
        "03f4f38a37d740ec9812e8a30015864a": {
          "model_module": "@jupyter-widgets/base",
          "model_name": "LayoutModel",
          "state": {
            "_view_name": "LayoutView",
            "grid_template_rows": null,
            "right": null,
            "justify_content": null,
            "_view_module": "@jupyter-widgets/base",
            "overflow": null,
            "_model_module_version": "1.2.0",
            "_view_count": null,
            "flex_flow": null,
            "width": null,
            "min_width": null,
            "border": null,
            "align_items": null,
            "bottom": null,
            "_model_module": "@jupyter-widgets/base",
            "top": null,
            "grid_column": null,
            "overflow_y": null,
            "overflow_x": null,
            "grid_auto_flow": null,
            "grid_area": null,
            "grid_template_columns": null,
            "flex": null,
            "_model_name": "LayoutModel",
            "justify_items": null,
            "grid_row": null,
            "max_height": null,
            "align_content": null,
            "visibility": null,
            "align_self": null,
            "height": null,
            "min_height": null,
            "padding": null,
            "grid_auto_rows": null,
            "grid_gap": null,
            "max_width": null,
            "order": null,
            "_view_module_version": "1.2.0",
            "grid_template_areas": null,
            "object_position": null,
            "object_fit": null,
            "grid_auto_columns": null,
            "margin": null,
            "display": null,
            "left": null
          }
        },
        "19b79f78ab38473b96291a65f4faa9cc": {
          "model_module": "@jupyter-widgets/controls",
          "model_name": "FloatTextModel",
          "state": {
            "_view_name": "FloatTextView",
            "style": "IPY_MODEL_e6c707cd04b54b4bbd3f7080c0d15f73",
            "_dom_classes": [],
            "description": "pop_20_24",
            "_model_name": "FloatTextModel",
            "_view_module": "@jupyter-widgets/controls",
            "_model_module_version": "1.5.0",
            "value": 2162329,
            "_view_count": null,
            "disabled": false,
            "_view_module_version": "1.5.0",
            "continuous_update": false,
            "step": 1,
            "description_tooltip": null,
            "_model_module": "@jupyter-widgets/controls",
            "layout": "IPY_MODEL_fdbbe1f2a95a4e2f869803eb5b738be0"
          }
        },
        "e6c707cd04b54b4bbd3f7080c0d15f73": {
          "model_module": "@jupyter-widgets/controls",
          "model_name": "DescriptionStyleModel",
          "state": {
            "_view_name": "StyleView",
            "_model_name": "DescriptionStyleModel",
            "description_width": "",
            "_view_module": "@jupyter-widgets/base",
            "_model_module_version": "1.5.0",
            "_view_count": null,
            "_view_module_version": "1.2.0",
            "_model_module": "@jupyter-widgets/controls"
          }
        },
        "fdbbe1f2a95a4e2f869803eb5b738be0": {
          "model_module": "@jupyter-widgets/base",
          "model_name": "LayoutModel",
          "state": {
            "_view_name": "LayoutView",
            "grid_template_rows": null,
            "right": null,
            "justify_content": null,
            "_view_module": "@jupyter-widgets/base",
            "overflow": null,
            "_model_module_version": "1.2.0",
            "_view_count": null,
            "flex_flow": null,
            "width": null,
            "min_width": null,
            "border": null,
            "align_items": null,
            "bottom": null,
            "_model_module": "@jupyter-widgets/base",
            "top": null,
            "grid_column": null,
            "overflow_y": null,
            "overflow_x": null,
            "grid_auto_flow": null,
            "grid_area": null,
            "grid_template_columns": null,
            "flex": null,
            "_model_name": "LayoutModel",
            "justify_items": null,
            "grid_row": null,
            "max_height": null,
            "align_content": null,
            "visibility": null,
            "align_self": null,
            "height": null,
            "min_height": null,
            "padding": null,
            "grid_auto_rows": null,
            "grid_gap": null,
            "max_width": null,
            "order": null,
            "_view_module_version": "1.2.0",
            "grid_template_areas": null,
            "object_position": null,
            "object_fit": null,
            "grid_auto_columns": null,
            "margin": null,
            "display": null,
            "left": null
          }
        },
        "e1f931bd7e264996bb1f57529f5f0cba": {
          "model_module": "@jupyter-widgets/controls",
          "model_name": "FloatTextModel",
          "state": {
            "_view_name": "FloatTextView",
            "style": "IPY_MODEL_3834e3c28e0d441e85008cfff925b0a0",
            "_dom_classes": [],
            "description": "pop_25_29",
            "_model_name": "FloatTextModel",
            "_view_module": "@jupyter-widgets/controls",
            "_model_module_version": "1.5.0",
            "value": 2130779,
            "_view_count": null,
            "disabled": false,
            "_view_module_version": "1.5.0",
            "continuous_update": false,
            "step": 1,
            "description_tooltip": null,
            "_model_module": "@jupyter-widgets/controls",
            "layout": "IPY_MODEL_4bf840481a92484d9c3d8179ca183984"
          }
        },
        "3834e3c28e0d441e85008cfff925b0a0": {
          "model_module": "@jupyter-widgets/controls",
          "model_name": "DescriptionStyleModel",
          "state": {
            "_view_name": "StyleView",
            "_model_name": "DescriptionStyleModel",
            "description_width": "",
            "_view_module": "@jupyter-widgets/base",
            "_model_module_version": "1.5.0",
            "_view_count": null,
            "_view_module_version": "1.2.0",
            "_model_module": "@jupyter-widgets/controls"
          }
        },
        "4bf840481a92484d9c3d8179ca183984": {
          "model_module": "@jupyter-widgets/base",
          "model_name": "LayoutModel",
          "state": {
            "_view_name": "LayoutView",
            "grid_template_rows": null,
            "right": null,
            "justify_content": null,
            "_view_module": "@jupyter-widgets/base",
            "overflow": null,
            "_model_module_version": "1.2.0",
            "_view_count": null,
            "flex_flow": null,
            "width": null,
            "min_width": null,
            "border": null,
            "align_items": null,
            "bottom": null,
            "_model_module": "@jupyter-widgets/base",
            "top": null,
            "grid_column": null,
            "overflow_y": null,
            "overflow_x": null,
            "grid_auto_flow": null,
            "grid_area": null,
            "grid_template_columns": null,
            "flex": null,
            "_model_name": "LayoutModel",
            "justify_items": null,
            "grid_row": null,
            "max_height": null,
            "align_content": null,
            "visibility": null,
            "align_self": null,
            "height": null,
            "min_height": null,
            "padding": null,
            "grid_auto_rows": null,
            "grid_gap": null,
            "max_width": null,
            "order": null,
            "_view_module_version": "1.2.0",
            "grid_template_areas": null,
            "object_position": null,
            "object_fit": null,
            "grid_auto_columns": null,
            "margin": null,
            "display": null,
            "left": null
          }
        },
        "3b061238c3be4470966e0bf574c451c1": {
          "model_module": "@jupyter-widgets/controls",
          "model_name": "FloatTextModel",
          "state": {
            "_view_name": "FloatTextView",
            "style": "IPY_MODEL_5f238c69f3a7458c822a0f786981a56a",
            "_dom_classes": [],
            "description": "pop_30_34",
            "_model_name": "FloatTextModel",
            "_view_module": "@jupyter-widgets/controls",
            "_model_module_version": "1.5.0",
            "value": 2125051,
            "_view_count": null,
            "disabled": false,
            "_view_module_version": "1.5.0",
            "continuous_update": false,
            "step": 1,
            "description_tooltip": null,
            "_model_module": "@jupyter-widgets/controls",
            "layout": "IPY_MODEL_03249019ae9a4917812a4bb4b9220cfb"
          }
        },
        "5f238c69f3a7458c822a0f786981a56a": {
          "model_module": "@jupyter-widgets/controls",
          "model_name": "DescriptionStyleModel",
          "state": {
            "_view_name": "StyleView",
            "_model_name": "DescriptionStyleModel",
            "description_width": "",
            "_view_module": "@jupyter-widgets/base",
            "_model_module_version": "1.5.0",
            "_view_count": null,
            "_view_module_version": "1.2.0",
            "_model_module": "@jupyter-widgets/controls"
          }
        },
        "03249019ae9a4917812a4bb4b9220cfb": {
          "model_module": "@jupyter-widgets/base",
          "model_name": "LayoutModel",
          "state": {
            "_view_name": "LayoutView",
            "grid_template_rows": null,
            "right": null,
            "justify_content": null,
            "_view_module": "@jupyter-widgets/base",
            "overflow": null,
            "_model_module_version": "1.2.0",
            "_view_count": null,
            "flex_flow": null,
            "width": null,
            "min_width": null,
            "border": null,
            "align_items": null,
            "bottom": null,
            "_model_module": "@jupyter-widgets/base",
            "top": null,
            "grid_column": null,
            "overflow_y": null,
            "overflow_x": null,
            "grid_auto_flow": null,
            "grid_area": null,
            "grid_template_columns": null,
            "flex": null,
            "_model_name": "LayoutModel",
            "justify_items": null,
            "grid_row": null,
            "max_height": null,
            "align_content": null,
            "visibility": null,
            "align_self": null,
            "height": null,
            "min_height": null,
            "padding": null,
            "grid_auto_rows": null,
            "grid_gap": null,
            "max_width": null,
            "order": null,
            "_view_module_version": "1.2.0",
            "grid_template_areas": null,
            "object_position": null,
            "object_fit": null,
            "grid_auto_columns": null,
            "margin": null,
            "display": null,
            "left": null
          }
        },
        "f8080987c75b49d8b9280936d98828e3": {
          "model_module": "@jupyter-widgets/controls",
          "model_name": "FloatTextModel",
          "state": {
            "_view_name": "FloatTextView",
            "style": "IPY_MODEL_8074516393384e20b8ade549a6238ad4",
            "_dom_classes": [],
            "description": "pop_35_39",
            "_model_name": "FloatTextModel",
            "_view_module": "@jupyter-widgets/controls",
            "_model_module_version": "1.5.0",
            "value": 1987068,
            "_view_count": null,
            "disabled": false,
            "_view_module_version": "1.5.0",
            "continuous_update": false,
            "step": 1,
            "description_tooltip": null,
            "_model_module": "@jupyter-widgets/controls",
            "layout": "IPY_MODEL_7ced6cf78eb240efbe08c3136e77cb8e"
          }
        },
        "8074516393384e20b8ade549a6238ad4": {
          "model_module": "@jupyter-widgets/controls",
          "model_name": "DescriptionStyleModel",
          "state": {
            "_view_name": "StyleView",
            "_model_name": "DescriptionStyleModel",
            "description_width": "",
            "_view_module": "@jupyter-widgets/base",
            "_model_module_version": "1.5.0",
            "_view_count": null,
            "_view_module_version": "1.2.0",
            "_model_module": "@jupyter-widgets/controls"
          }
        },
        "7ced6cf78eb240efbe08c3136e77cb8e": {
          "model_module": "@jupyter-widgets/base",
          "model_name": "LayoutModel",
          "state": {
            "_view_name": "LayoutView",
            "grid_template_rows": null,
            "right": null,
            "justify_content": null,
            "_view_module": "@jupyter-widgets/base",
            "overflow": null,
            "_model_module_version": "1.2.0",
            "_view_count": null,
            "flex_flow": null,
            "width": null,
            "min_width": null,
            "border": null,
            "align_items": null,
            "bottom": null,
            "_model_module": "@jupyter-widgets/base",
            "top": null,
            "grid_column": null,
            "overflow_y": null,
            "overflow_x": null,
            "grid_auto_flow": null,
            "grid_area": null,
            "grid_template_columns": null,
            "flex": null,
            "_model_name": "LayoutModel",
            "justify_items": null,
            "grid_row": null,
            "max_height": null,
            "align_content": null,
            "visibility": null,
            "align_self": null,
            "height": null,
            "min_height": null,
            "padding": null,
            "grid_auto_rows": null,
            "grid_gap": null,
            "max_width": null,
            "order": null,
            "_view_module_version": "1.2.0",
            "grid_template_areas": null,
            "object_position": null,
            "object_fit": null,
            "grid_auto_columns": null,
            "margin": null,
            "display": null,
            "left": null
          }
        },
        "aec3f3232caf4e6fbf77e207d35e50d7": {
          "model_module": "@jupyter-widgets/controls",
          "model_name": "FloatTextModel",
          "state": {
            "_view_name": "FloatTextView",
            "style": "IPY_MODEL_4859bff59a634a969a3ad365278b5484",
            "_dom_classes": [],
            "description": "pop_40_44",
            "_model_name": "FloatTextModel",
            "_view_module": "@jupyter-widgets/controls",
            "_model_module_version": "1.5.0",
            "value": 1862545,
            "_view_count": null,
            "disabled": false,
            "_view_module_version": "1.5.0",
            "continuous_update": false,
            "step": 1,
            "description_tooltip": null,
            "_model_module": "@jupyter-widgets/controls",
            "layout": "IPY_MODEL_0e37c21e5b35461c9fa7d1df000a7d42"
          }
        },
        "4859bff59a634a969a3ad365278b5484": {
          "model_module": "@jupyter-widgets/controls",
          "model_name": "DescriptionStyleModel",
          "state": {
            "_view_name": "StyleView",
            "_model_name": "DescriptionStyleModel",
            "description_width": "",
            "_view_module": "@jupyter-widgets/base",
            "_model_module_version": "1.5.0",
            "_view_count": null,
            "_view_module_version": "1.2.0",
            "_model_module": "@jupyter-widgets/controls"
          }
        },
        "0e37c21e5b35461c9fa7d1df000a7d42": {
          "model_module": "@jupyter-widgets/base",
          "model_name": "LayoutModel",
          "state": {
            "_view_name": "LayoutView",
            "grid_template_rows": null,
            "right": null,
            "justify_content": null,
            "_view_module": "@jupyter-widgets/base",
            "overflow": null,
            "_model_module_version": "1.2.0",
            "_view_count": null,
            "flex_flow": null,
            "width": null,
            "min_width": null,
            "border": null,
            "align_items": null,
            "bottom": null,
            "_model_module": "@jupyter-widgets/base",
            "top": null,
            "grid_column": null,
            "overflow_y": null,
            "overflow_x": null,
            "grid_auto_flow": null,
            "grid_area": null,
            "grid_template_columns": null,
            "flex": null,
            "_model_name": "LayoutModel",
            "justify_items": null,
            "grid_row": null,
            "max_height": null,
            "align_content": null,
            "visibility": null,
            "align_self": null,
            "height": null,
            "min_height": null,
            "padding": null,
            "grid_auto_rows": null,
            "grid_gap": null,
            "max_width": null,
            "order": null,
            "_view_module_version": "1.2.0",
            "grid_template_areas": null,
            "object_position": null,
            "object_fit": null,
            "grid_auto_columns": null,
            "margin": null,
            "display": null,
            "left": null
          }
        },
        "38a34d2f05b245b49cd5ebe863ca65a1": {
          "model_module": "@jupyter-widgets/controls",
          "model_name": "FloatTextModel",
          "state": {
            "_view_name": "FloatTextView",
            "style": "IPY_MODEL_01ec408aa9094d15903a870cbf732596",
            "_dom_classes": [],
            "description": "pop_45_49",
            "_model_name": "FloatTextModel",
            "_view_module": "@jupyter-widgets/controls",
            "_model_module_version": "1.5.0",
            "value": 1688822,
            "_view_count": null,
            "disabled": false,
            "_view_module_version": "1.5.0",
            "continuous_update": false,
            "step": 1,
            "description_tooltip": null,
            "_model_module": "@jupyter-widgets/controls",
            "layout": "IPY_MODEL_ea8ba5295c094b0085101b122891a88c"
          }
        },
        "01ec408aa9094d15903a870cbf732596": {
          "model_module": "@jupyter-widgets/controls",
          "model_name": "DescriptionStyleModel",
          "state": {
            "_view_name": "StyleView",
            "_model_name": "DescriptionStyleModel",
            "description_width": "",
            "_view_module": "@jupyter-widgets/base",
            "_model_module_version": "1.5.0",
            "_view_count": null,
            "_view_module_version": "1.2.0",
            "_model_module": "@jupyter-widgets/controls"
          }
        },
        "ea8ba5295c094b0085101b122891a88c": {
          "model_module": "@jupyter-widgets/base",
          "model_name": "LayoutModel",
          "state": {
            "_view_name": "LayoutView",
            "grid_template_rows": null,
            "right": null,
            "justify_content": null,
            "_view_module": "@jupyter-widgets/base",
            "overflow": null,
            "_model_module_version": "1.2.0",
            "_view_count": null,
            "flex_flow": null,
            "width": null,
            "min_width": null,
            "border": null,
            "align_items": null,
            "bottom": null,
            "_model_module": "@jupyter-widgets/base",
            "top": null,
            "grid_column": null,
            "overflow_y": null,
            "overflow_x": null,
            "grid_auto_flow": null,
            "grid_area": null,
            "grid_template_columns": null,
            "flex": null,
            "_model_name": "LayoutModel",
            "justify_items": null,
            "grid_row": null,
            "max_height": null,
            "align_content": null,
            "visibility": null,
            "align_self": null,
            "height": null,
            "min_height": null,
            "padding": null,
            "grid_auto_rows": null,
            "grid_gap": null,
            "max_width": null,
            "order": null,
            "_view_module_version": "1.2.0",
            "grid_template_areas": null,
            "object_position": null,
            "object_fit": null,
            "grid_auto_columns": null,
            "margin": null,
            "display": null,
            "left": null
          }
        },
        "8e323a44558c46a6b8a6b3dca9757830": {
          "model_module": "@jupyter-widgets/controls",
          "model_name": "FloatTextModel",
          "state": {
            "_view_name": "FloatTextView",
            "style": "IPY_MODEL_176606bf41054b4395ad0cb3c5ae5b45",
            "_dom_classes": [],
            "description": "pop_50_54",
            "_model_name": "FloatTextModel",
            "_view_module": "@jupyter-widgets/controls",
            "_model_module_version": "1.5.0",
            "value": 1582057,
            "_view_count": null,
            "disabled": false,
            "_view_module_version": "1.5.0",
            "continuous_update": false,
            "step": 1,
            "description_tooltip": null,
            "_model_module": "@jupyter-widgets/controls",
            "layout": "IPY_MODEL_c53dbdbf44eb4c6889cea65864432b42"
          }
        },
        "176606bf41054b4395ad0cb3c5ae5b45": {
          "model_module": "@jupyter-widgets/controls",
          "model_name": "DescriptionStyleModel",
          "state": {
            "_view_name": "StyleView",
            "_model_name": "DescriptionStyleModel",
            "description_width": "",
            "_view_module": "@jupyter-widgets/base",
            "_model_module_version": "1.5.0",
            "_view_count": null,
            "_view_module_version": "1.2.0",
            "_model_module": "@jupyter-widgets/controls"
          }
        },
        "c53dbdbf44eb4c6889cea65864432b42": {
          "model_module": "@jupyter-widgets/base",
          "model_name": "LayoutModel",
          "state": {
            "_view_name": "LayoutView",
            "grid_template_rows": null,
            "right": null,
            "justify_content": null,
            "_view_module": "@jupyter-widgets/base",
            "overflow": null,
            "_model_module_version": "1.2.0",
            "_view_count": null,
            "flex_flow": null,
            "width": null,
            "min_width": null,
            "border": null,
            "align_items": null,
            "bottom": null,
            "_model_module": "@jupyter-widgets/base",
            "top": null,
            "grid_column": null,
            "overflow_y": null,
            "overflow_x": null,
            "grid_auto_flow": null,
            "grid_area": null,
            "grid_template_columns": null,
            "flex": null,
            "_model_name": "LayoutModel",
            "justify_items": null,
            "grid_row": null,
            "max_height": null,
            "align_content": null,
            "visibility": null,
            "align_self": null,
            "height": null,
            "min_height": null,
            "padding": null,
            "grid_auto_rows": null,
            "grid_gap": null,
            "max_width": null,
            "order": null,
            "_view_module_version": "1.2.0",
            "grid_template_areas": null,
            "object_position": null,
            "object_fit": null,
            "grid_auto_columns": null,
            "margin": null,
            "display": null,
            "left": null
          }
        },
        "cda948b1b563441097a2ae101334aa8c": {
          "model_module": "@jupyter-widgets/controls",
          "model_name": "FloatTextModel",
          "state": {
            "_view_name": "FloatTextView",
            "style": "IPY_MODEL_52a84868a4864856894a1bc075d081b1",
            "_dom_classes": [],
            "description": "pop_55_59",
            "_model_name": "FloatTextModel",
            "_view_module": "@jupyter-widgets/controls",
            "_model_module_version": "1.5.0",
            "value": 1382558,
            "_view_count": null,
            "disabled": false,
            "_view_module_version": "1.5.0",
            "continuous_update": false,
            "step": 1,
            "description_tooltip": null,
            "_model_module": "@jupyter-widgets/controls",
            "layout": "IPY_MODEL_7cf6902b039f445d8c84bf508119602e"
          }
        },
        "52a84868a4864856894a1bc075d081b1": {
          "model_module": "@jupyter-widgets/controls",
          "model_name": "DescriptionStyleModel",
          "state": {
            "_view_name": "StyleView",
            "_model_name": "DescriptionStyleModel",
            "description_width": "",
            "_view_module": "@jupyter-widgets/base",
            "_model_module_version": "1.5.0",
            "_view_count": null,
            "_view_module_version": "1.2.0",
            "_model_module": "@jupyter-widgets/controls"
          }
        },
        "7cf6902b039f445d8c84bf508119602e": {
          "model_module": "@jupyter-widgets/base",
          "model_name": "LayoutModel",
          "state": {
            "_view_name": "LayoutView",
            "grid_template_rows": null,
            "right": null,
            "justify_content": null,
            "_view_module": "@jupyter-widgets/base",
            "overflow": null,
            "_model_module_version": "1.2.0",
            "_view_count": null,
            "flex_flow": null,
            "width": null,
            "min_width": null,
            "border": null,
            "align_items": null,
            "bottom": null,
            "_model_module": "@jupyter-widgets/base",
            "top": null,
            "grid_column": null,
            "overflow_y": null,
            "overflow_x": null,
            "grid_auto_flow": null,
            "grid_area": null,
            "grid_template_columns": null,
            "flex": null,
            "_model_name": "LayoutModel",
            "justify_items": null,
            "grid_row": null,
            "max_height": null,
            "align_content": null,
            "visibility": null,
            "align_self": null,
            "height": null,
            "min_height": null,
            "padding": null,
            "grid_auto_rows": null,
            "grid_gap": null,
            "max_width": null,
            "order": null,
            "_view_module_version": "1.2.0",
            "grid_template_areas": null,
            "object_position": null,
            "object_fit": null,
            "grid_auto_columns": null,
            "margin": null,
            "display": null,
            "left": null
          }
        },
        "b6dddf754cc449269ef5050749ba6590": {
          "model_module": "@jupyter-widgets/controls",
          "model_name": "FloatTextModel",
          "state": {
            "_view_name": "FloatTextView",
            "style": "IPY_MODEL_6f768516b4d447de8acc4983736be978",
            "_dom_classes": [],
            "description": "pop_60_64",
            "_model_name": "FloatTextModel",
            "_view_module": "@jupyter-widgets/controls",
            "_model_module_version": "1.5.0",
            "value": 1131313,
            "_view_count": null,
            "disabled": false,
            "_view_module_version": "1.5.0",
            "continuous_update": false,
            "step": 1,
            "description_tooltip": null,
            "_model_module": "@jupyter-widgets/controls",
            "layout": "IPY_MODEL_47353fabe3184f49ad7eb7c9cc184bdd"
          }
        },
        "6f768516b4d447de8acc4983736be978": {
          "model_module": "@jupyter-widgets/controls",
          "model_name": "DescriptionStyleModel",
          "state": {
            "_view_name": "StyleView",
            "_model_name": "DescriptionStyleModel",
            "description_width": "",
            "_view_module": "@jupyter-widgets/base",
            "_model_module_version": "1.5.0",
            "_view_count": null,
            "_view_module_version": "1.2.0",
            "_model_module": "@jupyter-widgets/controls"
          }
        },
        "47353fabe3184f49ad7eb7c9cc184bdd": {
          "model_module": "@jupyter-widgets/base",
          "model_name": "LayoutModel",
          "state": {
            "_view_name": "LayoutView",
            "grid_template_rows": null,
            "right": null,
            "justify_content": null,
            "_view_module": "@jupyter-widgets/base",
            "overflow": null,
            "_model_module_version": "1.2.0",
            "_view_count": null,
            "flex_flow": null,
            "width": null,
            "min_width": null,
            "border": null,
            "align_items": null,
            "bottom": null,
            "_model_module": "@jupyter-widgets/base",
            "top": null,
            "grid_column": null,
            "overflow_y": null,
            "overflow_x": null,
            "grid_auto_flow": null,
            "grid_area": null,
            "grid_template_columns": null,
            "flex": null,
            "_model_name": "LayoutModel",
            "justify_items": null,
            "grid_row": null,
            "max_height": null,
            "align_content": null,
            "visibility": null,
            "align_self": null,
            "height": null,
            "min_height": null,
            "padding": null,
            "grid_auto_rows": null,
            "grid_gap": null,
            "max_width": null,
            "order": null,
            "_view_module_version": "1.2.0",
            "grid_template_areas": null,
            "object_position": null,
            "object_fit": null,
            "grid_auto_columns": null,
            "margin": null,
            "display": null,
            "left": null
          }
        },
        "17780789c0bc4a41b42be8c89a8d6523": {
          "model_module": "@jupyter-widgets/controls",
          "model_name": "FloatTextModel",
          "state": {
            "_view_name": "FloatTextView",
            "style": "IPY_MODEL_c80baefc5e2b4df79214deb429c9cff7",
            "_dom_classes": [],
            "description": "pop_65_69",
            "_model_name": "FloatTextModel",
            "_view_module": "@jupyter-widgets/controls",
            "_model_module_version": "1.5.0",
            "value": 823993,
            "_view_count": null,
            "disabled": false,
            "_view_module_version": "1.5.0",
            "continuous_update": false,
            "step": 1,
            "description_tooltip": null,
            "_model_module": "@jupyter-widgets/controls",
            "layout": "IPY_MODEL_915cd6b3231b492fbb35c1ba9a817b22"
          }
        },
        "c80baefc5e2b4df79214deb429c9cff7": {
          "model_module": "@jupyter-widgets/controls",
          "model_name": "DescriptionStyleModel",
          "state": {
            "_view_name": "StyleView",
            "_model_name": "DescriptionStyleModel",
            "description_width": "",
            "_view_module": "@jupyter-widgets/base",
            "_model_module_version": "1.5.0",
            "_view_count": null,
            "_view_module_version": "1.2.0",
            "_model_module": "@jupyter-widgets/controls"
          }
        },
        "915cd6b3231b492fbb35c1ba9a817b22": {
          "model_module": "@jupyter-widgets/base",
          "model_name": "LayoutModel",
          "state": {
            "_view_name": "LayoutView",
            "grid_template_rows": null,
            "right": null,
            "justify_content": null,
            "_view_module": "@jupyter-widgets/base",
            "overflow": null,
            "_model_module_version": "1.2.0",
            "_view_count": null,
            "flex_flow": null,
            "width": null,
            "min_width": null,
            "border": null,
            "align_items": null,
            "bottom": null,
            "_model_module": "@jupyter-widgets/base",
            "top": null,
            "grid_column": null,
            "overflow_y": null,
            "overflow_x": null,
            "grid_auto_flow": null,
            "grid_area": null,
            "grid_template_columns": null,
            "flex": null,
            "_model_name": "LayoutModel",
            "justify_items": null,
            "grid_row": null,
            "max_height": null,
            "align_content": null,
            "visibility": null,
            "align_self": null,
            "height": null,
            "min_height": null,
            "padding": null,
            "grid_auto_rows": null,
            "grid_gap": null,
            "max_width": null,
            "order": null,
            "_view_module_version": "1.2.0",
            "grid_template_areas": null,
            "object_position": null,
            "object_fit": null,
            "grid_auto_columns": null,
            "margin": null,
            "display": null,
            "left": null
          }
        },
        "72f7e57fb92040e8bec4f5bdf0e908f7": {
          "model_module": "@jupyter-widgets/controls",
          "model_name": "FloatTextModel",
          "state": {
            "_view_name": "FloatTextView",
            "style": "IPY_MODEL_81385cf566cd4063a38dbb8e5cde8b94",
            "_dom_classes": [],
            "description": "pop_70_74",
            "_model_name": "FloatTextModel",
            "_view_module": "@jupyter-widgets/controls",
            "_model_module_version": "1.5.0",
            "value": 576310,
            "_view_count": null,
            "disabled": false,
            "_view_module_version": "1.5.0",
            "continuous_update": false,
            "step": 1,
            "description_tooltip": null,
            "_model_module": "@jupyter-widgets/controls",
            "layout": "IPY_MODEL_230487908a224cab9ad206e2ed58a241"
          }
        },
        "81385cf566cd4063a38dbb8e5cde8b94": {
          "model_module": "@jupyter-widgets/controls",
          "model_name": "DescriptionStyleModel",
          "state": {
            "_view_name": "StyleView",
            "_model_name": "DescriptionStyleModel",
            "description_width": "",
            "_view_module": "@jupyter-widgets/base",
            "_model_module_version": "1.5.0",
            "_view_count": null,
            "_view_module_version": "1.2.0",
            "_model_module": "@jupyter-widgets/controls"
          }
        },
        "230487908a224cab9ad206e2ed58a241": {
          "model_module": "@jupyter-widgets/base",
          "model_name": "LayoutModel",
          "state": {
            "_view_name": "LayoutView",
            "grid_template_rows": null,
            "right": null,
            "justify_content": null,
            "_view_module": "@jupyter-widgets/base",
            "overflow": null,
            "_model_module_version": "1.2.0",
            "_view_count": null,
            "flex_flow": null,
            "width": null,
            "min_width": null,
            "border": null,
            "align_items": null,
            "bottom": null,
            "_model_module": "@jupyter-widgets/base",
            "top": null,
            "grid_column": null,
            "overflow_y": null,
            "overflow_x": null,
            "grid_auto_flow": null,
            "grid_area": null,
            "grid_template_columns": null,
            "flex": null,
            "_model_name": "LayoutModel",
            "justify_items": null,
            "grid_row": null,
            "max_height": null,
            "align_content": null,
            "visibility": null,
            "align_self": null,
            "height": null,
            "min_height": null,
            "padding": null,
            "grid_auto_rows": null,
            "grid_gap": null,
            "max_width": null,
            "order": null,
            "_view_module_version": "1.2.0",
            "grid_template_areas": null,
            "object_position": null,
            "object_fit": null,
            "grid_auto_columns": null,
            "margin": null,
            "display": null,
            "left": null
          }
        },
        "84fe8b1f8a0f4e618ab16aa9b5bfa550": {
          "model_module": "@jupyter-widgets/controls",
          "model_name": "FloatTextModel",
          "state": {
            "_view_name": "FloatTextView",
            "style": "IPY_MODEL_ccc77c50673c4e2cb960e745b7e9d424",
            "_dom_classes": [],
            "description": "pop_75_79",
            "_model_name": "FloatTextModel",
            "_view_module": "@jupyter-widgets/controls",
            "_model_module_version": "1.5.0",
            "value": 370146,
            "_view_count": null,
            "disabled": false,
            "_view_module_version": "1.5.0",
            "continuous_update": false,
            "step": 1,
            "description_tooltip": null,
            "_model_module": "@jupyter-widgets/controls",
            "layout": "IPY_MODEL_d7fa5194f70a42cf8720e8a2c202f9f4"
          }
        },
        "ccc77c50673c4e2cb960e745b7e9d424": {
          "model_module": "@jupyter-widgets/controls",
          "model_name": "DescriptionStyleModel",
          "state": {
            "_view_name": "StyleView",
            "_model_name": "DescriptionStyleModel",
            "description_width": "",
            "_view_module": "@jupyter-widgets/base",
            "_model_module_version": "1.5.0",
            "_view_count": null,
            "_view_module_version": "1.2.0",
            "_model_module": "@jupyter-widgets/controls"
          }
        },
        "d7fa5194f70a42cf8720e8a2c202f9f4": {
          "model_module": "@jupyter-widgets/base",
          "model_name": "LayoutModel",
          "state": {
            "_view_name": "LayoutView",
            "grid_template_rows": null,
            "right": null,
            "justify_content": null,
            "_view_module": "@jupyter-widgets/base",
            "overflow": null,
            "_model_module_version": "1.2.0",
            "_view_count": null,
            "flex_flow": null,
            "width": null,
            "min_width": null,
            "border": null,
            "align_items": null,
            "bottom": null,
            "_model_module": "@jupyter-widgets/base",
            "top": null,
            "grid_column": null,
            "overflow_y": null,
            "overflow_x": null,
            "grid_auto_flow": null,
            "grid_area": null,
            "grid_template_columns": null,
            "flex": null,
            "_model_name": "LayoutModel",
            "justify_items": null,
            "grid_row": null,
            "max_height": null,
            "align_content": null,
            "visibility": null,
            "align_self": null,
            "height": null,
            "min_height": null,
            "padding": null,
            "grid_auto_rows": null,
            "grid_gap": null,
            "max_width": null,
            "order": null,
            "_view_module_version": "1.2.0",
            "grid_template_areas": null,
            "object_position": null,
            "object_fit": null,
            "grid_auto_columns": null,
            "margin": null,
            "display": null,
            "left": null
          }
        },
        "ac3031cf8a1941d09b3be83b64b51eb5": {
          "model_module": "@jupyter-widgets/controls",
          "model_name": "FloatTextModel",
          "state": {
            "_view_name": "FloatTextView",
            "style": "IPY_MODEL_a1ece07124f04d718abe192607eba48b",
            "_dom_classes": [],
            "description": "pop_80_84",
            "_model_name": "FloatTextModel",
            "_view_module": "@jupyter-widgets/controls",
            "_model_module_version": "1.5.0",
            "value": 218816,
            "_view_count": null,
            "disabled": false,
            "_view_module_version": "1.5.0",
            "continuous_update": false,
            "step": 1,
            "description_tooltip": null,
            "_model_module": "@jupyter-widgets/controls",
            "layout": "IPY_MODEL_88e593095adb437587b14eb32eed777d"
          }
        },
        "a1ece07124f04d718abe192607eba48b": {
          "model_module": "@jupyter-widgets/controls",
          "model_name": "DescriptionStyleModel",
          "state": {
            "_view_name": "StyleView",
            "_model_name": "DescriptionStyleModel",
            "description_width": "",
            "_view_module": "@jupyter-widgets/base",
            "_model_module_version": "1.5.0",
            "_view_count": null,
            "_view_module_version": "1.2.0",
            "_model_module": "@jupyter-widgets/controls"
          }
        },
        "88e593095adb437587b14eb32eed777d": {
          "model_module": "@jupyter-widgets/base",
          "model_name": "LayoutModel",
          "state": {
            "_view_name": "LayoutView",
            "grid_template_rows": null,
            "right": null,
            "justify_content": null,
            "_view_module": "@jupyter-widgets/base",
            "overflow": null,
            "_model_module_version": "1.2.0",
            "_view_count": null,
            "flex_flow": null,
            "width": null,
            "min_width": null,
            "border": null,
            "align_items": null,
            "bottom": null,
            "_model_module": "@jupyter-widgets/base",
            "top": null,
            "grid_column": null,
            "overflow_y": null,
            "overflow_x": null,
            "grid_auto_flow": null,
            "grid_area": null,
            "grid_template_columns": null,
            "flex": null,
            "_model_name": "LayoutModel",
            "justify_items": null,
            "grid_row": null,
            "max_height": null,
            "align_content": null,
            "visibility": null,
            "align_self": null,
            "height": null,
            "min_height": null,
            "padding": null,
            "grid_auto_rows": null,
            "grid_gap": null,
            "max_width": null,
            "order": null,
            "_view_module_version": "1.2.0",
            "grid_template_areas": null,
            "object_position": null,
            "object_fit": null,
            "grid_auto_columns": null,
            "margin": null,
            "display": null,
            "left": null
          }
        },
        "77f8d7fe906540eda12754a955009bc9": {
          "model_module": "@jupyter-widgets/controls",
          "model_name": "FloatTextModel",
          "state": {
            "_view_name": "FloatTextView",
            "style": "IPY_MODEL_929f548b228840499507e1b7f626f15e",
            "_dom_classes": [],
            "description": "pop_85_89",
            "_model_name": "FloatTextModel",
            "_view_module": "@jupyter-widgets/controls",
            "_model_module_version": "1.5.0",
            "value": 114862,
            "_view_count": null,
            "disabled": false,
            "_view_module_version": "1.5.0",
            "continuous_update": false,
            "step": 1,
            "description_tooltip": null,
            "_model_module": "@jupyter-widgets/controls",
            "layout": "IPY_MODEL_79221259ef214ea7bdd22f1cfcb63271"
          }
        },
        "929f548b228840499507e1b7f626f15e": {
          "model_module": "@jupyter-widgets/controls",
          "model_name": "DescriptionStyleModel",
          "state": {
            "_view_name": "StyleView",
            "_model_name": "DescriptionStyleModel",
            "description_width": "",
            "_view_module": "@jupyter-widgets/base",
            "_model_module_version": "1.5.0",
            "_view_count": null,
            "_view_module_version": "1.2.0",
            "_model_module": "@jupyter-widgets/controls"
          }
        },
        "79221259ef214ea7bdd22f1cfcb63271": {
          "model_module": "@jupyter-widgets/base",
          "model_name": "LayoutModel",
          "state": {
            "_view_name": "LayoutView",
            "grid_template_rows": null,
            "right": null,
            "justify_content": null,
            "_view_module": "@jupyter-widgets/base",
            "overflow": null,
            "_model_module_version": "1.2.0",
            "_view_count": null,
            "flex_flow": null,
            "width": null,
            "min_width": null,
            "border": null,
            "align_items": null,
            "bottom": null,
            "_model_module": "@jupyter-widgets/base",
            "top": null,
            "grid_column": null,
            "overflow_y": null,
            "overflow_x": null,
            "grid_auto_flow": null,
            "grid_area": null,
            "grid_template_columns": null,
            "flex": null,
            "_model_name": "LayoutModel",
            "justify_items": null,
            "grid_row": null,
            "max_height": null,
            "align_content": null,
            "visibility": null,
            "align_self": null,
            "height": null,
            "min_height": null,
            "padding": null,
            "grid_auto_rows": null,
            "grid_gap": null,
            "max_width": null,
            "order": null,
            "_view_module_version": "1.2.0",
            "grid_template_areas": null,
            "object_position": null,
            "object_fit": null,
            "grid_auto_columns": null,
            "margin": null,
            "display": null,
            "left": null
          }
        },
        "2acc101a45d64490a9fcd6edefa1e140": {
          "model_module": "@jupyter-widgets/controls",
          "model_name": "FloatTextModel",
          "state": {
            "_view_name": "FloatTextView",
            "style": "IPY_MODEL_6c513fac5f48489ea890abd9f6fb4082",
            "_dom_classes": [],
            "description": "pop_90_94",
            "_model_name": "FloatTextModel",
            "_view_module": "@jupyter-widgets/controls",
            "_model_module_version": "1.5.0",
            "value": 48126,
            "_view_count": null,
            "disabled": false,
            "_view_module_version": "1.5.0",
            "continuous_update": false,
            "step": 1,
            "description_tooltip": null,
            "_model_module": "@jupyter-widgets/controls",
            "layout": "IPY_MODEL_4d3ed069a34d4218b9fa99a049038b5e"
          }
        },
        "6c513fac5f48489ea890abd9f6fb4082": {
          "model_module": "@jupyter-widgets/controls",
          "model_name": "DescriptionStyleModel",
          "state": {
            "_view_name": "StyleView",
            "_model_name": "DescriptionStyleModel",
            "description_width": "",
            "_view_module": "@jupyter-widgets/base",
            "_model_module_version": "1.5.0",
            "_view_count": null,
            "_view_module_version": "1.2.0",
            "_model_module": "@jupyter-widgets/controls"
          }
        },
        "4d3ed069a34d4218b9fa99a049038b5e": {
          "model_module": "@jupyter-widgets/base",
          "model_name": "LayoutModel",
          "state": {
            "_view_name": "LayoutView",
            "grid_template_rows": null,
            "right": null,
            "justify_content": null,
            "_view_module": "@jupyter-widgets/base",
            "overflow": null,
            "_model_module_version": "1.2.0",
            "_view_count": null,
            "flex_flow": null,
            "width": null,
            "min_width": null,
            "border": null,
            "align_items": null,
            "bottom": null,
            "_model_module": "@jupyter-widgets/base",
            "top": null,
            "grid_column": null,
            "overflow_y": null,
            "overflow_x": null,
            "grid_auto_flow": null,
            "grid_area": null,
            "grid_template_columns": null,
            "flex": null,
            "_model_name": "LayoutModel",
            "justify_items": null,
            "grid_row": null,
            "max_height": null,
            "align_content": null,
            "visibility": null,
            "align_self": null,
            "height": null,
            "min_height": null,
            "padding": null,
            "grid_auto_rows": null,
            "grid_gap": null,
            "max_width": null,
            "order": null,
            "_view_module_version": "1.2.0",
            "grid_template_areas": null,
            "object_position": null,
            "object_fit": null,
            "grid_auto_columns": null,
            "margin": null,
            "display": null,
            "left": null
          }
        },
        "3bf4da0e2fd64ee9b84f4d67f3676645": {
          "model_module": "@jupyter-widgets/controls",
          "model_name": "FloatTextModel",
          "state": {
            "_view_name": "FloatTextView",
            "style": "IPY_MODEL_2eeeaf678249450e9b13e65684579283",
            "_dom_classes": [],
            "description": "pop_95_99",
            "_model_name": "FloatTextModel",
            "_view_module": "@jupyter-widgets/controls",
            "_model_module_version": "1.5.0",
            "value": 15534,
            "_view_count": null,
            "disabled": false,
            "_view_module_version": "1.5.0",
            "continuous_update": false,
            "step": 1,
            "description_tooltip": null,
            "_model_module": "@jupyter-widgets/controls",
            "layout": "IPY_MODEL_38f7508abac44f3392ed2eaa21bc19fa"
          }
        },
        "2eeeaf678249450e9b13e65684579283": {
          "model_module": "@jupyter-widgets/controls",
          "model_name": "DescriptionStyleModel",
          "state": {
            "_view_name": "StyleView",
            "_model_name": "DescriptionStyleModel",
            "description_width": "",
            "_view_module": "@jupyter-widgets/base",
            "_model_module_version": "1.5.0",
            "_view_count": null,
            "_view_module_version": "1.2.0",
            "_model_module": "@jupyter-widgets/controls"
          }
        },
        "38f7508abac44f3392ed2eaa21bc19fa": {
          "model_module": "@jupyter-widgets/base",
          "model_name": "LayoutModel",
          "state": {
            "_view_name": "LayoutView",
            "grid_template_rows": null,
            "right": null,
            "justify_content": null,
            "_view_module": "@jupyter-widgets/base",
            "overflow": null,
            "_model_module_version": "1.2.0",
            "_view_count": null,
            "flex_flow": null,
            "width": null,
            "min_width": null,
            "border": null,
            "align_items": null,
            "bottom": null,
            "_model_module": "@jupyter-widgets/base",
            "top": null,
            "grid_column": null,
            "overflow_y": null,
            "overflow_x": null,
            "grid_auto_flow": null,
            "grid_area": null,
            "grid_template_columns": null,
            "flex": null,
            "_model_name": "LayoutModel",
            "justify_items": null,
            "grid_row": null,
            "max_height": null,
            "align_content": null,
            "visibility": null,
            "align_self": null,
            "height": null,
            "min_height": null,
            "padding": null,
            "grid_auto_rows": null,
            "grid_gap": null,
            "max_width": null,
            "order": null,
            "_view_module_version": "1.2.0",
            "grid_template_areas": null,
            "object_position": null,
            "object_fit": null,
            "grid_auto_columns": null,
            "margin": null,
            "display": null,
            "left": null
          }
        },
        "dcb30547422942aabd048a2bc3b689aa": {
          "model_module": "@jupyter-widgets/controls",
          "model_name": "FloatTextModel",
          "state": {
            "_view_name": "FloatTextView",
            "style": "IPY_MODEL_64132e1ec99544008affcf40f4f1adbe",
            "_dom_classes": [],
            "description": "pop_100_",
            "_model_name": "FloatTextModel",
            "_view_module": "@jupyter-widgets/controls",
            "_model_module_version": "1.5.0",
            "value": 2718,
            "_view_count": null,
            "disabled": false,
            "_view_module_version": "1.5.0",
            "continuous_update": false,
            "step": 1,
            "description_tooltip": null,
            "_model_module": "@jupyter-widgets/controls",
            "layout": "IPY_MODEL_147742193bec464ebf049c32fc9ffa69"
          }
        },
        "64132e1ec99544008affcf40f4f1adbe": {
          "model_module": "@jupyter-widgets/controls",
          "model_name": "DescriptionStyleModel",
          "state": {
            "_view_name": "StyleView",
            "_model_name": "DescriptionStyleModel",
            "description_width": "",
            "_view_module": "@jupyter-widgets/base",
            "_model_module_version": "1.5.0",
            "_view_count": null,
            "_view_module_version": "1.2.0",
            "_model_module": "@jupyter-widgets/controls"
          }
        },
        "147742193bec464ebf049c32fc9ffa69": {
          "model_module": "@jupyter-widgets/base",
          "model_name": "LayoutModel",
          "state": {
            "_view_name": "LayoutView",
            "grid_template_rows": null,
            "right": null,
            "justify_content": null,
            "_view_module": "@jupyter-widgets/base",
            "overflow": null,
            "_model_module_version": "1.2.0",
            "_view_count": null,
            "flex_flow": null,
            "width": null,
            "min_width": null,
            "border": null,
            "align_items": null,
            "bottom": null,
            "_model_module": "@jupyter-widgets/base",
            "top": null,
            "grid_column": null,
            "overflow_y": null,
            "overflow_x": null,
            "grid_auto_flow": null,
            "grid_area": null,
            "grid_template_columns": null,
            "flex": null,
            "_model_name": "LayoutModel",
            "justify_items": null,
            "grid_row": null,
            "max_height": null,
            "align_content": null,
            "visibility": null,
            "align_self": null,
            "height": null,
            "min_height": null,
            "padding": null,
            "grid_auto_rows": null,
            "grid_gap": null,
            "max_width": null,
            "order": null,
            "_view_module_version": "1.2.0",
            "grid_template_areas": null,
            "object_position": null,
            "object_fit": null,
            "grid_auto_columns": null,
            "margin": null,
            "display": null,
            "left": null
          }
        },
        "e63ccb7892344b2d9e6899786882793c": {
          "model_module": "@jupyter-widgets/controls",
          "model_name": "DropdownModel",
          "state": {
            "_options_labels": [
              "1. Expansive-sharp (Nigeria)",
              "2. Expansive-smooth (Kenya)",
              "3. Stationary (USA)",
              "4. Constrictive (Germany)",
              "5. Custom"
            ],
            "_view_name": "DropdownView",
            "style": "IPY_MODEL_bf58ac42f0bc439d95fc35d830a1e1ef",
            "_dom_classes": [],
            "description": "Pyramid type",
            "_model_name": "DropdownModel",
            "index": 0,
            "_view_module": "@jupyter-widgets/controls",
            "_model_module_version": "1.5.0",
            "_view_count": null,
            "disabled": false,
            "_view_module_version": "1.5.0",
            "description_tooltip": null,
            "_model_module": "@jupyter-widgets/controls",
            "layout": "IPY_MODEL_7bd7e181e954404a81eab3cfebae005b"
          }
        },
        "bf58ac42f0bc439d95fc35d830a1e1ef": {
          "model_module": "@jupyter-widgets/controls",
          "model_name": "DescriptionStyleModel",
          "state": {
            "_view_name": "StyleView",
            "_model_name": "DescriptionStyleModel",
            "description_width": "",
            "_view_module": "@jupyter-widgets/base",
            "_model_module_version": "1.5.0",
            "_view_count": null,
            "_view_module_version": "1.2.0",
            "_model_module": "@jupyter-widgets/controls"
          }
        },
        "7bd7e181e954404a81eab3cfebae005b": {
          "model_module": "@jupyter-widgets/base",
          "model_name": "LayoutModel",
          "state": {
            "_view_name": "LayoutView",
            "grid_template_rows": null,
            "right": null,
            "justify_content": null,
            "_view_module": "@jupyter-widgets/base",
            "overflow": null,
            "_model_module_version": "1.2.0",
            "_view_count": null,
            "flex_flow": null,
            "width": null,
            "min_width": null,
            "border": null,
            "align_items": null,
            "bottom": null,
            "_model_module": "@jupyter-widgets/base",
            "top": null,
            "grid_column": null,
            "overflow_y": null,
            "overflow_x": null,
            "grid_auto_flow": null,
            "grid_area": null,
            "grid_template_columns": null,
            "flex": null,
            "_model_name": "LayoutModel",
            "justify_items": null,
            "grid_row": null,
            "max_height": null,
            "align_content": null,
            "visibility": null,
            "align_self": null,
            "height": null,
            "min_height": null,
            "padding": null,
            "grid_auto_rows": null,
            "grid_gap": null,
            "max_width": null,
            "order": null,
            "_view_module_version": "1.2.0",
            "grid_template_areas": null,
            "object_position": null,
            "object_fit": null,
            "grid_auto_columns": null,
            "margin": null,
            "display": null,
            "left": null
          }
        },
        "c9028bd0eb124ed494a9e7c5fde030cb": {
          "model_module": "@jupyter-widgets/controls",
          "model_name": "DropdownModel",
          "state": {
            "_options_labels": [
              "50",
              "100",
              "500",
              "1,000",
              "2,000",
              "5,000",
              "10,000",
              "100,000"
            ],
            "_view_name": "DropdownView",
            "style": "IPY_MODEL_edea78d6db9b420ca1dfc7889b8ae975",
            "_dom_classes": [],
            "description": "Popul. size:",
            "_model_name": "DropdownModel",
            "index": 3,
            "_view_module": "@jupyter-widgets/controls",
            "_model_module_version": "1.5.0",
            "_view_count": null,
            "disabled": false,
            "_view_module_version": "1.5.0",
            "description_tooltip": null,
            "_model_module": "@jupyter-widgets/controls",
            "layout": "IPY_MODEL_f1dfe9d15e484f6eb3c49f3533c66cb4"
          }
        },
        "edea78d6db9b420ca1dfc7889b8ae975": {
          "model_module": "@jupyter-widgets/controls",
          "model_name": "DescriptionStyleModel",
          "state": {
            "_view_name": "StyleView",
            "_model_name": "DescriptionStyleModel",
            "description_width": "",
            "_view_module": "@jupyter-widgets/base",
            "_model_module_version": "1.5.0",
            "_view_count": null,
            "_view_module_version": "1.2.0",
            "_model_module": "@jupyter-widgets/controls"
          }
        },
        "f1dfe9d15e484f6eb3c49f3533c66cb4": {
          "model_module": "@jupyter-widgets/base",
          "model_name": "LayoutModel",
          "state": {
            "_view_name": "LayoutView",
            "grid_template_rows": null,
            "right": null,
            "justify_content": null,
            "_view_module": "@jupyter-widgets/base",
            "overflow": null,
            "_model_module_version": "1.2.0",
            "_view_count": null,
            "flex_flow": null,
            "width": null,
            "min_width": null,
            "border": null,
            "align_items": null,
            "bottom": null,
            "_model_module": "@jupyter-widgets/base",
            "top": null,
            "grid_column": null,
            "overflow_y": null,
            "overflow_x": null,
            "grid_auto_flow": null,
            "grid_area": null,
            "grid_template_columns": null,
            "flex": null,
            "_model_name": "LayoutModel",
            "justify_items": null,
            "grid_row": null,
            "max_height": null,
            "align_content": null,
            "visibility": null,
            "align_self": null,
            "height": null,
            "min_height": null,
            "padding": null,
            "grid_auto_rows": null,
            "grid_gap": null,
            "max_width": null,
            "order": null,
            "_view_module_version": "1.2.0",
            "grid_template_areas": null,
            "object_position": null,
            "object_fit": null,
            "grid_auto_columns": null,
            "margin": null,
            "display": null,
            "left": null
          }
        },
        "66f9bef831184fc6983a331c5be5128e": {
          "model_module": "@jupyter-widgets/controls",
          "model_name": "IntSliderModel",
          "state": {
            "_view_name": "IntSliderView",
            "style": "IPY_MODEL_b51a37a7b8964c1f8bb04f30f49d4446",
            "_dom_classes": [],
            "description": "",
            "step": 5,
            "_model_name": "IntSliderModel",
            "orientation": "horizontal",
            "max": 500,
            "_view_module": "@jupyter-widgets/controls",
            "_model_module_version": "1.5.0",
            "value": 30,
            "_view_count": null,
            "disabled": false,
            "_view_module_version": "1.5.0",
            "min": 5,
            "continuous_update": true,
            "readout_format": "d",
            "description_tooltip": null,
            "readout": true,
            "_model_module": "@jupyter-widgets/controls",
            "layout": "IPY_MODEL_989dc5b7b28d40f89be9b69895a436f7"
          }
        },
        "b51a37a7b8964c1f8bb04f30f49d4446": {
          "model_module": "@jupyter-widgets/controls",
          "model_name": "SliderStyleModel",
          "state": {
            "_view_name": "StyleView",
            "handle_color": null,
            "_model_name": "SliderStyleModel",
            "description_width": "",
            "_view_module": "@jupyter-widgets/base",
            "_model_module_version": "1.5.0",
            "_view_count": null,
            "_view_module_version": "1.2.0",
            "_model_module": "@jupyter-widgets/controls"
          }
        },
        "989dc5b7b28d40f89be9b69895a436f7": {
          "model_module": "@jupyter-widgets/base",
          "model_name": "LayoutModel",
          "state": {
            "_view_name": "LayoutView",
            "grid_template_rows": null,
            "right": null,
            "justify_content": null,
            "_view_module": "@jupyter-widgets/base",
            "overflow": null,
            "_model_module_version": "1.2.0",
            "_view_count": null,
            "flex_flow": null,
            "width": null,
            "min_width": null,
            "border": null,
            "align_items": null,
            "bottom": null,
            "_model_module": "@jupyter-widgets/base",
            "top": null,
            "grid_column": null,
            "overflow_y": null,
            "overflow_x": null,
            "grid_auto_flow": null,
            "grid_area": null,
            "grid_template_columns": null,
            "flex": null,
            "_model_name": "LayoutModel",
            "justify_items": null,
            "grid_row": null,
            "max_height": null,
            "align_content": null,
            "visibility": null,
            "align_self": null,
            "height": null,
            "min_height": null,
            "padding": null,
            "grid_auto_rows": null,
            "grid_gap": null,
            "max_width": null,
            "order": null,
            "_view_module_version": "1.2.0",
            "grid_template_areas": null,
            "object_position": null,
            "object_fit": null,
            "grid_auto_columns": null,
            "margin": null,
            "display": null,
            "left": null
          }
        },
        "587f1ec53f61436382dff260486760f9": {
          "model_module": "@jupyter-widgets/controls",
          "model_name": "IntSliderModel",
          "state": {
            "_view_name": "IntSliderView",
            "style": "IPY_MODEL_38edbad32f404b3bab3e50dbcdc5fe6f",
            "_dom_classes": [],
            "description": "",
            "step": 10,
            "_model_name": "IntSliderModel",
            "orientation": "horizontal",
            "max": 2000,
            "_view_module": "@jupyter-widgets/controls",
            "_model_module_version": "1.5.0",
            "value": 500,
            "_view_count": null,
            "disabled": false,
            "_view_module_version": "1.5.0",
            "min": 50,
            "continuous_update": true,
            "readout_format": "d",
            "description_tooltip": null,
            "readout": true,
            "_model_module": "@jupyter-widgets/controls",
            "layout": "IPY_MODEL_4a7f9924c6194586ac4c946a51685784"
          }
        },
        "38edbad32f404b3bab3e50dbcdc5fe6f": {
          "model_module": "@jupyter-widgets/controls",
          "model_name": "SliderStyleModel",
          "state": {
            "_view_name": "StyleView",
            "handle_color": null,
            "_model_name": "SliderStyleModel",
            "description_width": "",
            "_view_module": "@jupyter-widgets/base",
            "_model_module_version": "1.5.0",
            "_view_count": null,
            "_view_module_version": "1.2.0",
            "_model_module": "@jupyter-widgets/controls"
          }
        },
        "4a7f9924c6194586ac4c946a51685784": {
          "model_module": "@jupyter-widgets/base",
          "model_name": "LayoutModel",
          "state": {
            "_view_name": "LayoutView",
            "grid_template_rows": null,
            "right": null,
            "justify_content": null,
            "_view_module": "@jupyter-widgets/base",
            "overflow": null,
            "_model_module_version": "1.2.0",
            "_view_count": null,
            "flex_flow": null,
            "width": null,
            "min_width": null,
            "border": null,
            "align_items": null,
            "bottom": null,
            "_model_module": "@jupyter-widgets/base",
            "top": null,
            "grid_column": null,
            "overflow_y": null,
            "overflow_x": null,
            "grid_auto_flow": null,
            "grid_area": null,
            "grid_template_columns": null,
            "flex": null,
            "_model_name": "LayoutModel",
            "justify_items": null,
            "grid_row": null,
            "max_height": null,
            "align_content": null,
            "visibility": null,
            "align_self": null,
            "height": null,
            "min_height": null,
            "padding": null,
            "grid_auto_rows": null,
            "grid_gap": null,
            "max_width": null,
            "order": null,
            "_view_module_version": "1.2.0",
            "grid_template_areas": null,
            "object_position": null,
            "object_fit": null,
            "grid_auto_columns": null,
            "margin": null,
            "display": null,
            "left": null
          }
        },
        "726032c547a140c789fbf8651bc12c57": {
          "model_module": "@jupyter-widgets/controls",
          "model_name": "FloatSliderModel",
          "state": {
            "_view_name": "FloatSliderView",
            "style": "IPY_MODEL_09b2c209f42a4e949c74199ea0889e52",
            "_dom_classes": [],
            "description": "",
            "step": 0.01,
            "_model_name": "FloatSliderModel",
            "orientation": "horizontal",
            "max": 1,
            "_view_module": "@jupyter-widgets/controls",
            "_model_module_version": "1.5.0",
            "value": 0.1,
            "_view_count": null,
            "disabled": false,
            "_view_module_version": "1.5.0",
            "min": 0,
            "continuous_update": true,
            "readout_format": ".2f",
            "description_tooltip": null,
            "readout": true,
            "_model_module": "@jupyter-widgets/controls",
            "layout": "IPY_MODEL_1c2376f699474318b90d40e36993ad21"
          }
        },
        "09b2c209f42a4e949c74199ea0889e52": {
          "model_module": "@jupyter-widgets/controls",
          "model_name": "SliderStyleModel",
          "state": {
            "_view_name": "StyleView",
            "handle_color": null,
            "_model_name": "SliderStyleModel",
            "description_width": "",
            "_view_module": "@jupyter-widgets/base",
            "_model_module_version": "1.5.0",
            "_view_count": null,
            "_view_module_version": "1.2.0",
            "_model_module": "@jupyter-widgets/controls"
          }
        },
        "1c2376f699474318b90d40e36993ad21": {
          "model_module": "@jupyter-widgets/base",
          "model_name": "LayoutModel",
          "state": {
            "_view_name": "LayoutView",
            "grid_template_rows": null,
            "right": null,
            "justify_content": null,
            "_view_module": "@jupyter-widgets/base",
            "overflow": null,
            "_model_module_version": "1.2.0",
            "_view_count": null,
            "flex_flow": null,
            "width": null,
            "min_width": null,
            "border": null,
            "align_items": null,
            "bottom": null,
            "_model_module": "@jupyter-widgets/base",
            "top": null,
            "grid_column": null,
            "overflow_y": null,
            "overflow_x": null,
            "grid_auto_flow": null,
            "grid_area": null,
            "grid_template_columns": null,
            "flex": null,
            "_model_name": "LayoutModel",
            "justify_items": null,
            "grid_row": null,
            "max_height": null,
            "align_content": null,
            "visibility": null,
            "align_self": null,
            "height": null,
            "min_height": null,
            "padding": null,
            "grid_auto_rows": null,
            "grid_gap": null,
            "max_width": null,
            "order": null,
            "_view_module_version": "1.2.0",
            "grid_template_areas": null,
            "object_position": null,
            "object_fit": null,
            "grid_auto_columns": null,
            "margin": null,
            "display": null,
            "left": null
          }
        },
        "d31b0d01f1504cb28ab6612caacb689e": {
          "model_module": "@jupyter-widgets/controls",
          "model_name": "IntSliderModel",
          "state": {
            "_view_name": "IntSliderView",
            "style": "IPY_MODEL_9551c2838d8b46cca9a46f7a0d8cd935",
            "_dom_classes": [],
            "description": "",
            "step": 1,
            "_model_name": "IntSliderModel",
            "orientation": "horizontal",
            "max": 50,
            "_view_module": "@jupyter-widgets/controls",
            "_model_module_version": "1.5.0",
            "value": 2,
            "_view_count": null,
            "disabled": false,
            "_view_module_version": "1.5.0",
            "min": 0,
            "continuous_update": true,
            "readout_format": "d",
            "description_tooltip": null,
            "readout": true,
            "_model_module": "@jupyter-widgets/controls",
            "layout": "IPY_MODEL_a172cfe564394a2788595a2d3ac34695"
          }
        },
        "9551c2838d8b46cca9a46f7a0d8cd935": {
          "model_module": "@jupyter-widgets/controls",
          "model_name": "SliderStyleModel",
          "state": {
            "_view_name": "StyleView",
            "handle_color": null,
            "_model_name": "SliderStyleModel",
            "description_width": "",
            "_view_module": "@jupyter-widgets/base",
            "_model_module_version": "1.5.0",
            "_view_count": null,
            "_view_module_version": "1.2.0",
            "_model_module": "@jupyter-widgets/controls"
          }
        },
        "a172cfe564394a2788595a2d3ac34695": {
          "model_module": "@jupyter-widgets/base",
          "model_name": "LayoutModel",
          "state": {
            "_view_name": "LayoutView",
            "grid_template_rows": null,
            "right": null,
            "justify_content": null,
            "_view_module": "@jupyter-widgets/base",
            "overflow": null,
            "_model_module_version": "1.2.0",
            "_view_count": null,
            "flex_flow": null,
            "width": null,
            "min_width": null,
            "border": null,
            "align_items": null,
            "bottom": null,
            "_model_module": "@jupyter-widgets/base",
            "top": null,
            "grid_column": null,
            "overflow_y": null,
            "overflow_x": null,
            "grid_auto_flow": null,
            "grid_area": null,
            "grid_template_columns": null,
            "flex": null,
            "_model_name": "LayoutModel",
            "justify_items": null,
            "grid_row": null,
            "max_height": null,
            "align_content": null,
            "visibility": null,
            "align_self": null,
            "height": null,
            "min_height": null,
            "padding": null,
            "grid_auto_rows": null,
            "grid_gap": null,
            "max_width": null,
            "order": null,
            "_view_module_version": "1.2.0",
            "grid_template_areas": null,
            "object_position": null,
            "object_fit": null,
            "grid_auto_columns": null,
            "margin": null,
            "display": null,
            "left": null
          }
        },
        "3b3dae269cde49d888f60097666698d0": {
          "model_module": "@jupyter-widgets/controls",
          "model_name": "FloatSliderModel",
          "state": {
            "_view_name": "FloatSliderView",
            "style": "IPY_MODEL_55efe0fe5f0f472f8022dce12a7fca62",
            "_dom_classes": [],
            "description": "",
            "step": 0.01,
            "_model_name": "FloatSliderModel",
            "orientation": "horizontal",
            "max": 1,
            "_view_module": "@jupyter-widgets/controls",
            "_model_module_version": "1.5.0",
            "value": 0.04,
            "_view_count": null,
            "disabled": false,
            "_view_module_version": "1.5.0",
            "min": 0.01,
            "continuous_update": true,
            "readout_format": ".2f",
            "description_tooltip": null,
            "readout": true,
            "_model_module": "@jupyter-widgets/controls",
            "layout": "IPY_MODEL_09c4218b489d4c00a0b60b28d18f23a7"
          }
        },
        "55efe0fe5f0f472f8022dce12a7fca62": {
          "model_module": "@jupyter-widgets/controls",
          "model_name": "SliderStyleModel",
          "state": {
            "_view_name": "StyleView",
            "handle_color": null,
            "_model_name": "SliderStyleModel",
            "description_width": "",
            "_view_module": "@jupyter-widgets/base",
            "_model_module_version": "1.5.0",
            "_view_count": null,
            "_view_module_version": "1.2.0",
            "_model_module": "@jupyter-widgets/controls"
          }
        },
        "09c4218b489d4c00a0b60b28d18f23a7": {
          "model_module": "@jupyter-widgets/base",
          "model_name": "LayoutModel",
          "state": {
            "_view_name": "LayoutView",
            "grid_template_rows": null,
            "right": null,
            "justify_content": null,
            "_view_module": "@jupyter-widgets/base",
            "overflow": null,
            "_model_module_version": "1.2.0",
            "_view_count": null,
            "flex_flow": null,
            "width": null,
            "min_width": null,
            "border": null,
            "align_items": null,
            "bottom": null,
            "_model_module": "@jupyter-widgets/base",
            "top": null,
            "grid_column": null,
            "overflow_y": null,
            "overflow_x": null,
            "grid_auto_flow": null,
            "grid_area": null,
            "grid_template_columns": null,
            "flex": null,
            "_model_name": "LayoutModel",
            "justify_items": null,
            "grid_row": null,
            "max_height": null,
            "align_content": null,
            "visibility": null,
            "align_self": null,
            "height": null,
            "min_height": null,
            "padding": null,
            "grid_auto_rows": null,
            "grid_gap": null,
            "max_width": null,
            "order": null,
            "_view_module_version": "1.2.0",
            "grid_template_areas": null,
            "object_position": null,
            "object_fit": null,
            "grid_auto_columns": null,
            "margin": null,
            "display": null,
            "left": null
          }
        },
        "898f409002bc4de298fceafff7155870": {
          "model_module": "@jupyter-widgets/controls",
          "model_name": "FloatSliderModel",
          "state": {
            "_view_name": "FloatSliderView",
            "style": "IPY_MODEL_584527ddfa8d4d54a4b091d2e36cbcac",
            "_dom_classes": [],
            "description": "",
            "step": 0.01,
            "_model_name": "FloatSliderModel",
            "orientation": "horizontal",
            "max": 1,
            "_view_module": "@jupyter-widgets/controls",
            "_model_module_version": "1.5.0",
            "value": 0.25,
            "_view_count": null,
            "disabled": false,
            "_view_module_version": "1.5.0",
            "min": 0,
            "continuous_update": true,
            "readout_format": ".2f",
            "description_tooltip": null,
            "readout": true,
            "_model_module": "@jupyter-widgets/controls",
            "layout": "IPY_MODEL_2b8d09be25264ca4a7701e94e257865c"
          }
        },
        "584527ddfa8d4d54a4b091d2e36cbcac": {
          "model_module": "@jupyter-widgets/controls",
          "model_name": "SliderStyleModel",
          "state": {
            "_view_name": "StyleView",
            "handle_color": null,
            "_model_name": "SliderStyleModel",
            "description_width": "",
            "_view_module": "@jupyter-widgets/base",
            "_model_module_version": "1.5.0",
            "_view_count": null,
            "_view_module_version": "1.2.0",
            "_model_module": "@jupyter-widgets/controls"
          }
        },
        "2b8d09be25264ca4a7701e94e257865c": {
          "model_module": "@jupyter-widgets/base",
          "model_name": "LayoutModel",
          "state": {
            "_view_name": "LayoutView",
            "grid_template_rows": null,
            "right": null,
            "justify_content": null,
            "_view_module": "@jupyter-widgets/base",
            "overflow": null,
            "_model_module_version": "1.2.0",
            "_view_count": null,
            "flex_flow": null,
            "width": null,
            "min_width": null,
            "border": null,
            "align_items": null,
            "bottom": null,
            "_model_module": "@jupyter-widgets/base",
            "top": null,
            "grid_column": null,
            "overflow_y": null,
            "overflow_x": null,
            "grid_auto_flow": null,
            "grid_area": null,
            "grid_template_columns": null,
            "flex": null,
            "_model_name": "LayoutModel",
            "justify_items": null,
            "grid_row": null,
            "max_height": null,
            "align_content": null,
            "visibility": null,
            "align_self": null,
            "height": null,
            "min_height": null,
            "padding": null,
            "grid_auto_rows": null,
            "grid_gap": null,
            "max_width": null,
            "order": null,
            "_view_module_version": "1.2.0",
            "grid_template_areas": null,
            "object_position": null,
            "object_fit": null,
            "grid_auto_columns": null,
            "margin": null,
            "display": null,
            "left": null
          }
        },
        "7682f29cb1324bee8156680f4e8de8a6": {
          "model_module": "@jupyter-widgets/controls",
          "model_name": "IntSliderModel",
          "state": {
            "_view_name": "IntSliderView",
            "style": "IPY_MODEL_1878499850a248b791709a4c830ae164",
            "_dom_classes": [],
            "description": "",
            "step": 1,
            "_model_name": "IntSliderModel",
            "orientation": "horizontal",
            "max": 25,
            "_view_module": "@jupyter-widgets/controls",
            "_model_module_version": "1.5.0",
            "value": 7,
            "_view_count": null,
            "disabled": false,
            "_view_module_version": "1.5.0",
            "min": 1,
            "continuous_update": true,
            "readout_format": "d",
            "description_tooltip": null,
            "readout": true,
            "_model_module": "@jupyter-widgets/controls",
            "layout": "IPY_MODEL_c74aaf5c0d2b4914943c4cf9dd50c0ef"
          }
        },
        "1878499850a248b791709a4c830ae164": {
          "model_module": "@jupyter-widgets/controls",
          "model_name": "SliderStyleModel",
          "state": {
            "_view_name": "StyleView",
            "handle_color": null,
            "_model_name": "SliderStyleModel",
            "description_width": "",
            "_view_module": "@jupyter-widgets/base",
            "_model_module_version": "1.5.0",
            "_view_count": null,
            "_view_module_version": "1.2.0",
            "_model_module": "@jupyter-widgets/controls"
          }
        },
        "c74aaf5c0d2b4914943c4cf9dd50c0ef": {
          "model_module": "@jupyter-widgets/base",
          "model_name": "LayoutModel",
          "state": {
            "_view_name": "LayoutView",
            "grid_template_rows": null,
            "right": null,
            "justify_content": null,
            "_view_module": "@jupyter-widgets/base",
            "overflow": null,
            "_model_module_version": "1.2.0",
            "_view_count": null,
            "flex_flow": null,
            "width": null,
            "min_width": null,
            "border": null,
            "align_items": null,
            "bottom": null,
            "_model_module": "@jupyter-widgets/base",
            "top": null,
            "grid_column": null,
            "overflow_y": null,
            "overflow_x": null,
            "grid_auto_flow": null,
            "grid_area": null,
            "grid_template_columns": null,
            "flex": null,
            "_model_name": "LayoutModel",
            "justify_items": null,
            "grid_row": null,
            "max_height": null,
            "align_content": null,
            "visibility": null,
            "align_self": null,
            "height": null,
            "min_height": null,
            "padding": null,
            "grid_auto_rows": null,
            "grid_gap": null,
            "max_width": null,
            "order": null,
            "_view_module_version": "1.2.0",
            "grid_template_areas": null,
            "object_position": null,
            "object_fit": null,
            "grid_auto_columns": null,
            "margin": null,
            "display": null,
            "left": null
          }
        },
        "19d027c1ab93470cb5efe3ec6859a169": {
          "model_module": "@jupyter-widgets/controls",
          "model_name": "IntSliderModel",
          "state": {
            "_view_name": "IntSliderView",
            "style": "IPY_MODEL_4486e7213b864266a53f1843b0ffc9c2",
            "_dom_classes": [],
            "description": "",
            "step": 1,
            "_model_name": "IntSliderModel",
            "orientation": "horizontal",
            "max": 50,
            "_view_module": "@jupyter-widgets/controls",
            "_model_module_version": "1.5.0",
            "value": 10,
            "_view_count": null,
            "disabled": false,
            "_view_module_version": "1.5.0",
            "min": 3,
            "continuous_update": true,
            "readout_format": "d",
            "description_tooltip": null,
            "readout": true,
            "_model_module": "@jupyter-widgets/controls",
            "layout": "IPY_MODEL_ea129cd278a346cc987b5e267f1eefa6"
          }
        },
        "4486e7213b864266a53f1843b0ffc9c2": {
          "model_module": "@jupyter-widgets/controls",
          "model_name": "SliderStyleModel",
          "state": {
            "_view_name": "StyleView",
            "handle_color": null,
            "_model_name": "SliderStyleModel",
            "description_width": "",
            "_view_module": "@jupyter-widgets/base",
            "_model_module_version": "1.5.0",
            "_view_count": null,
            "_view_module_version": "1.2.0",
            "_model_module": "@jupyter-widgets/controls"
          }
        },
        "ea129cd278a346cc987b5e267f1eefa6": {
          "model_module": "@jupyter-widgets/base",
          "model_name": "LayoutModel",
          "state": {
            "_view_name": "LayoutView",
            "grid_template_rows": null,
            "right": null,
            "justify_content": null,
            "_view_module": "@jupyter-widgets/base",
            "overflow": null,
            "_model_module_version": "1.2.0",
            "_view_count": null,
            "flex_flow": null,
            "width": null,
            "min_width": null,
            "border": null,
            "align_items": null,
            "bottom": null,
            "_model_module": "@jupyter-widgets/base",
            "top": null,
            "grid_column": null,
            "overflow_y": null,
            "overflow_x": null,
            "grid_auto_flow": null,
            "grid_area": null,
            "grid_template_columns": null,
            "flex": null,
            "_model_name": "LayoutModel",
            "justify_items": null,
            "grid_row": null,
            "max_height": null,
            "align_content": null,
            "visibility": null,
            "align_self": null,
            "height": null,
            "min_height": null,
            "padding": null,
            "grid_auto_rows": null,
            "grid_gap": null,
            "max_width": null,
            "order": null,
            "_view_module_version": "1.2.0",
            "grid_template_areas": null,
            "object_position": null,
            "object_fit": null,
            "grid_auto_columns": null,
            "margin": null,
            "display": null,
            "left": null
          }
        },
        "86622d90f59f497ab7a33694ad021461": {
          "model_module": "@jupyter-widgets/controls",
          "model_name": "IntSliderModel",
          "state": {
            "_view_name": "IntSliderView",
            "style": "IPY_MODEL_da61acb4e0ac4e5e85ec785c613a3b14",
            "_dom_classes": [],
            "description": "",
            "step": 1,
            "_model_name": "IntSliderModel",
            "orientation": "horizontal",
            "max": 25,
            "_view_module": "@jupyter-widgets/controls",
            "_model_module_version": "1.5.0",
            "value": 3,
            "_view_count": null,
            "disabled": false,
            "_view_module_version": "1.5.0",
            "min": 1,
            "continuous_update": true,
            "readout_format": "d",
            "description_tooltip": null,
            "readout": true,
            "_model_module": "@jupyter-widgets/controls",
            "layout": "IPY_MODEL_b7854942fa754c0e9c7ae017575c03c2"
          }
        },
        "da61acb4e0ac4e5e85ec785c613a3b14": {
          "model_module": "@jupyter-widgets/controls",
          "model_name": "SliderStyleModel",
          "state": {
            "_view_name": "StyleView",
            "handle_color": null,
            "_model_name": "SliderStyleModel",
            "description_width": "",
            "_view_module": "@jupyter-widgets/base",
            "_model_module_version": "1.5.0",
            "_view_count": null,
            "_view_module_version": "1.2.0",
            "_model_module": "@jupyter-widgets/controls"
          }
        },
        "b7854942fa754c0e9c7ae017575c03c2": {
          "model_module": "@jupyter-widgets/base",
          "model_name": "LayoutModel",
          "state": {
            "_view_name": "LayoutView",
            "grid_template_rows": null,
            "right": null,
            "justify_content": null,
            "_view_module": "@jupyter-widgets/base",
            "overflow": null,
            "_model_module_version": "1.2.0",
            "_view_count": null,
            "flex_flow": null,
            "width": null,
            "min_width": null,
            "border": null,
            "align_items": null,
            "bottom": null,
            "_model_module": "@jupyter-widgets/base",
            "top": null,
            "grid_column": null,
            "overflow_y": null,
            "overflow_x": null,
            "grid_auto_flow": null,
            "grid_area": null,
            "grid_template_columns": null,
            "flex": null,
            "_model_name": "LayoutModel",
            "justify_items": null,
            "grid_row": null,
            "max_height": null,
            "align_content": null,
            "visibility": null,
            "align_self": null,
            "height": null,
            "min_height": null,
            "padding": null,
            "grid_auto_rows": null,
            "grid_gap": null,
            "max_width": null,
            "order": null,
            "_view_module_version": "1.2.0",
            "grid_template_areas": null,
            "object_position": null,
            "object_fit": null,
            "grid_auto_columns": null,
            "margin": null,
            "display": null,
            "left": null
          }
        },
        "74ab2f17cdef4bf3a4c6aedcd977ea64": {
          "model_module": "@jupyter-widgets/controls",
          "model_name": "IntSliderModel",
          "state": {
            "_view_name": "IntSliderView",
            "style": "IPY_MODEL_b77918b3c8764ecd9053f104d12ad380",
            "_dom_classes": [],
            "description": "",
            "step": 1,
            "_model_name": "IntSliderModel",
            "orientation": "horizontal",
            "max": 60,
            "_view_module": "@jupyter-widgets/controls",
            "_model_module_version": "1.5.0",
            "value": 3,
            "_view_count": null,
            "disabled": false,
            "_view_module_version": "1.5.0",
            "min": 1,
            "continuous_update": true,
            "readout_format": "d",
            "description_tooltip": null,
            "readout": true,
            "_model_module": "@jupyter-widgets/controls",
            "layout": "IPY_MODEL_d751aabf05d44294a2c7a355614e3a76"
          }
        },
        "b77918b3c8764ecd9053f104d12ad380": {
          "model_module": "@jupyter-widgets/controls",
          "model_name": "SliderStyleModel",
          "state": {
            "_view_name": "StyleView",
            "handle_color": null,
            "_model_name": "SliderStyleModel",
            "description_width": "",
            "_view_module": "@jupyter-widgets/base",
            "_model_module_version": "1.5.0",
            "_view_count": null,
            "_view_module_version": "1.2.0",
            "_model_module": "@jupyter-widgets/controls"
          }
        },
        "d751aabf05d44294a2c7a355614e3a76": {
          "model_module": "@jupyter-widgets/base",
          "model_name": "LayoutModel",
          "state": {
            "_view_name": "LayoutView",
            "grid_template_rows": null,
            "right": null,
            "justify_content": null,
            "_view_module": "@jupyter-widgets/base",
            "overflow": null,
            "_model_module_version": "1.2.0",
            "_view_count": null,
            "flex_flow": null,
            "width": null,
            "min_width": null,
            "border": null,
            "align_items": null,
            "bottom": null,
            "_model_module": "@jupyter-widgets/base",
            "top": null,
            "grid_column": null,
            "overflow_y": null,
            "overflow_x": null,
            "grid_auto_flow": null,
            "grid_area": null,
            "grid_template_columns": null,
            "flex": null,
            "_model_name": "LayoutModel",
            "justify_items": null,
            "grid_row": null,
            "max_height": null,
            "align_content": null,
            "visibility": null,
            "align_self": null,
            "height": null,
            "min_height": null,
            "padding": null,
            "grid_auto_rows": null,
            "grid_gap": null,
            "max_width": null,
            "order": null,
            "_view_module_version": "1.2.0",
            "grid_template_areas": null,
            "object_position": null,
            "object_fit": null,
            "grid_auto_columns": null,
            "margin": null,
            "display": null,
            "left": null
          }
        },
        "fcd9d30bd41646229c9199378ca1319a": {
          "model_module": "@jupyter-widgets/controls",
          "model_name": "CheckboxModel",
          "state": {
            "_view_name": "CheckboxView",
            "style": "IPY_MODEL_cf2795c44a61473ea209986be9501cb9",
            "_dom_classes": [],
            "description": "",
            "_model_name": "CheckboxModel",
            "_view_module": "@jupyter-widgets/controls",
            "_model_module_version": "1.5.0",
            "value": false,
            "_view_count": null,
            "disabled": false,
            "_view_module_version": "1.5.0",
            "indent": false,
            "description_tooltip": null,
            "_model_module": "@jupyter-widgets/controls",
            "layout": "IPY_MODEL_c5681e0940b043ada40543fa11334938"
          }
        },
        "cf2795c44a61473ea209986be9501cb9": {
          "model_module": "@jupyter-widgets/controls",
          "model_name": "DescriptionStyleModel",
          "state": {
            "_view_name": "StyleView",
            "_model_name": "DescriptionStyleModel",
            "description_width": "",
            "_view_module": "@jupyter-widgets/base",
            "_model_module_version": "1.5.0",
            "_view_count": null,
            "_view_module_version": "1.2.0",
            "_model_module": "@jupyter-widgets/controls"
          }
        },
        "c5681e0940b043ada40543fa11334938": {
          "model_module": "@jupyter-widgets/base",
          "model_name": "LayoutModel",
          "state": {
            "_view_name": "LayoutView",
            "grid_template_rows": null,
            "right": null,
            "justify_content": null,
            "_view_module": "@jupyter-widgets/base",
            "overflow": null,
            "_model_module_version": "1.2.0",
            "_view_count": null,
            "flex_flow": null,
            "width": null,
            "min_width": null,
            "border": null,
            "align_items": null,
            "bottom": null,
            "_model_module": "@jupyter-widgets/base",
            "top": null,
            "grid_column": null,
            "overflow_y": null,
            "overflow_x": null,
            "grid_auto_flow": null,
            "grid_area": null,
            "grid_template_columns": null,
            "flex": null,
            "_model_name": "LayoutModel",
            "justify_items": null,
            "grid_row": null,
            "max_height": null,
            "align_content": null,
            "visibility": null,
            "align_self": null,
            "height": null,
            "min_height": null,
            "padding": null,
            "grid_auto_rows": null,
            "grid_gap": null,
            "max_width": null,
            "order": null,
            "_view_module_version": "1.2.0",
            "grid_template_areas": null,
            "object_position": null,
            "object_fit": null,
            "grid_auto_columns": null,
            "margin": null,
            "display": null,
            "left": null
          }
        },
        "3ad73ee845c748bbab5eef32a1f5b8c9": {
          "model_module": "@jupyter-widgets/controls",
          "model_name": "IntSliderModel",
          "state": {
            "_view_name": "IntSliderView",
            "style": "IPY_MODEL_21387e1ecf144e1498f728979721d391",
            "_dom_classes": [],
            "description": "",
            "step": 1,
            "_model_name": "IntSliderModel",
            "orientation": "horizontal",
            "max": 200,
            "_view_module": "@jupyter-widgets/controls",
            "_model_module_version": "1.5.0",
            "value": -1,
            "_view_count": null,
            "disabled": false,
            "_view_module_version": "1.5.0",
            "min": -1,
            "continuous_update": true,
            "readout_format": "d",
            "description_tooltip": null,
            "readout": true,
            "_model_module": "@jupyter-widgets/controls",
            "layout": "IPY_MODEL_13e95501bc8b464caf205da2db87801f"
          }
        },
        "21387e1ecf144e1498f728979721d391": {
          "model_module": "@jupyter-widgets/controls",
          "model_name": "SliderStyleModel",
          "state": {
            "_view_name": "StyleView",
            "handle_color": null,
            "_model_name": "SliderStyleModel",
            "description_width": "",
            "_view_module": "@jupyter-widgets/base",
            "_model_module_version": "1.5.0",
            "_view_count": null,
            "_view_module_version": "1.2.0",
            "_model_module": "@jupyter-widgets/controls"
          }
        },
        "13e95501bc8b464caf205da2db87801f": {
          "model_module": "@jupyter-widgets/base",
          "model_name": "LayoutModel",
          "state": {
            "_view_name": "LayoutView",
            "grid_template_rows": null,
            "right": null,
            "justify_content": null,
            "_view_module": "@jupyter-widgets/base",
            "overflow": null,
            "_model_module_version": "1.2.0",
            "_view_count": null,
            "flex_flow": null,
            "width": null,
            "min_width": null,
            "border": null,
            "align_items": null,
            "bottom": null,
            "_model_module": "@jupyter-widgets/base",
            "top": null,
            "grid_column": null,
            "overflow_y": null,
            "overflow_x": null,
            "grid_auto_flow": null,
            "grid_area": null,
            "grid_template_columns": null,
            "flex": null,
            "_model_name": "LayoutModel",
            "justify_items": null,
            "grid_row": null,
            "max_height": null,
            "align_content": null,
            "visibility": null,
            "align_self": null,
            "height": null,
            "min_height": null,
            "padding": null,
            "grid_auto_rows": null,
            "grid_gap": null,
            "max_width": null,
            "order": null,
            "_view_module_version": "1.2.0",
            "grid_template_areas": null,
            "object_position": null,
            "object_fit": null,
            "grid_auto_columns": null,
            "margin": null,
            "display": null,
            "left": null
          }
        },
        "d918f62613f44007bc115868ea4dbf30": {
          "model_module": "@jupyter-widgets/controls",
          "model_name": "IntSliderModel",
          "state": {
            "_view_name": "IntSliderView",
            "style": "IPY_MODEL_bfb1b5296ef3492fa4a1feb786d44024",
            "_dom_classes": [],
            "description": "",
            "step": 1,
            "_model_name": "IntSliderModel",
            "orientation": "horizontal",
            "max": 60,
            "_view_module": "@jupyter-widgets/controls",
            "_model_module_version": "1.5.0",
            "value": 14,
            "_view_count": null,
            "disabled": false,
            "_view_module_version": "1.5.0",
            "min": 0,
            "continuous_update": true,
            "readout_format": "d",
            "description_tooltip": null,
            "readout": true,
            "_model_module": "@jupyter-widgets/controls",
            "layout": "IPY_MODEL_f9679bd2474f42be8d481b34a47e56b1"
          }
        },
        "bfb1b5296ef3492fa4a1feb786d44024": {
          "model_module": "@jupyter-widgets/controls",
          "model_name": "SliderStyleModel",
          "state": {
            "_view_name": "StyleView",
            "handle_color": null,
            "_model_name": "SliderStyleModel",
            "description_width": "",
            "_view_module": "@jupyter-widgets/base",
            "_model_module_version": "1.5.0",
            "_view_count": null,
            "_view_module_version": "1.2.0",
            "_model_module": "@jupyter-widgets/controls"
          }
        },
        "f9679bd2474f42be8d481b34a47e56b1": {
          "model_module": "@jupyter-widgets/base",
          "model_name": "LayoutModel",
          "state": {
            "_view_name": "LayoutView",
            "grid_template_rows": null,
            "right": null,
            "justify_content": null,
            "_view_module": "@jupyter-widgets/base",
            "overflow": null,
            "_model_module_version": "1.2.0",
            "_view_count": null,
            "flex_flow": null,
            "width": null,
            "min_width": null,
            "border": null,
            "align_items": null,
            "bottom": null,
            "_model_module": "@jupyter-widgets/base",
            "top": null,
            "grid_column": null,
            "overflow_y": null,
            "overflow_x": null,
            "grid_auto_flow": null,
            "grid_area": null,
            "grid_template_columns": null,
            "flex": null,
            "_model_name": "LayoutModel",
            "justify_items": null,
            "grid_row": null,
            "max_height": null,
            "align_content": null,
            "visibility": null,
            "align_self": null,
            "height": null,
            "min_height": null,
            "padding": null,
            "grid_auto_rows": null,
            "grid_gap": null,
            "max_width": null,
            "order": null,
            "_view_module_version": "1.2.0",
            "grid_template_areas": null,
            "object_position": null,
            "object_fit": null,
            "grid_auto_columns": null,
            "margin": null,
            "display": null,
            "left": null
          }
        },
        "07663c5d64ab405a91a64ddfc92a4952": {
          "model_module": "@jupyter-widgets/controls",
          "model_name": "IntTextModel",
          "state": {
            "_view_name": "IntTextView",
            "style": "IPY_MODEL_580a5f827e154a5d85ca5b73e0256548",
            "_dom_classes": [],
            "description": "",
            "_model_name": "IntTextModel",
            "_view_module": "@jupyter-widgets/controls",
            "_model_module_version": "1.5.0",
            "value": 10,
            "_view_count": null,
            "disabled": false,
            "_view_module_version": "1.5.0",
            "continuous_update": false,
            "step": 1,
            "description_tooltip": null,
            "_model_module": "@jupyter-widgets/controls",
            "layout": "IPY_MODEL_01ff454a60e24663a8f9c2302a6c5c7e"
          }
        },
        "580a5f827e154a5d85ca5b73e0256548": {
          "model_module": "@jupyter-widgets/controls",
          "model_name": "DescriptionStyleModel",
          "state": {
            "_view_name": "StyleView",
            "_model_name": "DescriptionStyleModel",
            "description_width": "",
            "_view_module": "@jupyter-widgets/base",
            "_model_module_version": "1.5.0",
            "_view_count": null,
            "_view_module_version": "1.2.0",
            "_model_module": "@jupyter-widgets/controls"
          }
        },
        "01ff454a60e24663a8f9c2302a6c5c7e": {
          "model_module": "@jupyter-widgets/base",
          "model_name": "LayoutModel",
          "state": {
            "_view_name": "LayoutView",
            "grid_template_rows": null,
            "right": null,
            "justify_content": null,
            "_view_module": "@jupyter-widgets/base",
            "overflow": null,
            "_model_module_version": "1.2.0",
            "_view_count": null,
            "flex_flow": null,
            "width": null,
            "min_width": null,
            "border": null,
            "align_items": null,
            "bottom": null,
            "_model_module": "@jupyter-widgets/base",
            "top": null,
            "grid_column": null,
            "overflow_y": null,
            "overflow_x": null,
            "grid_auto_flow": null,
            "grid_area": null,
            "grid_template_columns": null,
            "flex": null,
            "_model_name": "LayoutModel",
            "justify_items": null,
            "grid_row": null,
            "max_height": null,
            "align_content": null,
            "visibility": null,
            "align_self": null,
            "height": null,
            "min_height": null,
            "padding": null,
            "grid_auto_rows": null,
            "grid_gap": null,
            "max_width": null,
            "order": null,
            "_view_module_version": "1.2.0",
            "grid_template_areas": null,
            "object_position": null,
            "object_fit": null,
            "grid_auto_columns": null,
            "margin": null,
            "display": null,
            "left": null
          }
        },
        "e8448897f6394c0f88475eb6e0cc72a5": {
          "model_module": "@jupyter-widgets/controls",
          "model_name": "SelectModel",
          "state": {
            "_options_labels": [
              "10 (ten days)",
              "30 (one month)",
              "90 (one quarter)",
              "183 (half a year)",
              "365 (a year)",
              "1826 (5 years)"
            ],
            "_view_name": "SelectView",
            "style": "IPY_MODEL_68f946ad72964d9b839e4b67f38e191f",
            "rows": 5,
            "_dom_classes": [],
            "description": "",
            "_model_name": "SelectModel",
            "index": 2,
            "_view_module": "@jupyter-widgets/controls",
            "_model_module_version": "1.5.0",
            "_view_count": null,
            "disabled": false,
            "_view_module_version": "1.5.0",
            "description_tooltip": null,
            "_model_module": "@jupyter-widgets/controls",
            "layout": "IPY_MODEL_fdbe3ff71a22411c8d4f665f973b1a3b"
          }
        },
        "68f946ad72964d9b839e4b67f38e191f": {
          "model_module": "@jupyter-widgets/controls",
          "model_name": "DescriptionStyleModel",
          "state": {
            "_view_name": "StyleView",
            "_model_name": "DescriptionStyleModel",
            "description_width": "",
            "_view_module": "@jupyter-widgets/base",
            "_model_module_version": "1.5.0",
            "_view_count": null,
            "_view_module_version": "1.2.0",
            "_model_module": "@jupyter-widgets/controls"
          }
        },
        "fdbe3ff71a22411c8d4f665f973b1a3b": {
          "model_module": "@jupyter-widgets/base",
          "model_name": "LayoutModel",
          "state": {
            "_view_name": "LayoutView",
            "grid_template_rows": null,
            "right": null,
            "justify_content": null,
            "_view_module": "@jupyter-widgets/base",
            "overflow": null,
            "_model_module_version": "1.2.0",
            "_view_count": null,
            "flex_flow": null,
            "width": null,
            "min_width": null,
            "border": null,
            "align_items": null,
            "bottom": null,
            "_model_module": "@jupyter-widgets/base",
            "top": null,
            "grid_column": null,
            "overflow_y": null,
            "overflow_x": null,
            "grid_auto_flow": null,
            "grid_area": null,
            "grid_template_columns": null,
            "flex": null,
            "_model_name": "LayoutModel",
            "justify_items": null,
            "grid_row": null,
            "max_height": null,
            "align_content": null,
            "visibility": null,
            "align_self": null,
            "height": null,
            "min_height": null,
            "padding": null,
            "grid_auto_rows": null,
            "grid_gap": null,
            "max_width": null,
            "order": null,
            "_view_module_version": "1.2.0",
            "grid_template_areas": null,
            "object_position": null,
            "object_fit": null,
            "grid_auto_columns": null,
            "margin": null,
            "display": null,
            "left": null
          }
        },
        "9a5525b8f7ff4fc0a8e6d4ee2632b07f": {
          "model_module": "@jupyter-widgets/controls",
          "model_name": "IntSliderModel",
          "state": {
            "_view_name": "IntSliderView",
            "style": "IPY_MODEL_b282993e3eb94cc9b6179a939be4058f",
            "_dom_classes": [],
            "description": "",
            "step": 1,
            "_model_name": "IntSliderModel",
            "orientation": "horizontal",
            "max": 5,
            "_view_module": "@jupyter-widgets/controls",
            "_model_module_version": "1.5.0",
            "value": 2,
            "_view_count": null,
            "disabled": false,
            "_view_module_version": "1.5.0",
            "min": 2,
            "continuous_update": true,
            "readout_format": "d",
            "description_tooltip": null,
            "readout": true,
            "_model_module": "@jupyter-widgets/controls",
            "layout": "IPY_MODEL_5d688dbac4884e339447553788cafdf1"
          }
        },
        "b282993e3eb94cc9b6179a939be4058f": {
          "model_module": "@jupyter-widgets/controls",
          "model_name": "SliderStyleModel",
          "state": {
            "_view_name": "StyleView",
            "handle_color": null,
            "_model_name": "SliderStyleModel",
            "description_width": "",
            "_view_module": "@jupyter-widgets/base",
            "_model_module_version": "1.5.0",
            "_view_count": null,
            "_view_module_version": "1.2.0",
            "_model_module": "@jupyter-widgets/controls"
          }
        },
        "5d688dbac4884e339447553788cafdf1": {
          "model_module": "@jupyter-widgets/base",
          "model_name": "LayoutModel",
          "state": {
            "_view_name": "LayoutView",
            "grid_template_rows": null,
            "right": null,
            "justify_content": null,
            "_view_module": "@jupyter-widgets/base",
            "overflow": null,
            "_model_module_version": "1.2.0",
            "_view_count": null,
            "flex_flow": null,
            "width": null,
            "min_width": null,
            "border": null,
            "align_items": null,
            "bottom": null,
            "_model_module": "@jupyter-widgets/base",
            "top": null,
            "grid_column": null,
            "overflow_y": null,
            "overflow_x": null,
            "grid_auto_flow": null,
            "grid_area": null,
            "grid_template_columns": null,
            "flex": null,
            "_model_name": "LayoutModel",
            "justify_items": null,
            "grid_row": null,
            "max_height": null,
            "align_content": null,
            "visibility": null,
            "align_self": null,
            "height": null,
            "min_height": null,
            "padding": null,
            "grid_auto_rows": null,
            "grid_gap": null,
            "max_width": null,
            "order": null,
            "_view_module_version": "1.2.0",
            "grid_template_areas": null,
            "object_position": null,
            "object_fit": null,
            "grid_auto_columns": null,
            "margin": null,
            "display": null,
            "left": null
          }
        },
        "0ddf8778069340d0809c26504a552871": {
          "model_module": "@jupyter-widgets/controls",
          "model_name": "IntSliderModel",
          "state": {
            "_view_name": "IntSliderView",
            "style": "IPY_MODEL_82417b9143f64cf2bc24fc7b69443815",
            "_dom_classes": [],
            "description": "",
            "step": 1,
            "_model_name": "IntSliderModel",
            "orientation": "horizontal",
            "max": 20,
            "_view_module": "@jupyter-widgets/controls",
            "_model_module_version": "1.5.0",
            "value": 5,
            "_view_count": null,
            "disabled": false,
            "_view_module_version": "1.5.0",
            "min": 0,
            "continuous_update": true,
            "readout_format": "d",
            "description_tooltip": null,
            "readout": true,
            "_model_module": "@jupyter-widgets/controls",
            "layout": "IPY_MODEL_f848addfd24e48eca8ea43ae038f5a50"
          }
        },
        "82417b9143f64cf2bc24fc7b69443815": {
          "model_module": "@jupyter-widgets/controls",
          "model_name": "SliderStyleModel",
          "state": {
            "_view_name": "StyleView",
            "handle_color": null,
            "_model_name": "SliderStyleModel",
            "description_width": "",
            "_view_module": "@jupyter-widgets/base",
            "_model_module_version": "1.5.0",
            "_view_count": null,
            "_view_module_version": "1.2.0",
            "_model_module": "@jupyter-widgets/controls"
          }
        },
        "f848addfd24e48eca8ea43ae038f5a50": {
          "model_module": "@jupyter-widgets/base",
          "model_name": "LayoutModel",
          "state": {
            "_view_name": "LayoutView",
            "grid_template_rows": null,
            "right": null,
            "justify_content": null,
            "_view_module": "@jupyter-widgets/base",
            "overflow": null,
            "_model_module_version": "1.2.0",
            "_view_count": null,
            "flex_flow": null,
            "width": null,
            "min_width": null,
            "border": null,
            "align_items": null,
            "bottom": null,
            "_model_module": "@jupyter-widgets/base",
            "top": null,
            "grid_column": null,
            "overflow_y": null,
            "overflow_x": null,
            "grid_auto_flow": null,
            "grid_area": null,
            "grid_template_columns": null,
            "flex": null,
            "_model_name": "LayoutModel",
            "justify_items": null,
            "grid_row": null,
            "max_height": null,
            "align_content": null,
            "visibility": null,
            "align_self": null,
            "height": null,
            "min_height": null,
            "padding": null,
            "grid_auto_rows": null,
            "grid_gap": null,
            "max_width": null,
            "order": null,
            "_view_module_version": "1.2.0",
            "grid_template_areas": null,
            "object_position": null,
            "object_fit": null,
            "grid_auto_columns": null,
            "margin": null,
            "display": null,
            "left": null
          }
        },
        "0fedeeb454ee4e52b997c5895b77c23d": {
          "model_module": "@jupyter-widgets/controls",
          "model_name": "IntSliderModel",
          "state": {
            "_view_name": "IntSliderView",
            "style": "IPY_MODEL_7b8c1d8d293b4ca0ac866ee61530e958",
            "_dom_classes": [],
            "description": "",
            "step": 5,
            "_model_name": "IntSliderModel",
            "orientation": "horizontal",
            "max": 300,
            "_view_module": "@jupyter-widgets/controls",
            "_model_module_version": "1.5.0",
            "value": 85,
            "_view_count": null,
            "disabled": false,
            "_view_module_version": "1.5.0",
            "min": 5,
            "continuous_update": true,
            "readout_format": "d",
            "description_tooltip": null,
            "readout": true,
            "_model_module": "@jupyter-widgets/controls",
            "layout": "IPY_MODEL_4ae47ec0858b443e964e9a4487482d04"
          }
        },
        "7b8c1d8d293b4ca0ac866ee61530e958": {
          "model_module": "@jupyter-widgets/controls",
          "model_name": "SliderStyleModel",
          "state": {
            "_view_name": "StyleView",
            "handle_color": null,
            "_model_name": "SliderStyleModel",
            "description_width": "",
            "_view_module": "@jupyter-widgets/base",
            "_model_module_version": "1.5.0",
            "_view_count": null,
            "_view_module_version": "1.2.0",
            "_model_module": "@jupyter-widgets/controls"
          }
        },
        "4ae47ec0858b443e964e9a4487482d04": {
          "model_module": "@jupyter-widgets/base",
          "model_name": "LayoutModel",
          "state": {
            "_view_name": "LayoutView",
            "grid_template_rows": null,
            "right": null,
            "justify_content": null,
            "_view_module": "@jupyter-widgets/base",
            "overflow": null,
            "_model_module_version": "1.2.0",
            "_view_count": null,
            "flex_flow": null,
            "width": null,
            "min_width": null,
            "border": null,
            "align_items": null,
            "bottom": null,
            "_model_module": "@jupyter-widgets/base",
            "top": null,
            "grid_column": null,
            "overflow_y": null,
            "overflow_x": null,
            "grid_auto_flow": null,
            "grid_area": null,
            "grid_template_columns": null,
            "flex": null,
            "_model_name": "LayoutModel",
            "justify_items": null,
            "grid_row": null,
            "max_height": null,
            "align_content": null,
            "visibility": null,
            "align_self": null,
            "height": null,
            "min_height": null,
            "padding": null,
            "grid_auto_rows": null,
            "grid_gap": null,
            "max_width": null,
            "order": null,
            "_view_module_version": "1.2.0",
            "grid_template_areas": null,
            "object_position": null,
            "object_fit": null,
            "grid_auto_columns": null,
            "margin": null,
            "display": null,
            "left": null
          }
        },
        "81bd383a536f44039acb761be4da308e": {
          "model_module": "@jupyter-widgets/controls",
          "model_name": "IntProgressModel",
          "state": {
            "_view_name": "ProgressView",
            "style": "IPY_MODEL_7981e1b5e5104baf80f2c4ac0b2aa523",
            "_dom_classes": [],
            "description": "Progress:",
            "_model_name": "IntProgressModel",
            "bar_style": "",
            "max": 90,
            "_view_module": "@jupyter-widgets/controls",
            "_model_module_version": "1.5.0",
            "value": 90,
            "_view_count": null,
            "_view_module_version": "1.5.0",
            "orientation": "horizontal",
            "min": 0,
            "description_tooltip": null,
            "_model_module": "@jupyter-widgets/controls",
            "layout": "IPY_MODEL_dbeff4a5d0da4ef5974f25d5622ce38b"
          }
        },
        "7981e1b5e5104baf80f2c4ac0b2aa523": {
          "model_module": "@jupyter-widgets/controls",
          "model_name": "ProgressStyleModel",
          "state": {
            "_view_name": "StyleView",
            "_model_name": "ProgressStyleModel",
            "description_width": "",
            "_view_module": "@jupyter-widgets/base",
            "_model_module_version": "1.5.0",
            "_view_count": null,
            "_view_module_version": "1.2.0",
            "bar_color": null,
            "_model_module": "@jupyter-widgets/controls"
          }
        },
        "dbeff4a5d0da4ef5974f25d5622ce38b": {
          "model_module": "@jupyter-widgets/base",
          "model_name": "LayoutModel",
          "state": {
            "_view_name": "LayoutView",
            "grid_template_rows": null,
            "right": null,
            "justify_content": null,
            "_view_module": "@jupyter-widgets/base",
            "overflow": null,
            "_model_module_version": "1.2.0",
            "_view_count": null,
            "flex_flow": null,
            "width": null,
            "min_width": null,
            "border": null,
            "align_items": null,
            "bottom": null,
            "_model_module": "@jupyter-widgets/base",
            "top": null,
            "grid_column": null,
            "overflow_y": null,
            "overflow_x": null,
            "grid_auto_flow": null,
            "grid_area": null,
            "grid_template_columns": null,
            "flex": null,
            "_model_name": "LayoutModel",
            "justify_items": null,
            "grid_row": null,
            "max_height": null,
            "align_content": null,
            "visibility": null,
            "align_self": null,
            "height": null,
            "min_height": null,
            "padding": null,
            "grid_auto_rows": null,
            "grid_gap": null,
            "max_width": null,
            "order": null,
            "_view_module_version": "1.2.0",
            "grid_template_areas": null,
            "object_position": null,
            "object_fit": null,
            "grid_auto_columns": null,
            "margin": null,
            "display": null,
            "left": null
          }
        }
      }
    }
  },
  "cells": [
    {
      "cell_type": "markdown",
      "metadata": {
        "id": "view-in-github",
        "colab_type": "text"
      },
      "source": [
        "<a href=\"https://colab.research.google.com/github/vsojo/covid19/blob/master/Covid19_model.ipynb\" target=\"_parent\"><img src=\"https://colab.research.google.com/assets/colab-badge.svg\" alt=\"Open In Colab\"/></a>"
      ]
    },
    {
      "cell_type": "markdown",
      "metadata": {
        "id": "xzqjBLDWP2_h",
        "colab_type": "text"
      },
      "source": [
        "![American Museum of Natural History](https://raw.githubusercontent.com/vsojo/covid19/master/_img/AMNH_Logo_128x128.png)"
      ]
    },
    {
      "cell_type": "markdown",
      "metadata": {
        "id": "W0MD870fQf_v",
        "colab_type": "text"
      },
      "source": [
        "# A simple agent-based network model of SARS-CoV-2 spread\n",
        "**[ This model is under construction, please stay tuned, or [contact us](mailto:vsojo@amnh.org) to collaborate! ]**\n",
        "\n",
        "(if you are seeing this on GitHub, you may want to click on the link above to \"Open in Colab\". Please read along for further details)"
      ]
    },
    {
      "cell_type": "markdown",
      "metadata": {
        "id": "0NITd2o6Qr8O",
        "colab_type": "text"
      },
      "source": [
        "## Technical foreword: Running the model\n",
        "This model is a Jupyter Notebook developed in Google Colab. If you are seeing it anywhere else (e.g. GitHub), you may want to consider [opening it in Colab](https://colab.research.google.com/github/vsojo/covid19/blob/master/Covid19_model.ipynb).\n",
        "\n",
        "You can browse the model and some output just like you would a passive website. But you can also change parameters and run it yourself. To run the model once you're in Colab, you will need to log in with a Google-enabled account (apologies for that limitation). Then you will need to click **Runtime > Run all** in the menu at the top left.\n",
        "\n",
        "You will be given a warning that Google did not develop this code (because they didn't – [we](#contributors) did). You will need to accept this warning if you wish to run the code. Otherwise you should still be able to browse this document, but you will not be able to change or execute the code beyond that.\n",
        "\n",
        "Alternatively, if you are familiar Jupyter Notebooks, you can freely download this document (which contains the whole model) from either Colab or GitHub, but you may need to modify a few Google-specific bits (chiefly Google Widgets, which may not run on normal Jupyter)."
      ]
    },
    {
      "cell_type": "markdown",
      "metadata": {
        "id": "ynseR-iKab93",
        "colab_type": "text"
      },
      "source": [
        "# Infection status sequence (SEIRS progression)\n",
        "An infection in the model progresses through the following four main steps:\n",
        "![Infection status sequence (SEIRS)](https://raw.githubusercontent.com/vsojo/covid19/master/_img/SEIRS_sequence.png)"
      ]
    },
    {
      "cell_type": "markdown",
      "metadata": {
        "id": "qwm8wAEOfbMy",
        "colab_type": "text"
      },
      "source": [
        "## Controling the parameters\n",
        "You can alter any parameters that you decide in the dashboards below. All the code is included within this document itself, so you can essentially alter everything in your own copy of the code. However, the code is generally hidden. Wherever there is hidden code, e.g. in the dashboards, **you can double click on the dashboard to edit its code**. You can then double-click again to hide the code, or use **Edit > Show/hide code** in the main menu at the top.\n",
        "\n",
        "**Note:** if you wish to alter the code here, you will need to copy this document to your own Google Drive and save it there, then you should be able to change your copy at will. Please feel free to modify anything you wish, you won't affect our original code. If you come up with any suggestions for improvement or want to collaborate, we would very much welcome it if you [contact us](mailto:vsojo@amnh.org). If you are familiar with GitHub, you can also share your suggestions with us there."
      ]
    },
    {
      "cell_type": "markdown",
      "metadata": {
        "id": "rVB6CHYf74Qn",
        "colab_type": "text"
      },
      "source": [
        "# Introduction\n",
        "This model seeks to minimally reproduce the behaviour of a system in which there are people living in cities, and there is an infection meant to mimic the 2020 Covid-19 crisis. People meet other people and get infected or pass on their infections. They also recover, or they can get worse and require hospitalisation, or even a ventilator. People may also die. Existing health pre-conditions and the unavailability of hospital beds/ventilators increase the risk of becoming worse and of dying.\n",
        "\n",
        "Ultimately, **the objective of the model is to allow customisation in the study of the epidemiological behaviour of a pandemic, as well as the effects of different social measures**, such as what happens when people self-isolate, when travel to other cities (which may have their own infections going on) is restricted or allowed again, or local lockdowns are imposed that restrict how many people each person meets every day.\n",
        "\n",
        "This model is (constantly) under development. A list of [contributors](#contributors) is presented at the end of this document. If you have any suggestions for improvement or would like to collaborate, please leave your comments on Colab, on GitHub, or via email at vsojo@amnh.org"
      ]
    },
    {
      "cell_type": "code",
      "metadata": {
        "id": "eBr3g00X6uAD",
        "colab_type": "code",
        "cellView": "form",
        "colab": {}
      },
      "source": [
        "#@title Libraries, imports [double click here to show/hide code]\n",
        "#################\n",
        "#   LIBRARIES   #\n",
        "#################\n",
        "import ipywidgets\n",
        "from IPython.display import display\n",
        "from google.colab import widgets as gwidgets\n",
        "import math\n",
        "from matplotlib import pyplot as plt\n",
        "import numpy as np\n",
        "import pandas as pd\n",
        "import random\n",
        "from scipy.stats import poisson\n",
        "from collections import defaultdict"
      ],
      "execution_count": 0,
      "outputs": []
    },
    {
      "cell_type": "code",
      "metadata": {
        "id": "NwFoAmaCpNmZ",
        "colab_type": "code",
        "cellView": "form",
        "colab": {}
      },
      "source": [
        "#@title Helper functions [double click here to show/hide code]\n",
        "\n",
        "##############################\n",
        "#  RANDOM-NUMBER GENERATION  #\n",
        "##############################\n",
        "N_RANDS = 100\n",
        "def get_rand():\n",
        "    \"\"\"Returns a random number between 0 and 1\"\"\"\n",
        "    if len(rands) == 0:\n",
        "        # fill up the list of random numbers if it's empty\n",
        "        rands.extend(np.random.rand(N_RANDS))\n",
        "    return rands.pop()\n",
        "# end def: get_rand()"
      ],
      "execution_count": 0,
      "outputs": []
    },
    {
      "cell_type": "code",
      "metadata": {
        "id": "h4BpaRRNox3E",
        "colab_type": "code",
        "cellView": "form",
        "colab": {}
      },
      "source": [
        "#@title Constants [double click here to show/hide code]\n",
        "\n",
        "###################\n",
        "#  PERSON - HEALTH STATUS  #\n",
        "###################\n",
        "HEALTHY = 1\n",
        "ILL = 2\n",
        "VERY_ILL = 3\n",
        "CRITICAL = 4\n",
        "\n",
        "#######################################\n",
        "#  INFECTION - SUSCEPTIBILITY STATUS  #\n",
        "#######################################\n",
        "SUSCEPTIBLE   = 0 # can catch a disease\n",
        "LATENT        = 1 # equivalent to \"exposed\" in a typical SEIR model. Using \"latent\" here because \"exposed\" can be ambiguous.\n",
        "INFECTIOUS    = 2 # actively contagious at present\n",
        "IMMUNE        = 3 # equivalent to \"recovered\" in a typical SEIR model. Using \"immune\" here because \"recovered\" can be ambiguous when considering symptoms\n",
        "RESUSCEPTIBLE = 4 # In case the infection can be reacquired, but at a lower/different susceptibility, otherwise SUSCEPTIBLE can be used\n",
        "\n",
        "################################\n",
        "#  INFECTION - SYMPTOM STATUS  #\n",
        "################################\n",
        "ASYMPTOMATIC  = 0\n",
        "MILD          = 1\n",
        "SEVERE        = 2"
      ],
      "execution_count": 0,
      "outputs": []
    },
    {
      "cell_type": "markdown",
      "metadata": {
        "id": "X6oBuzCmQ8MU",
        "colab_type": "text"
      },
      "source": [
        "# Description of the model\n",
        "This is an individual-based or agent-based model. That means that the model tracks the health and behaviours of each person individually, and the events in each city one by one.\n",
        "There are four (4) main types of entity (or \"objects\") in this model: **Person**, **City**, **Disease**, and **Infection**. \n",
        "+ Objects of the **`Person`** class have properties such as age, health status, whether or not they are infected, and more. At each iteration, they can go out, meet other people, get infected, their health can get better or worse, they can travel to other cities, and more.\n",
        "+ Objects of the **`City`** class contain objects of the Person class. Cities can take actions such as impose lockdown, cancel travel to other cities, and so on. Cities also have intrinsic qualities such as how social people are, what population distribution (pyramid) the ages of its citizens follow, and more. In a minimal case, the model may have only one city.\n",
        "+ Objects of the **`Disease`** class contain specifications about epidemiological and biological factors, such as duration of symptoms, infectivity per contact, and more. In the basic version of the model there is only one Disease.\n",
        "+ Objects of the **`Infection`** class are instances of a `Disease` when acquired by a `Person`, and contain details such as how long ago it was acquired, whether it is presently latent, contagious, immunised, or if the person is susceptible to it again.\n",
        "\n",
        "These classes are described in further detail below. But first, we address (and write code for) age distributions."
      ]
    },
    {
      "cell_type": "markdown",
      "metadata": {
        "id": "k0v9gBNxjvDN",
        "colab_type": "text"
      },
      "source": [
        "# Age distribution\n",
        "The ages of people in each city are sampled from a population pyramid.\n",
        "\n",
        "You can choose from a few example pyramids that are pre-computed into the model, or you can enter details of your own **Custom** pyramid.\n",
        "\n",
        "The pyramids are presently defined as symmetric by sex (i.e. there are no differences between the distributions of men and women). You can explore the types in the following tabs, and then choose your desired type below.\n",
        "\n",
        "**Note:** The pyramids are presented as probability density functions of being a certain age."
      ]
    },
    {
      "cell_type": "code",
      "metadata": {
        "id": "mVRZKfBaM0cY",
        "colab_type": "code",
        "cellView": "form",
        "outputId": "1bf1ca8e-e5c9-4dff-9395-f95396e5e642",
        "colab": {
          "base_uri": "https://localhost:8080/",
          "height": 318,
          "referenced_widgets": [
            "904a1bfbf0de4a37adda0b703e5fe13b",
            "660366776c2248d69f1fe32f1ae619fd",
            "0a47e56a2c494192b9ba28c0dcab3d03",
            "7a7e949a88004a25b90f3f462ccd8247",
            "45b66eecde7446f6bb40ef7160107a2d",
            "50bb736cb89a4062b4f81bdd950fc99c",
            "61af4062482e49dea34900d3fee64cfd",
            "062d07234b3548fb8d419015b204ceff",
            "42df82780bcb4c6a89d0b007d2c577ff",
            "2b6b2f8579224103a8cf9eb97b2175f6",
            "0bf687b551e24b9ea2598d90df99820c",
            "03f4f38a37d740ec9812e8a30015864a",
            "19b79f78ab38473b96291a65f4faa9cc",
            "e6c707cd04b54b4bbd3f7080c0d15f73",
            "fdbbe1f2a95a4e2f869803eb5b738be0",
            "e1f931bd7e264996bb1f57529f5f0cba",
            "3834e3c28e0d441e85008cfff925b0a0",
            "4bf840481a92484d9c3d8179ca183984",
            "3b061238c3be4470966e0bf574c451c1",
            "5f238c69f3a7458c822a0f786981a56a",
            "03249019ae9a4917812a4bb4b9220cfb",
            "f8080987c75b49d8b9280936d98828e3",
            "8074516393384e20b8ade549a6238ad4",
            "7ced6cf78eb240efbe08c3136e77cb8e",
            "aec3f3232caf4e6fbf77e207d35e50d7",
            "4859bff59a634a969a3ad365278b5484",
            "0e37c21e5b35461c9fa7d1df000a7d42",
            "38a34d2f05b245b49cd5ebe863ca65a1",
            "01ec408aa9094d15903a870cbf732596",
            "ea8ba5295c094b0085101b122891a88c",
            "8e323a44558c46a6b8a6b3dca9757830",
            "176606bf41054b4395ad0cb3c5ae5b45",
            "c53dbdbf44eb4c6889cea65864432b42",
            "cda948b1b563441097a2ae101334aa8c",
            "52a84868a4864856894a1bc075d081b1",
            "7cf6902b039f445d8c84bf508119602e",
            "b6dddf754cc449269ef5050749ba6590",
            "6f768516b4d447de8acc4983736be978",
            "47353fabe3184f49ad7eb7c9cc184bdd",
            "17780789c0bc4a41b42be8c89a8d6523",
            "c80baefc5e2b4df79214deb429c9cff7",
            "915cd6b3231b492fbb35c1ba9a817b22",
            "72f7e57fb92040e8bec4f5bdf0e908f7",
            "81385cf566cd4063a38dbb8e5cde8b94",
            "230487908a224cab9ad206e2ed58a241",
            "84fe8b1f8a0f4e618ab16aa9b5bfa550",
            "ccc77c50673c4e2cb960e745b7e9d424",
            "d7fa5194f70a42cf8720e8a2c202f9f4",
            "ac3031cf8a1941d09b3be83b64b51eb5",
            "a1ece07124f04d718abe192607eba48b",
            "88e593095adb437587b14eb32eed777d",
            "77f8d7fe906540eda12754a955009bc9",
            "929f548b228840499507e1b7f626f15e",
            "79221259ef214ea7bdd22f1cfcb63271",
            "2acc101a45d64490a9fcd6edefa1e140",
            "6c513fac5f48489ea890abd9f6fb4082",
            "4d3ed069a34d4218b9fa99a049038b5e",
            "3bf4da0e2fd64ee9b84f4d67f3676645",
            "2eeeaf678249450e9b13e65684579283",
            "38f7508abac44f3392ed2eaa21bc19fa",
            "dcb30547422942aabd048a2bc3b689aa",
            "64132e1ec99544008affcf40f4f1adbe",
            "147742193bec464ebf049c32fc9ffa69"
          ]
        }
      },
      "source": [
        "#@title Custom pyramid [double-click here to show/hide code]\n",
        "print(\"If desired, please enter either population numbers, percentages,\\nor proportions for a custom population pyramid.\")\n",
        "grid = gwidgets.Grid(7, 3)\n",
        "\n",
        "raw_ages = ['0-4', '5-9', '10-14', '15-19', '20-24', '25-29', '30-34', '35-39', '40-44', '45-49', '50-54', '55-59', '60-64', '65-69', '70-74', '75-79', '80-84', '85-89', '90-94', '95-99', '100+']\n",
        "age_pairs = [age.replace('-', '_') for age in raw_ages]\n",
        "age_pairs[-1] = age_pairs[-1].replace('+', \"_\")\n",
        "age_freqs = [2419114, 2742065, 2653148, 2478474, 2162329, 2130779, 2125051, 1987068, 1862545, 1688822, 1582057, 1382558, 1131313, 823993, 576310, 370146, 218816, 114862, 48126, 15534, 2718]\n",
        "\n",
        "float_choosers = {}\n",
        "float_chooser_indices = []\n",
        "for i, (row, col) in enumerate(grid):\n",
        "  index = 'pop_' + age_pairs[i]\n",
        "  float_choosers[index] = ipywidgets.FloatText(\n",
        "    value=age_freqs[i],\n",
        "    min=0,\n",
        "    max=100000000,\n",
        "    step=1,\n",
        "    description=index,\n",
        "    disabled=False\n",
        "  )\n",
        "  display(float_choosers[index])\n",
        "  float_chooser_indices.append(index)\n",
        "# end for"
      ],
      "execution_count": 4,
      "outputs": [
        {
          "output_type": "stream",
          "text": [
            "If desired, please enter either population numbers, percentages,\n",
            "or proportions for a custom population pyramid.\n"
          ],
          "name": "stdout"
        },
        {
          "output_type": "display_data",
          "data": {
            "text/html": [
              "<style>\n",
              "       table#id2, #id2 > tbody > tr > th, #id2 > tbody > tr > td {\n",
              "         border: 1px solid lightgray;\n",
              "         border-collapse:collapse;\n",
              "         \n",
              "        }</style>"
            ],
            "text/plain": [
              "<IPython.core.display.HTML object>"
            ]
          },
          "metadata": {
            "tags": [
              "outputarea_id2"
            ]
          }
        },
        {
          "output_type": "display_data",
          "data": {
            "text/html": [
              "<table id=id2><tr><td id=id2-0-0></td><td id=id2-0-1></td><td id=id2-0-2></td></tr><tr><td id=id2-1-0></td><td id=id2-1-1></td><td id=id2-1-2></td></tr><tr><td id=id2-2-0></td><td id=id2-2-1></td><td id=id2-2-2></td></tr><tr><td id=id2-3-0></td><td id=id2-3-1></td><td id=id2-3-2></td></tr><tr><td id=id2-4-0></td><td id=id2-4-1></td><td id=id2-4-2></td></tr><tr><td id=id2-5-0></td><td id=id2-5-1></td><td id=id2-5-2></td></tr><tr><td id=id2-6-0></td><td id=id2-6-1></td><td id=id2-6-2></td></tr></table>"
            ],
            "text/plain": [
              "<IPython.core.display.HTML object>"
            ]
          },
          "metadata": {
            "tags": [
              "outputarea_id2"
            ]
          }
        },
        {
          "output_type": "display_data",
          "data": {
            "application/javascript": [
              "window[\"ddccb3d8-a1d6-11ea-b814-0242ac1c0002\"] = google.colab.output.getActiveOutputArea();\n",
              "//# sourceURL=js_86219434cf"
            ],
            "text/plain": [
              "<IPython.core.display.Javascript object>"
            ]
          },
          "metadata": {
            "tags": [
              "id2-0-0",
              "outputarea_id2"
            ]
          }
        },
        {
          "output_type": "display_data",
          "data": {
            "application/javascript": [
              "window[\"ddccf3ca-a1d6-11ea-b814-0242ac1c0002\"] = document.querySelector(\"#id2-0-0\");\n",
              "//# sourceURL=js_f2c19aff26"
            ],
            "text/plain": [
              "<IPython.core.display.Javascript object>"
            ]
          },
          "metadata": {
            "tags": [
              "id2-0-0",
              "outputarea_id2"
            ]
          }
        },
        {
          "output_type": "display_data",
          "data": {
            "application/javascript": [
              "window[\"ddcd3420-a1d6-11ea-b814-0242ac1c0002\"] = google.colab.output.setActiveOutputArea(window[\"ddccf3ca-a1d6-11ea-b814-0242ac1c0002\"]);\n",
              "//# sourceURL=js_b1707184d5"
            ],
            "text/plain": [
              "<IPython.core.display.Javascript object>"
            ]
          },
          "metadata": {
            "tags": [
              "id2-0-0",
              "outputarea_id2"
            ]
          }
        },
        {
          "output_type": "display_data",
          "data": {
            "application/vnd.jupyter.widget-view+json": {
              "model_id": "904a1bfbf0de4a37adda0b703e5fe13b",
              "version_minor": 0,
              "version_major": 2
            },
            "text/plain": [
              "FloatText(value=2419114.0, description='pop_0_4', step=1.0)"
            ]
          },
          "metadata": {
            "tags": [
              "id2-0-0",
              "outputarea_id2",
              "user_output"
            ]
          }
        },
        {
          "output_type": "display_data",
          "data": {
            "application/javascript": [
              "window[\"ddd034e0-a1d6-11ea-b814-0242ac1c0002\"] = google.colab.output.setActiveOutputArea(window[\"ddccb3d8-a1d6-11ea-b814-0242ac1c0002\"]);\n",
              "//# sourceURL=js_f600821619"
            ],
            "text/plain": [
              "<IPython.core.display.Javascript object>"
            ]
          },
          "metadata": {
            "tags": [
              "id2-0-0",
              "outputarea_id2"
            ]
          }
        },
        {
          "output_type": "display_data",
          "data": {
            "application/javascript": [
              "window[\"ddd16946-a1d6-11ea-b814-0242ac1c0002\"] = google.colab.output.getActiveOutputArea();\n",
              "//# sourceURL=js_0819921a22"
            ],
            "text/plain": [
              "<IPython.core.display.Javascript object>"
            ]
          },
          "metadata": {
            "tags": [
              "id2-0-1",
              "outputarea_id2"
            ]
          }
        },
        {
          "output_type": "display_data",
          "data": {
            "application/javascript": [
              "window[\"ddd19cd6-a1d6-11ea-b814-0242ac1c0002\"] = document.querySelector(\"#id2-0-1\");\n",
              "//# sourceURL=js_21334bc37f"
            ],
            "text/plain": [
              "<IPython.core.display.Javascript object>"
            ]
          },
          "metadata": {
            "tags": [
              "id2-0-1",
              "outputarea_id2"
            ]
          }
        },
        {
          "output_type": "display_data",
          "data": {
            "application/javascript": [
              "window[\"ddd1cada-a1d6-11ea-b814-0242ac1c0002\"] = google.colab.output.setActiveOutputArea(window[\"ddd19cd6-a1d6-11ea-b814-0242ac1c0002\"]);\n",
              "//# sourceURL=js_7cd9bc5f0c"
            ],
            "text/plain": [
              "<IPython.core.display.Javascript object>"
            ]
          },
          "metadata": {
            "tags": [
              "id2-0-1",
              "outputarea_id2"
            ]
          }
        },
        {
          "output_type": "display_data",
          "data": {
            "application/vnd.jupyter.widget-view+json": {
              "model_id": "7a7e949a88004a25b90f3f462ccd8247",
              "version_minor": 0,
              "version_major": 2
            },
            "text/plain": [
              "FloatText(value=2742065.0, description='pop_5_9', step=1.0)"
            ]
          },
          "metadata": {
            "tags": [
              "id2-0-1",
              "outputarea_id2",
              "user_output"
            ]
          }
        },
        {
          "output_type": "display_data",
          "data": {
            "application/javascript": [
              "window[\"ddd4a976-a1d6-11ea-b814-0242ac1c0002\"] = google.colab.output.setActiveOutputArea(window[\"ddd16946-a1d6-11ea-b814-0242ac1c0002\"]);\n",
              "//# sourceURL=js_6b37f1326e"
            ],
            "text/plain": [
              "<IPython.core.display.Javascript object>"
            ]
          },
          "metadata": {
            "tags": [
              "id2-0-1",
              "outputarea_id2"
            ]
          }
        },
        {
          "output_type": "display_data",
          "data": {
            "application/javascript": [
              "window[\"ddd5f7ea-a1d6-11ea-b814-0242ac1c0002\"] = google.colab.output.getActiveOutputArea();\n",
              "//# sourceURL=js_87e268f11e"
            ],
            "text/plain": [
              "<IPython.core.display.Javascript object>"
            ]
          },
          "metadata": {
            "tags": [
              "id2-0-2",
              "outputarea_id2"
            ]
          }
        },
        {
          "output_type": "display_data",
          "data": {
            "application/javascript": [
              "window[\"ddd637c8-a1d6-11ea-b814-0242ac1c0002\"] = document.querySelector(\"#id2-0-2\");\n",
              "//# sourceURL=js_75a26636b0"
            ],
            "text/plain": [
              "<IPython.core.display.Javascript object>"
            ]
          },
          "metadata": {
            "tags": [
              "id2-0-2",
              "outputarea_id2"
            ]
          }
        },
        {
          "output_type": "display_data",
          "data": {
            "application/javascript": [
              "window[\"ddd6751c-a1d6-11ea-b814-0242ac1c0002\"] = google.colab.output.setActiveOutputArea(window[\"ddd637c8-a1d6-11ea-b814-0242ac1c0002\"]);\n",
              "//# sourceURL=js_9f9e6dd42b"
            ],
            "text/plain": [
              "<IPython.core.display.Javascript object>"
            ]
          },
          "metadata": {
            "tags": [
              "id2-0-2",
              "outputarea_id2"
            ]
          }
        },
        {
          "output_type": "display_data",
          "data": {
            "application/vnd.jupyter.widget-view+json": {
              "model_id": "61af4062482e49dea34900d3fee64cfd",
              "version_minor": 0,
              "version_major": 2
            },
            "text/plain": [
              "FloatText(value=2653148.0, description='pop_10_14', step=1.0)"
            ]
          },
          "metadata": {
            "tags": [
              "id2-0-2",
              "outputarea_id2",
              "user_output"
            ]
          }
        },
        {
          "output_type": "display_data",
          "data": {
            "application/javascript": [
              "window[\"ddd9b93e-a1d6-11ea-b814-0242ac1c0002\"] = google.colab.output.setActiveOutputArea(window[\"ddd5f7ea-a1d6-11ea-b814-0242ac1c0002\"]);\n",
              "//# sourceURL=js_58b1fa0632"
            ],
            "text/plain": [
              "<IPython.core.display.Javascript object>"
            ]
          },
          "metadata": {
            "tags": [
              "id2-0-2",
              "outputarea_id2"
            ]
          }
        },
        {
          "output_type": "display_data",
          "data": {
            "application/javascript": [
              "window[\"dddade54-a1d6-11ea-b814-0242ac1c0002\"] = google.colab.output.getActiveOutputArea();\n",
              "//# sourceURL=js_2565d637a9"
            ],
            "text/plain": [
              "<IPython.core.display.Javascript object>"
            ]
          },
          "metadata": {
            "tags": [
              "id2-1-0",
              "outputarea_id2"
            ]
          }
        },
        {
          "output_type": "display_data",
          "data": {
            "application/javascript": [
              "window[\"dddb1bf8-a1d6-11ea-b814-0242ac1c0002\"] = document.querySelector(\"#id2-1-0\");\n",
              "//# sourceURL=js_8f623f6511"
            ],
            "text/plain": [
              "<IPython.core.display.Javascript object>"
            ]
          },
          "metadata": {
            "tags": [
              "id2-1-0",
              "outputarea_id2"
            ]
          }
        },
        {
          "output_type": "display_data",
          "data": {
            "application/javascript": [
              "window[\"dddb5eec-a1d6-11ea-b814-0242ac1c0002\"] = google.colab.output.setActiveOutputArea(window[\"dddb1bf8-a1d6-11ea-b814-0242ac1c0002\"]);\n",
              "//# sourceURL=js_1412b2b05e"
            ],
            "text/plain": [
              "<IPython.core.display.Javascript object>"
            ]
          },
          "metadata": {
            "tags": [
              "id2-1-0",
              "outputarea_id2"
            ]
          }
        },
        {
          "output_type": "display_data",
          "data": {
            "application/vnd.jupyter.widget-view+json": {
              "model_id": "2b6b2f8579224103a8cf9eb97b2175f6",
              "version_minor": 0,
              "version_major": 2
            },
            "text/plain": [
              "FloatText(value=2478474.0, description='pop_15_19', step=1.0)"
            ]
          },
          "metadata": {
            "tags": [
              "id2-1-0",
              "outputarea_id2",
              "user_output"
            ]
          }
        },
        {
          "output_type": "display_data",
          "data": {
            "application/javascript": [
              "window[\"ddddec5c-a1d6-11ea-b814-0242ac1c0002\"] = google.colab.output.setActiveOutputArea(window[\"dddade54-a1d6-11ea-b814-0242ac1c0002\"]);\n",
              "//# sourceURL=js_219deca8ad"
            ],
            "text/plain": [
              "<IPython.core.display.Javascript object>"
            ]
          },
          "metadata": {
            "tags": [
              "id2-1-0",
              "outputarea_id2"
            ]
          }
        },
        {
          "output_type": "display_data",
          "data": {
            "application/javascript": [
              "window[\"dddf20f4-a1d6-11ea-b814-0242ac1c0002\"] = google.colab.output.getActiveOutputArea();\n",
              "//# sourceURL=js_c1aba8167a"
            ],
            "text/plain": [
              "<IPython.core.display.Javascript object>"
            ]
          },
          "metadata": {
            "tags": [
              "id2-1-1",
              "outputarea_id2"
            ]
          }
        },
        {
          "output_type": "display_data",
          "data": {
            "application/javascript": [
              "window[\"dddf5f7e-a1d6-11ea-b814-0242ac1c0002\"] = document.querySelector(\"#id2-1-1\");\n",
              "//# sourceURL=js_f41afea120"
            ],
            "text/plain": [
              "<IPython.core.display.Javascript object>"
            ]
          },
          "metadata": {
            "tags": [
              "id2-1-1",
              "outputarea_id2"
            ]
          }
        },
        {
          "output_type": "display_data",
          "data": {
            "application/javascript": [
              "window[\"dddf9f98-a1d6-11ea-b814-0242ac1c0002\"] = google.colab.output.setActiveOutputArea(window[\"dddf5f7e-a1d6-11ea-b814-0242ac1c0002\"]);\n",
              "//# sourceURL=js_5e8f4de54f"
            ],
            "text/plain": [
              "<IPython.core.display.Javascript object>"
            ]
          },
          "metadata": {
            "tags": [
              "id2-1-1",
              "outputarea_id2"
            ]
          }
        },
        {
          "output_type": "display_data",
          "data": {
            "application/vnd.jupyter.widget-view+json": {
              "model_id": "19b79f78ab38473b96291a65f4faa9cc",
              "version_minor": 0,
              "version_major": 2
            },
            "text/plain": [
              "FloatText(value=2162329.0, description='pop_20_24', step=1.0)"
            ]
          },
          "metadata": {
            "tags": [
              "id2-1-1",
              "outputarea_id2",
              "user_output"
            ]
          }
        },
        {
          "output_type": "display_data",
          "data": {
            "application/javascript": [
              "window[\"dde2279a-a1d6-11ea-b814-0242ac1c0002\"] = google.colab.output.setActiveOutputArea(window[\"dddf20f4-a1d6-11ea-b814-0242ac1c0002\"]);\n",
              "//# sourceURL=js_49f0083bd7"
            ],
            "text/plain": [
              "<IPython.core.display.Javascript object>"
            ]
          },
          "metadata": {
            "tags": [
              "id2-1-1",
              "outputarea_id2"
            ]
          }
        },
        {
          "output_type": "display_data",
          "data": {
            "application/javascript": [
              "window[\"dde356ec-a1d6-11ea-b814-0242ac1c0002\"] = google.colab.output.getActiveOutputArea();\n",
              "//# sourceURL=js_8e60892984"
            ],
            "text/plain": [
              "<IPython.core.display.Javascript object>"
            ]
          },
          "metadata": {
            "tags": [
              "id2-1-2",
              "outputarea_id2"
            ]
          }
        },
        {
          "output_type": "display_data",
          "data": {
            "application/javascript": [
              "window[\"dde39e5e-a1d6-11ea-b814-0242ac1c0002\"] = document.querySelector(\"#id2-1-2\");\n",
              "//# sourceURL=js_9c6ea5af32"
            ],
            "text/plain": [
              "<IPython.core.display.Javascript object>"
            ]
          },
          "metadata": {
            "tags": [
              "id2-1-2",
              "outputarea_id2"
            ]
          }
        },
        {
          "output_type": "display_data",
          "data": {
            "application/javascript": [
              "window[\"dde3df68-a1d6-11ea-b814-0242ac1c0002\"] = google.colab.output.setActiveOutputArea(window[\"dde39e5e-a1d6-11ea-b814-0242ac1c0002\"]);\n",
              "//# sourceURL=js_24313884bd"
            ],
            "text/plain": [
              "<IPython.core.display.Javascript object>"
            ]
          },
          "metadata": {
            "tags": [
              "id2-1-2",
              "outputarea_id2"
            ]
          }
        },
        {
          "output_type": "display_data",
          "data": {
            "application/vnd.jupyter.widget-view+json": {
              "model_id": "e1f931bd7e264996bb1f57529f5f0cba",
              "version_minor": 0,
              "version_major": 2
            },
            "text/plain": [
              "FloatText(value=2130779.0, description='pop_25_29', step=1.0)"
            ]
          },
          "metadata": {
            "tags": [
              "id2-1-2",
              "outputarea_id2",
              "user_output"
            ]
          }
        },
        {
          "output_type": "display_data",
          "data": {
            "application/javascript": [
              "window[\"dde66ba2-a1d6-11ea-b814-0242ac1c0002\"] = google.colab.output.setActiveOutputArea(window[\"dde356ec-a1d6-11ea-b814-0242ac1c0002\"]);\n",
              "//# sourceURL=js_3136fcf33c"
            ],
            "text/plain": [
              "<IPython.core.display.Javascript object>"
            ]
          },
          "metadata": {
            "tags": [
              "id2-1-2",
              "outputarea_id2"
            ]
          }
        },
        {
          "output_type": "display_data",
          "data": {
            "application/javascript": [
              "window[\"dde7ab02-a1d6-11ea-b814-0242ac1c0002\"] = google.colab.output.getActiveOutputArea();\n",
              "//# sourceURL=js_2b2591381a"
            ],
            "text/plain": [
              "<IPython.core.display.Javascript object>"
            ]
          },
          "metadata": {
            "tags": [
              "id2-2-0",
              "outputarea_id2"
            ]
          }
        },
        {
          "output_type": "display_data",
          "data": {
            "application/javascript": [
              "window[\"dde7ef40-a1d6-11ea-b814-0242ac1c0002\"] = document.querySelector(\"#id2-2-0\");\n",
              "//# sourceURL=js_977f365f5e"
            ],
            "text/plain": [
              "<IPython.core.display.Javascript object>"
            ]
          },
          "metadata": {
            "tags": [
              "id2-2-0",
              "outputarea_id2"
            ]
          }
        },
        {
          "output_type": "display_data",
          "data": {
            "application/javascript": [
              "window[\"dde82d8e-a1d6-11ea-b814-0242ac1c0002\"] = google.colab.output.setActiveOutputArea(window[\"dde7ef40-a1d6-11ea-b814-0242ac1c0002\"]);\n",
              "//# sourceURL=js_d4272eb306"
            ],
            "text/plain": [
              "<IPython.core.display.Javascript object>"
            ]
          },
          "metadata": {
            "tags": [
              "id2-2-0",
              "outputarea_id2"
            ]
          }
        },
        {
          "output_type": "display_data",
          "data": {
            "application/vnd.jupyter.widget-view+json": {
              "model_id": "3b061238c3be4470966e0bf574c451c1",
              "version_minor": 0,
              "version_major": 2
            },
            "text/plain": [
              "FloatText(value=2125051.0, description='pop_30_34', step=1.0)"
            ]
          },
          "metadata": {
            "tags": [
              "id2-2-0",
              "outputarea_id2",
              "user_output"
            ]
          }
        },
        {
          "output_type": "display_data",
          "data": {
            "application/javascript": [
              "window[\"ddeabb9e-a1d6-11ea-b814-0242ac1c0002\"] = google.colab.output.setActiveOutputArea(window[\"dde7ab02-a1d6-11ea-b814-0242ac1c0002\"]);\n",
              "//# sourceURL=js_9d606509c5"
            ],
            "text/plain": [
              "<IPython.core.display.Javascript object>"
            ]
          },
          "metadata": {
            "tags": [
              "id2-2-0",
              "outputarea_id2"
            ]
          }
        },
        {
          "output_type": "display_data",
          "data": {
            "application/javascript": [
              "window[\"ddebea78-a1d6-11ea-b814-0242ac1c0002\"] = google.colab.output.getActiveOutputArea();\n",
              "//# sourceURL=js_84718ffdd8"
            ],
            "text/plain": [
              "<IPython.core.display.Javascript object>"
            ]
          },
          "metadata": {
            "tags": [
              "id2-2-1",
              "outputarea_id2"
            ]
          }
        },
        {
          "output_type": "display_data",
          "data": {
            "application/javascript": [
              "window[\"ddec2f9c-a1d6-11ea-b814-0242ac1c0002\"] = document.querySelector(\"#id2-2-1\");\n",
              "//# sourceURL=js_9b811236e7"
            ],
            "text/plain": [
              "<IPython.core.display.Javascript object>"
            ]
          },
          "metadata": {
            "tags": [
              "id2-2-1",
              "outputarea_id2"
            ]
          }
        },
        {
          "output_type": "display_data",
          "data": {
            "application/javascript": [
              "window[\"ddec6be2-a1d6-11ea-b814-0242ac1c0002\"] = google.colab.output.setActiveOutputArea(window[\"ddec2f9c-a1d6-11ea-b814-0242ac1c0002\"]);\n",
              "//# sourceURL=js_c43dfde4c8"
            ],
            "text/plain": [
              "<IPython.core.display.Javascript object>"
            ]
          },
          "metadata": {
            "tags": [
              "id2-2-1",
              "outputarea_id2"
            ]
          }
        },
        {
          "output_type": "display_data",
          "data": {
            "application/vnd.jupyter.widget-view+json": {
              "model_id": "f8080987c75b49d8b9280936d98828e3",
              "version_minor": 0,
              "version_major": 2
            },
            "text/plain": [
              "FloatText(value=1987068.0, description='pop_35_39', step=1.0)"
            ]
          },
          "metadata": {
            "tags": [
              "id2-2-1",
              "outputarea_id2",
              "user_output"
            ]
          }
        },
        {
          "output_type": "display_data",
          "data": {
            "application/javascript": [
              "window[\"ddeef862-a1d6-11ea-b814-0242ac1c0002\"] = google.colab.output.setActiveOutputArea(window[\"ddebea78-a1d6-11ea-b814-0242ac1c0002\"]);\n",
              "//# sourceURL=js_092c1eefa4"
            ],
            "text/plain": [
              "<IPython.core.display.Javascript object>"
            ]
          },
          "metadata": {
            "tags": [
              "id2-2-1",
              "outputarea_id2"
            ]
          }
        },
        {
          "output_type": "display_data",
          "data": {
            "application/javascript": [
              "window[\"ddf0237c-a1d6-11ea-b814-0242ac1c0002\"] = google.colab.output.getActiveOutputArea();\n",
              "//# sourceURL=js_17740aadec"
            ],
            "text/plain": [
              "<IPython.core.display.Javascript object>"
            ]
          },
          "metadata": {
            "tags": [
              "id2-2-2",
              "outputarea_id2"
            ]
          }
        },
        {
          "output_type": "display_data",
          "data": {
            "application/javascript": [
              "window[\"ddf0615c-a1d6-11ea-b814-0242ac1c0002\"] = document.querySelector(\"#id2-2-2\");\n",
              "//# sourceURL=js_b0d1a533b1"
            ],
            "text/plain": [
              "<IPython.core.display.Javascript object>"
            ]
          },
          "metadata": {
            "tags": [
              "id2-2-2",
              "outputarea_id2"
            ]
          }
        },
        {
          "output_type": "display_data",
          "data": {
            "application/javascript": [
              "window[\"ddf0a356-a1d6-11ea-b814-0242ac1c0002\"] = google.colab.output.setActiveOutputArea(window[\"ddf0615c-a1d6-11ea-b814-0242ac1c0002\"]);\n",
              "//# sourceURL=js_864ee01047"
            ],
            "text/plain": [
              "<IPython.core.display.Javascript object>"
            ]
          },
          "metadata": {
            "tags": [
              "id2-2-2",
              "outputarea_id2"
            ]
          }
        },
        {
          "output_type": "display_data",
          "data": {
            "application/vnd.jupyter.widget-view+json": {
              "model_id": "aec3f3232caf4e6fbf77e207d35e50d7",
              "version_minor": 0,
              "version_major": 2
            },
            "text/plain": [
              "FloatText(value=1862545.0, description='pop_40_44', step=1.0)"
            ]
          },
          "metadata": {
            "tags": [
              "id2-2-2",
              "outputarea_id2",
              "user_output"
            ]
          }
        },
        {
          "output_type": "display_data",
          "data": {
            "application/javascript": [
              "window[\"ddf50202-a1d6-11ea-b814-0242ac1c0002\"] = google.colab.output.setActiveOutputArea(window[\"ddf0237c-a1d6-11ea-b814-0242ac1c0002\"]);\n",
              "//# sourceURL=js_1842f01f1c"
            ],
            "text/plain": [
              "<IPython.core.display.Javascript object>"
            ]
          },
          "metadata": {
            "tags": [
              "id2-2-2",
              "outputarea_id2"
            ]
          }
        },
        {
          "output_type": "display_data",
          "data": {
            "application/javascript": [
              "window[\"ddf64720-a1d6-11ea-b814-0242ac1c0002\"] = google.colab.output.getActiveOutputArea();\n",
              "//# sourceURL=js_506e300869"
            ],
            "text/plain": [
              "<IPython.core.display.Javascript object>"
            ]
          },
          "metadata": {
            "tags": [
              "id2-3-0",
              "outputarea_id2"
            ]
          }
        },
        {
          "output_type": "display_data",
          "data": {
            "application/javascript": [
              "window[\"ddf68924-a1d6-11ea-b814-0242ac1c0002\"] = document.querySelector(\"#id2-3-0\");\n",
              "//# sourceURL=js_becd19d9e7"
            ],
            "text/plain": [
              "<IPython.core.display.Javascript object>"
            ]
          },
          "metadata": {
            "tags": [
              "id2-3-0",
              "outputarea_id2"
            ]
          }
        },
        {
          "output_type": "display_data",
          "data": {
            "application/javascript": [
              "window[\"ddf6c682-a1d6-11ea-b814-0242ac1c0002\"] = google.colab.output.setActiveOutputArea(window[\"ddf68924-a1d6-11ea-b814-0242ac1c0002\"]);\n",
              "//# sourceURL=js_2e08ec95ef"
            ],
            "text/plain": [
              "<IPython.core.display.Javascript object>"
            ]
          },
          "metadata": {
            "tags": [
              "id2-3-0",
              "outputarea_id2"
            ]
          }
        },
        {
          "output_type": "display_data",
          "data": {
            "application/vnd.jupyter.widget-view+json": {
              "model_id": "38a34d2f05b245b49cd5ebe863ca65a1",
              "version_minor": 0,
              "version_major": 2
            },
            "text/plain": [
              "FloatText(value=1688822.0, description='pop_45_49', step=1.0)"
            ]
          },
          "metadata": {
            "tags": [
              "id2-3-0",
              "outputarea_id2",
              "user_output"
            ]
          }
        },
        {
          "output_type": "display_data",
          "data": {
            "application/javascript": [
              "window[\"ddfa83e4-a1d6-11ea-b814-0242ac1c0002\"] = google.colab.output.setActiveOutputArea(window[\"ddf64720-a1d6-11ea-b814-0242ac1c0002\"]);\n",
              "//# sourceURL=js_5a499e158d"
            ],
            "text/plain": [
              "<IPython.core.display.Javascript object>"
            ]
          },
          "metadata": {
            "tags": [
              "id2-3-0",
              "outputarea_id2"
            ]
          }
        },
        {
          "output_type": "display_data",
          "data": {
            "application/javascript": [
              "window[\"ddfbea4a-a1d6-11ea-b814-0242ac1c0002\"] = google.colab.output.getActiveOutputArea();\n",
              "//# sourceURL=js_9263ef5bfa"
            ],
            "text/plain": [
              "<IPython.core.display.Javascript object>"
            ]
          },
          "metadata": {
            "tags": [
              "id2-3-1",
              "outputarea_id2"
            ]
          }
        },
        {
          "output_type": "display_data",
          "data": {
            "application/javascript": [
              "window[\"ddfc37c0-a1d6-11ea-b814-0242ac1c0002\"] = document.querySelector(\"#id2-3-1\");\n",
              "//# sourceURL=js_885c2a5f76"
            ],
            "text/plain": [
              "<IPython.core.display.Javascript object>"
            ]
          },
          "metadata": {
            "tags": [
              "id2-3-1",
              "outputarea_id2"
            ]
          }
        },
        {
          "output_type": "display_data",
          "data": {
            "application/javascript": [
              "window[\"ddfc7faa-a1d6-11ea-b814-0242ac1c0002\"] = google.colab.output.setActiveOutputArea(window[\"ddfc37c0-a1d6-11ea-b814-0242ac1c0002\"]);\n",
              "//# sourceURL=js_9594ffb5fe"
            ],
            "text/plain": [
              "<IPython.core.display.Javascript object>"
            ]
          },
          "metadata": {
            "tags": [
              "id2-3-1",
              "outputarea_id2"
            ]
          }
        },
        {
          "output_type": "display_data",
          "data": {
            "application/vnd.jupyter.widget-view+json": {
              "model_id": "8e323a44558c46a6b8a6b3dca9757830",
              "version_minor": 0,
              "version_major": 2
            },
            "text/plain": [
              "FloatText(value=1582057.0, description='pop_50_54', step=1.0)"
            ]
          },
          "metadata": {
            "tags": [
              "id2-3-1",
              "outputarea_id2",
              "user_output"
            ]
          }
        },
        {
          "output_type": "display_data",
          "data": {
            "application/javascript": [
              "window[\"ddff912c-a1d6-11ea-b814-0242ac1c0002\"] = google.colab.output.setActiveOutputArea(window[\"ddfbea4a-a1d6-11ea-b814-0242ac1c0002\"]);\n",
              "//# sourceURL=js_4ee77e7734"
            ],
            "text/plain": [
              "<IPython.core.display.Javascript object>"
            ]
          },
          "metadata": {
            "tags": [
              "id2-3-1",
              "outputarea_id2"
            ]
          }
        },
        {
          "output_type": "display_data",
          "data": {
            "application/javascript": [
              "window[\"de010192-a1d6-11ea-b814-0242ac1c0002\"] = google.colab.output.getActiveOutputArea();\n",
              "//# sourceURL=js_562bc6c4ca"
            ],
            "text/plain": [
              "<IPython.core.display.Javascript object>"
            ]
          },
          "metadata": {
            "tags": [
              "id2-3-2",
              "outputarea_id2"
            ]
          }
        },
        {
          "output_type": "display_data",
          "data": {
            "application/javascript": [
              "window[\"de0152b4-a1d6-11ea-b814-0242ac1c0002\"] = document.querySelector(\"#id2-3-2\");\n",
              "//# sourceURL=js_f9e53506de"
            ],
            "text/plain": [
              "<IPython.core.display.Javascript object>"
            ]
          },
          "metadata": {
            "tags": [
              "id2-3-2",
              "outputarea_id2"
            ]
          }
        },
        {
          "output_type": "display_data",
          "data": {
            "application/javascript": [
              "window[\"de018d2e-a1d6-11ea-b814-0242ac1c0002\"] = google.colab.output.setActiveOutputArea(window[\"de0152b4-a1d6-11ea-b814-0242ac1c0002\"]);\n",
              "//# sourceURL=js_1e766361b9"
            ],
            "text/plain": [
              "<IPython.core.display.Javascript object>"
            ]
          },
          "metadata": {
            "tags": [
              "id2-3-2",
              "outputarea_id2"
            ]
          }
        },
        {
          "output_type": "display_data",
          "data": {
            "application/vnd.jupyter.widget-view+json": {
              "model_id": "cda948b1b563441097a2ae101334aa8c",
              "version_minor": 0,
              "version_major": 2
            },
            "text/plain": [
              "FloatText(value=1382558.0, description='pop_55_59', step=1.0)"
            ]
          },
          "metadata": {
            "tags": [
              "id2-3-2",
              "outputarea_id2",
              "user_output"
            ]
          }
        },
        {
          "output_type": "display_data",
          "data": {
            "application/javascript": [
              "window[\"de04180a-a1d6-11ea-b814-0242ac1c0002\"] = google.colab.output.setActiveOutputArea(window[\"de010192-a1d6-11ea-b814-0242ac1c0002\"]);\n",
              "//# sourceURL=js_53c13ba463"
            ],
            "text/plain": [
              "<IPython.core.display.Javascript object>"
            ]
          },
          "metadata": {
            "tags": [
              "id2-3-2",
              "outputarea_id2"
            ]
          }
        },
        {
          "output_type": "display_data",
          "data": {
            "application/javascript": [
              "window[\"de055300-a1d6-11ea-b814-0242ac1c0002\"] = google.colab.output.getActiveOutputArea();\n",
              "//# sourceURL=js_63ba71aac2"
            ],
            "text/plain": [
              "<IPython.core.display.Javascript object>"
            ]
          },
          "metadata": {
            "tags": [
              "id2-4-0",
              "outputarea_id2"
            ]
          }
        },
        {
          "output_type": "display_data",
          "data": {
            "application/javascript": [
              "window[\"de05a2e2-a1d6-11ea-b814-0242ac1c0002\"] = document.querySelector(\"#id2-4-0\");\n",
              "//# sourceURL=js_4ef283f3d4"
            ],
            "text/plain": [
              "<IPython.core.display.Javascript object>"
            ]
          },
          "metadata": {
            "tags": [
              "id2-4-0",
              "outputarea_id2"
            ]
          }
        },
        {
          "output_type": "display_data",
          "data": {
            "application/javascript": [
              "window[\"de05d9e2-a1d6-11ea-b814-0242ac1c0002\"] = google.colab.output.setActiveOutputArea(window[\"de05a2e2-a1d6-11ea-b814-0242ac1c0002\"]);\n",
              "//# sourceURL=js_9f64b87912"
            ],
            "text/plain": [
              "<IPython.core.display.Javascript object>"
            ]
          },
          "metadata": {
            "tags": [
              "id2-4-0",
              "outputarea_id2"
            ]
          }
        },
        {
          "output_type": "display_data",
          "data": {
            "application/vnd.jupyter.widget-view+json": {
              "model_id": "b6dddf754cc449269ef5050749ba6590",
              "version_minor": 0,
              "version_major": 2
            },
            "text/plain": [
              "FloatText(value=1131313.0, description='pop_60_64', step=1.0)"
            ]
          },
          "metadata": {
            "tags": [
              "id2-4-0",
              "outputarea_id2",
              "user_output"
            ]
          }
        },
        {
          "output_type": "display_data",
          "data": {
            "application/javascript": [
              "window[\"de084b00-a1d6-11ea-b814-0242ac1c0002\"] = google.colab.output.setActiveOutputArea(window[\"de055300-a1d6-11ea-b814-0242ac1c0002\"]);\n",
              "//# sourceURL=js_a48428f31f"
            ],
            "text/plain": [
              "<IPython.core.display.Javascript object>"
            ]
          },
          "metadata": {
            "tags": [
              "id2-4-0",
              "outputarea_id2"
            ]
          }
        },
        {
          "output_type": "display_data",
          "data": {
            "application/javascript": [
              "window[\"de096bfc-a1d6-11ea-b814-0242ac1c0002\"] = google.colab.output.getActiveOutputArea();\n",
              "//# sourceURL=js_fef9336135"
            ],
            "text/plain": [
              "<IPython.core.display.Javascript object>"
            ]
          },
          "metadata": {
            "tags": [
              "id2-4-1",
              "outputarea_id2"
            ]
          }
        },
        {
          "output_type": "display_data",
          "data": {
            "application/javascript": [
              "window[\"de09a874-a1d6-11ea-b814-0242ac1c0002\"] = document.querySelector(\"#id2-4-1\");\n",
              "//# sourceURL=js_f05c3eb3ea"
            ],
            "text/plain": [
              "<IPython.core.display.Javascript object>"
            ]
          },
          "metadata": {
            "tags": [
              "id2-4-1",
              "outputarea_id2"
            ]
          }
        },
        {
          "output_type": "display_data",
          "data": {
            "application/javascript": [
              "window[\"de09df6a-a1d6-11ea-b814-0242ac1c0002\"] = google.colab.output.setActiveOutputArea(window[\"de09a874-a1d6-11ea-b814-0242ac1c0002\"]);\n",
              "//# sourceURL=js_66067d6c5d"
            ],
            "text/plain": [
              "<IPython.core.display.Javascript object>"
            ]
          },
          "metadata": {
            "tags": [
              "id2-4-1",
              "outputarea_id2"
            ]
          }
        },
        {
          "output_type": "display_data",
          "data": {
            "application/vnd.jupyter.widget-view+json": {
              "model_id": "17780789c0bc4a41b42be8c89a8d6523",
              "version_minor": 0,
              "version_major": 2
            },
            "text/plain": [
              "FloatText(value=823993.0, description='pop_65_69', step=1.0)"
            ]
          },
          "metadata": {
            "tags": [
              "id2-4-1",
              "outputarea_id2",
              "user_output"
            ]
          }
        },
        {
          "output_type": "display_data",
          "data": {
            "application/javascript": [
              "window[\"de0c5cc2-a1d6-11ea-b814-0242ac1c0002\"] = google.colab.output.setActiveOutputArea(window[\"de096bfc-a1d6-11ea-b814-0242ac1c0002\"]);\n",
              "//# sourceURL=js_c268555524"
            ],
            "text/plain": [
              "<IPython.core.display.Javascript object>"
            ]
          },
          "metadata": {
            "tags": [
              "id2-4-1",
              "outputarea_id2"
            ]
          }
        },
        {
          "output_type": "display_data",
          "data": {
            "application/javascript": [
              "window[\"de0d7a30-a1d6-11ea-b814-0242ac1c0002\"] = google.colab.output.getActiveOutputArea();\n",
              "//# sourceURL=js_b57b37a008"
            ],
            "text/plain": [
              "<IPython.core.display.Javascript object>"
            ]
          },
          "metadata": {
            "tags": [
              "id2-4-2",
              "outputarea_id2"
            ]
          }
        },
        {
          "output_type": "display_data",
          "data": {
            "application/javascript": [
              "window[\"de0db5c2-a1d6-11ea-b814-0242ac1c0002\"] = document.querySelector(\"#id2-4-2\");\n",
              "//# sourceURL=js_cfac8247ce"
            ],
            "text/plain": [
              "<IPython.core.display.Javascript object>"
            ]
          },
          "metadata": {
            "tags": [
              "id2-4-2",
              "outputarea_id2"
            ]
          }
        },
        {
          "output_type": "display_data",
          "data": {
            "application/javascript": [
              "window[\"de0df7e4-a1d6-11ea-b814-0242ac1c0002\"] = google.colab.output.setActiveOutputArea(window[\"de0db5c2-a1d6-11ea-b814-0242ac1c0002\"]);\n",
              "//# sourceURL=js_2dfe8504ba"
            ],
            "text/plain": [
              "<IPython.core.display.Javascript object>"
            ]
          },
          "metadata": {
            "tags": [
              "id2-4-2",
              "outputarea_id2"
            ]
          }
        },
        {
          "output_type": "display_data",
          "data": {
            "application/vnd.jupyter.widget-view+json": {
              "model_id": "72f7e57fb92040e8bec4f5bdf0e908f7",
              "version_minor": 0,
              "version_major": 2
            },
            "text/plain": [
              "FloatText(value=576310.0, description='pop_70_74', step=1.0)"
            ]
          },
          "metadata": {
            "tags": [
              "id2-4-2",
              "outputarea_id2",
              "user_output"
            ]
          }
        },
        {
          "output_type": "display_data",
          "data": {
            "application/javascript": [
              "window[\"de106b1e-a1d6-11ea-b814-0242ac1c0002\"] = google.colab.output.setActiveOutputArea(window[\"de0d7a30-a1d6-11ea-b814-0242ac1c0002\"]);\n",
              "//# sourceURL=js_938ed52b83"
            ],
            "text/plain": [
              "<IPython.core.display.Javascript object>"
            ]
          },
          "metadata": {
            "tags": [
              "id2-4-2",
              "outputarea_id2"
            ]
          }
        },
        {
          "output_type": "display_data",
          "data": {
            "application/javascript": [
              "window[\"de1194ee-a1d6-11ea-b814-0242ac1c0002\"] = google.colab.output.getActiveOutputArea();\n",
              "//# sourceURL=js_0fd8e94d39"
            ],
            "text/plain": [
              "<IPython.core.display.Javascript object>"
            ]
          },
          "metadata": {
            "tags": [
              "id2-5-0",
              "outputarea_id2"
            ]
          }
        },
        {
          "output_type": "display_data",
          "data": {
            "application/javascript": [
              "window[\"de11ccc0-a1d6-11ea-b814-0242ac1c0002\"] = document.querySelector(\"#id2-5-0\");\n",
              "//# sourceURL=js_b0d46c2b3f"
            ],
            "text/plain": [
              "<IPython.core.display.Javascript object>"
            ]
          },
          "metadata": {
            "tags": [
              "id2-5-0",
              "outputarea_id2"
            ]
          }
        },
        {
          "output_type": "display_data",
          "data": {
            "application/javascript": [
              "window[\"de12082a-a1d6-11ea-b814-0242ac1c0002\"] = google.colab.output.setActiveOutputArea(window[\"de11ccc0-a1d6-11ea-b814-0242ac1c0002\"]);\n",
              "//# sourceURL=js_91e825abe5"
            ],
            "text/plain": [
              "<IPython.core.display.Javascript object>"
            ]
          },
          "metadata": {
            "tags": [
              "id2-5-0",
              "outputarea_id2"
            ]
          }
        },
        {
          "output_type": "display_data",
          "data": {
            "application/vnd.jupyter.widget-view+json": {
              "model_id": "84fe8b1f8a0f4e618ab16aa9b5bfa550",
              "version_minor": 0,
              "version_major": 2
            },
            "text/plain": [
              "FloatText(value=370146.0, description='pop_75_79', step=1.0)"
            ]
          },
          "metadata": {
            "tags": [
              "id2-5-0",
              "outputarea_id2",
              "user_output"
            ]
          }
        },
        {
          "output_type": "display_data",
          "data": {
            "application/javascript": [
              "window[\"de149b1c-a1d6-11ea-b814-0242ac1c0002\"] = google.colab.output.setActiveOutputArea(window[\"de1194ee-a1d6-11ea-b814-0242ac1c0002\"]);\n",
              "//# sourceURL=js_fd6f951a8a"
            ],
            "text/plain": [
              "<IPython.core.display.Javascript object>"
            ]
          },
          "metadata": {
            "tags": [
              "id2-5-0",
              "outputarea_id2"
            ]
          }
        },
        {
          "output_type": "display_data",
          "data": {
            "application/javascript": [
              "window[\"de15c474-a1d6-11ea-b814-0242ac1c0002\"] = google.colab.output.getActiveOutputArea();\n",
              "//# sourceURL=js_e6154d942b"
            ],
            "text/plain": [
              "<IPython.core.display.Javascript object>"
            ]
          },
          "metadata": {
            "tags": [
              "id2-5-1",
              "outputarea_id2"
            ]
          }
        },
        {
          "output_type": "display_data",
          "data": {
            "application/javascript": [
              "window[\"de16068c-a1d6-11ea-b814-0242ac1c0002\"] = document.querySelector(\"#id2-5-1\");\n",
              "//# sourceURL=js_eb5faf4f49"
            ],
            "text/plain": [
              "<IPython.core.display.Javascript object>"
            ]
          },
          "metadata": {
            "tags": [
              "id2-5-1",
              "outputarea_id2"
            ]
          }
        },
        {
          "output_type": "display_data",
          "data": {
            "application/javascript": [
              "window[\"de16435e-a1d6-11ea-b814-0242ac1c0002\"] = google.colab.output.setActiveOutputArea(window[\"de16068c-a1d6-11ea-b814-0242ac1c0002\"]);\n",
              "//# sourceURL=js_fa8b3311c5"
            ],
            "text/plain": [
              "<IPython.core.display.Javascript object>"
            ]
          },
          "metadata": {
            "tags": [
              "id2-5-1",
              "outputarea_id2"
            ]
          }
        },
        {
          "output_type": "display_data",
          "data": {
            "application/vnd.jupyter.widget-view+json": {
              "model_id": "ac3031cf8a1941d09b3be83b64b51eb5",
              "version_minor": 0,
              "version_major": 2
            },
            "text/plain": [
              "FloatText(value=218816.0, description='pop_80_84', step=1.0)"
            ]
          },
          "metadata": {
            "tags": [
              "id2-5-1",
              "outputarea_id2",
              "user_output"
            ]
          }
        },
        {
          "output_type": "display_data",
          "data": {
            "application/javascript": [
              "window[\"de18a374-a1d6-11ea-b814-0242ac1c0002\"] = google.colab.output.setActiveOutputArea(window[\"de15c474-a1d6-11ea-b814-0242ac1c0002\"]);\n",
              "//# sourceURL=js_a964a2ebf7"
            ],
            "text/plain": [
              "<IPython.core.display.Javascript object>"
            ]
          },
          "metadata": {
            "tags": [
              "id2-5-1",
              "outputarea_id2"
            ]
          }
        },
        {
          "output_type": "display_data",
          "data": {
            "application/javascript": [
              "window[\"de19eb8a-a1d6-11ea-b814-0242ac1c0002\"] = google.colab.output.getActiveOutputArea();\n",
              "//# sourceURL=js_70cc591a9a"
            ],
            "text/plain": [
              "<IPython.core.display.Javascript object>"
            ]
          },
          "metadata": {
            "tags": [
              "id2-5-2",
              "outputarea_id2"
            ]
          }
        },
        {
          "output_type": "display_data",
          "data": {
            "application/javascript": [
              "window[\"de1a28c0-a1d6-11ea-b814-0242ac1c0002\"] = document.querySelector(\"#id2-5-2\");\n",
              "//# sourceURL=js_9f17307e32"
            ],
            "text/plain": [
              "<IPython.core.display.Javascript object>"
            ]
          },
          "metadata": {
            "tags": [
              "id2-5-2",
              "outputarea_id2"
            ]
          }
        },
        {
          "output_type": "display_data",
          "data": {
            "application/javascript": [
              "window[\"de1a64a2-a1d6-11ea-b814-0242ac1c0002\"] = google.colab.output.setActiveOutputArea(window[\"de1a28c0-a1d6-11ea-b814-0242ac1c0002\"]);\n",
              "//# sourceURL=js_b4de09e9cd"
            ],
            "text/plain": [
              "<IPython.core.display.Javascript object>"
            ]
          },
          "metadata": {
            "tags": [
              "id2-5-2",
              "outputarea_id2"
            ]
          }
        },
        {
          "output_type": "display_data",
          "data": {
            "application/vnd.jupyter.widget-view+json": {
              "model_id": "77f8d7fe906540eda12754a955009bc9",
              "version_minor": 0,
              "version_major": 2
            },
            "text/plain": [
              "FloatText(value=114862.0, description='pop_85_89', step=1.0)"
            ]
          },
          "metadata": {
            "tags": [
              "id2-5-2",
              "outputarea_id2",
              "user_output"
            ]
          }
        },
        {
          "output_type": "display_data",
          "data": {
            "application/javascript": [
              "window[\"de1cea06-a1d6-11ea-b814-0242ac1c0002\"] = google.colab.output.setActiveOutputArea(window[\"de19eb8a-a1d6-11ea-b814-0242ac1c0002\"]);\n",
              "//# sourceURL=js_3ceb083c38"
            ],
            "text/plain": [
              "<IPython.core.display.Javascript object>"
            ]
          },
          "metadata": {
            "tags": [
              "id2-5-2",
              "outputarea_id2"
            ]
          }
        },
        {
          "output_type": "display_data",
          "data": {
            "application/javascript": [
              "window[\"de1e155c-a1d6-11ea-b814-0242ac1c0002\"] = google.colab.output.getActiveOutputArea();\n",
              "//# sourceURL=js_4d79bda357"
            ],
            "text/plain": [
              "<IPython.core.display.Javascript object>"
            ]
          },
          "metadata": {
            "tags": [
              "id2-6-0",
              "outputarea_id2"
            ]
          }
        },
        {
          "output_type": "display_data",
          "data": {
            "application/javascript": [
              "window[\"de1e54d6-a1d6-11ea-b814-0242ac1c0002\"] = document.querySelector(\"#id2-6-0\");\n",
              "//# sourceURL=js_b32309579d"
            ],
            "text/plain": [
              "<IPython.core.display.Javascript object>"
            ]
          },
          "metadata": {
            "tags": [
              "id2-6-0",
              "outputarea_id2"
            ]
          }
        },
        {
          "output_type": "display_data",
          "data": {
            "application/javascript": [
              "window[\"de1e9220-a1d6-11ea-b814-0242ac1c0002\"] = google.colab.output.setActiveOutputArea(window[\"de1e54d6-a1d6-11ea-b814-0242ac1c0002\"]);\n",
              "//# sourceURL=js_9968754027"
            ],
            "text/plain": [
              "<IPython.core.display.Javascript object>"
            ]
          },
          "metadata": {
            "tags": [
              "id2-6-0",
              "outputarea_id2"
            ]
          }
        },
        {
          "output_type": "display_data",
          "data": {
            "application/vnd.jupyter.widget-view+json": {
              "model_id": "2acc101a45d64490a9fcd6edefa1e140",
              "version_minor": 0,
              "version_major": 2
            },
            "text/plain": [
              "FloatText(value=48126.0, description='pop_90_94', step=1.0)"
            ]
          },
          "metadata": {
            "tags": [
              "id2-6-0",
              "outputarea_id2",
              "user_output"
            ]
          }
        },
        {
          "output_type": "display_data",
          "data": {
            "application/javascript": [
              "window[\"de2113e2-a1d6-11ea-b814-0242ac1c0002\"] = google.colab.output.setActiveOutputArea(window[\"de1e155c-a1d6-11ea-b814-0242ac1c0002\"]);\n",
              "//# sourceURL=js_dace4d2550"
            ],
            "text/plain": [
              "<IPython.core.display.Javascript object>"
            ]
          },
          "metadata": {
            "tags": [
              "id2-6-0",
              "outputarea_id2"
            ]
          }
        },
        {
          "output_type": "display_data",
          "data": {
            "application/javascript": [
              "window[\"de223ec0-a1d6-11ea-b814-0242ac1c0002\"] = google.colab.output.getActiveOutputArea();\n",
              "//# sourceURL=js_bafe77df79"
            ],
            "text/plain": [
              "<IPython.core.display.Javascript object>"
            ]
          },
          "metadata": {
            "tags": [
              "id2-6-1",
              "outputarea_id2"
            ]
          }
        },
        {
          "output_type": "display_data",
          "data": {
            "application/javascript": [
              "window[\"de227b10-a1d6-11ea-b814-0242ac1c0002\"] = document.querySelector(\"#id2-6-1\");\n",
              "//# sourceURL=js_04bd3de94f"
            ],
            "text/plain": [
              "<IPython.core.display.Javascript object>"
            ]
          },
          "metadata": {
            "tags": [
              "id2-6-1",
              "outputarea_id2"
            ]
          }
        },
        {
          "output_type": "display_data",
          "data": {
            "application/javascript": [
              "window[\"de22b6f2-a1d6-11ea-b814-0242ac1c0002\"] = google.colab.output.setActiveOutputArea(window[\"de227b10-a1d6-11ea-b814-0242ac1c0002\"]);\n",
              "//# sourceURL=js_5559fcf877"
            ],
            "text/plain": [
              "<IPython.core.display.Javascript object>"
            ]
          },
          "metadata": {
            "tags": [
              "id2-6-1",
              "outputarea_id2"
            ]
          }
        },
        {
          "output_type": "display_data",
          "data": {
            "application/vnd.jupyter.widget-view+json": {
              "model_id": "3bf4da0e2fd64ee9b84f4d67f3676645",
              "version_minor": 0,
              "version_major": 2
            },
            "text/plain": [
              "FloatText(value=15534.0, description='pop_95_99', step=1.0)"
            ]
          },
          "metadata": {
            "tags": [
              "id2-6-1",
              "outputarea_id2",
              "user_output"
            ]
          }
        },
        {
          "output_type": "display_data",
          "data": {
            "application/javascript": [
              "window[\"de26047e-a1d6-11ea-b814-0242ac1c0002\"] = google.colab.output.setActiveOutputArea(window[\"de223ec0-a1d6-11ea-b814-0242ac1c0002\"]);\n",
              "//# sourceURL=js_3b23e13c12"
            ],
            "text/plain": [
              "<IPython.core.display.Javascript object>"
            ]
          },
          "metadata": {
            "tags": [
              "id2-6-1",
              "outputarea_id2"
            ]
          }
        },
        {
          "output_type": "display_data",
          "data": {
            "application/javascript": [
              "window[\"de273524-a1d6-11ea-b814-0242ac1c0002\"] = google.colab.output.getActiveOutputArea();\n",
              "//# sourceURL=js_0a183a2ab2"
            ],
            "text/plain": [
              "<IPython.core.display.Javascript object>"
            ]
          },
          "metadata": {
            "tags": [
              "id2-6-2",
              "outputarea_id2"
            ]
          }
        },
        {
          "output_type": "display_data",
          "data": {
            "application/javascript": [
              "window[\"de277656-a1d6-11ea-b814-0242ac1c0002\"] = document.querySelector(\"#id2-6-2\");\n",
              "//# sourceURL=js_7e2545a448"
            ],
            "text/plain": [
              "<IPython.core.display.Javascript object>"
            ]
          },
          "metadata": {
            "tags": [
              "id2-6-2",
              "outputarea_id2"
            ]
          }
        },
        {
          "output_type": "display_data",
          "data": {
            "application/javascript": [
              "window[\"de27b134-a1d6-11ea-b814-0242ac1c0002\"] = google.colab.output.setActiveOutputArea(window[\"de277656-a1d6-11ea-b814-0242ac1c0002\"]);\n",
              "//# sourceURL=js_8f3817d4c1"
            ],
            "text/plain": [
              "<IPython.core.display.Javascript object>"
            ]
          },
          "metadata": {
            "tags": [
              "id2-6-2",
              "outputarea_id2"
            ]
          }
        },
        {
          "output_type": "display_data",
          "data": {
            "application/vnd.jupyter.widget-view+json": {
              "model_id": "dcb30547422942aabd048a2bc3b689aa",
              "version_minor": 0,
              "version_major": 2
            },
            "text/plain": [
              "FloatText(value=2718.0, description='pop_100_', step=1.0)"
            ]
          },
          "metadata": {
            "tags": [
              "id2-6-2",
              "outputarea_id2",
              "user_output"
            ]
          }
        },
        {
          "output_type": "display_data",
          "data": {
            "application/javascript": [
              "window[\"de2ac7ca-a1d6-11ea-b814-0242ac1c0002\"] = google.colab.output.setActiveOutputArea(window[\"de273524-a1d6-11ea-b814-0242ac1c0002\"]);\n",
              "//# sourceURL=js_95a131f4e4"
            ],
            "text/plain": [
              "<IPython.core.display.Javascript object>"
            ]
          },
          "metadata": {
            "tags": [
              "id2-6-2",
              "outputarea_id2"
            ]
          }
        }
      ]
    },
    {
      "cell_type": "markdown",
      "metadata": {
        "id": "RyOkAqw1b6AQ",
        "colab_type": "text"
      },
      "source": [
        "If you wish to use the **Custom** pyramid, change the values above at will, then run the following box again."
      ]
    },
    {
      "cell_type": "code",
      "metadata": {
        "id": "PiJmHsQx3PNC",
        "colab_type": "code",
        "cellView": "form",
        "outputId": "952ec17c-4641-49b8-9385-85454c668fbf",
        "colab": {
          "resources": {
            "http://localhost:8080/nbextensions/google.colab/tabbar.css": {
              "data": "Lmdvb2ctdGFie3Bvc2l0aW9uOnJlbGF0aXZlO3BhZGRpbmc6NHB4IDhweDtjb2xvcjojMDBjO3RleHQtZGVjb3JhdGlvbjp1bmRlcmxpbmU7Y3Vyc29yOmRlZmF1bHR9Lmdvb2ctdGFiLWJhci10b3AgLmdvb2ctdGFie21hcmdpbjoxcHggNHB4IDAgMDtib3JkZXItYm90dG9tOjA7ZmxvYXQ6bGVmdH0uZ29vZy10YWItYmFyLXRvcDphZnRlciwuZ29vZy10YWItYmFyLWJvdHRvbTphZnRlcntjb250ZW50OiIgIjtkaXNwbGF5OmJsb2NrO2hlaWdodDowO2NsZWFyOmJvdGg7dmlzaWJpbGl0eTpoaWRkZW59Lmdvb2ctdGFiLWJhci1ib3R0b20gLmdvb2ctdGFie21hcmdpbjowIDRweCAxcHggMDtib3JkZXItdG9wOjA7ZmxvYXQ6bGVmdH0uZ29vZy10YWItYmFyLXN0YXJ0IC5nb29nLXRhYnttYXJnaW46MCAwIDRweCAxcHg7Ym9yZGVyLXJpZ2h0OjB9Lmdvb2ctdGFiLWJhci1lbmQgLmdvb2ctdGFie21hcmdpbjowIDFweCA0cHggMDtib3JkZXItbGVmdDowfS5nb29nLXRhYi1ob3ZlcntiYWNrZ3JvdW5kOiNlZWV9Lmdvb2ctdGFiLWRpc2FibGVke2NvbG9yOiM2NjZ9Lmdvb2ctdGFiLXNlbGVjdGVke2NvbG9yOiMwMDA7YmFja2dyb3VuZDojZmZmO3RleHQtZGVjb3JhdGlvbjpub25lO2ZvbnQtd2VpZ2h0OmJvbGQ7Ym9yZGVyOjFweCBzb2xpZCAjNmI5MGRhfS5nb29nLXRhYi1iYXItdG9we3BhZGRpbmctdG9wOjVweCFpbXBvcnRhbnQ7cGFkZGluZy1sZWZ0OjVweCFpbXBvcnRhbnQ7Ym9yZGVyLWJvdHRvbToxcHggc29saWQgIzZiOTBkYSFpbXBvcnRhbnR9Lmdvb2ctdGFiLWJhci10b3AgLmdvb2ctdGFiLXNlbGVjdGVke3RvcDoxcHg7bWFyZ2luLXRvcDowO3BhZGRpbmctYm90dG9tOjVweH0uZ29vZy10YWItYmFyLWJvdHRvbSAuZ29vZy10YWItc2VsZWN0ZWR7dG9wOi0xcHg7bWFyZ2luLWJvdHRvbTowO3BhZGRpbmctdG9wOjVweH0uZ29vZy10YWItYmFyLXN0YXJ0IC5nb29nLXRhYi1zZWxlY3RlZHtsZWZ0OjFweDttYXJnaW4tbGVmdDowO3BhZGRpbmctcmlnaHQ6OXB4fS5nb29nLXRhYi1iYXItZW5kIC5nb29nLXRhYi1zZWxlY3RlZHtsZWZ0Oi0xcHg7bWFyZ2luLXJpZ2h0OjA7cGFkZGluZy1sZWZ0OjlweH0uZ29vZy10YWItYmFye21hcmdpbjowO2JvcmRlcjowO3BhZGRpbmc6MDtsaXN0LXN0eWxlOm5vbmU7Y3Vyc29yOmRlZmF1bHQ7b3V0bGluZTpub25lO2JhY2tncm91bmQ6I2ViZWZmOX0uZ29vZy10YWItYmFyLWNsZWFye2NsZWFyOmJvdGg7aGVpZ2h0OjA7b3ZlcmZsb3c6aGlkZGVufS5nb29nLXRhYi1iYXItc3RhcnR7ZmxvYXQ6bGVmdH0uZ29vZy10YWItYmFyLWVuZHtmbG9hdDpyaWdodH0qIGh0bWwgLmdvb2ctdGFiLWJhci1zdGFydHttYXJnaW4tcmlnaHQ6LTNweH0qIGh0bWwgLmdvb2ctdGFiLWJhci1lbmR7bWFyZ2luLWxlZnQ6LTNweH0=",
              "ok": true,
              "headers": [
                [
                  "content-type",
                  "text/css"
                ]
              ],
              "status": 200,
              "status_text": ""
            },
            "http://localhost:8080/nbextensions/google.colab/tabbar_main.min.js": {
              "data": "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",
              "ok": true,
              "headers": [
                [
                  "content-type",
                  "application/javascript"
                ]
              ],
              "status": 200,
              "status_text": ""
            }
          },
          "base_uri": "https://localhost:8080/",
          "height": 321
        }
      },
      "source": [
        "#@title Examples of population pyramid types [double-click here to show/hide code]\n",
        "pyramids = [\n",
        "   {'name':\"Expansive-sharp (Nigeria)\", 'csv_url':'https://raw.githubusercontent.com/vsojo/covid19/master/Population_Pyramids/Nigeria_pyramid_2019.csv'}\n",
        "  ,{'name':\"Expansive-smooth (Kenya)\", 'csv_url':'https://raw.githubusercontent.com/vsojo/covid19/master/Population_Pyramids/Kenya_pyramid_2019.csv'}\n",
        "  ,{'name':\"Stationary (USA)\", 'csv_url':'https://raw.githubusercontent.com/vsojo/covid19/master/Population_Pyramids/USA_pyramid_2019.csv'}\n",
        "  ,{'name':\"Constrictive (Germany)\", 'csv_url':'https://raw.githubusercontent.com/vsojo/covid19/master/Population_Pyramids/Germany_pyramid_2019.csv'}\n",
        "  ,{'name':\"Custom\"}\n",
        "  # If you wish to add more pyramid styles, you should do so here.\n",
        "  # You don't have to use Wikipedia's age bins, you can just use any set of bins you like\n",
        "  # but be sure to specify them with the 'age_bins' parameter, as in the first one (which is only \n",
        "  # there as an example. In truth it's not necessary to specify the bins if you're following Wikipedia)\n",
        "]\n",
        "\n",
        "# Extract the names of the pyramids, which we will use a couple of times below\n",
        "pyramid_names = [f\"{i+1}. {pyramid['name']}\" for i, pyramid in enumerate(pyramids)]\n",
        "\n",
        "# Create a GoogleWidget TabBar with each of the Pyramid names \n",
        "pyr_tb = gwidgets.TabBar(pyramid_names)\n",
        "\n",
        "AGE_BIN_SIZE = 5 # How many years in each age bin\n",
        "\n",
        "for i, pyramid in enumerate(pyramids):\n",
        "  if 'csv_url' in pyramid:\n",
        "    # load the population CSV file from a URL into a pandas dataframe\n",
        "    pyr_df = pd.read_csv(pyramid['csv_url'])\n",
        "    # add men and women to have total population per age structure\n",
        "    pyr_df['T'] = pyr_df['M'] + pyr_df['F']\n",
        "  \n",
        "    # just keep the raw list of age bins for the custom case\n",
        "    raw_ages = list(pyr_df['Age'])\n",
        "  else:\n",
        "    # The custom pyramid needs to be handled separately\n",
        "    pyr_df = pd.DataFrame(\n",
        "      data={\n",
        "         'Age': raw_ages\n",
        "        ,'T': [float_choosers[index].value for index in float_chooser_indices]\n",
        "      }\n",
        "    )\n",
        "  # end if: checking if this is the custom pyramid\n",
        "  \n",
        "  # sum all people to get the total population\n",
        "  whole_population = sum(pyr_df['T'])\n",
        "  \n",
        "  # calculate the proportions for each age bin\n",
        "  pyramid['age_bin_props'] = list(pyr_df['T']/whole_population)\n",
        "  # Age bins are in the 'Age' column of the pyramid CSV file and thus the dataframe here.\n",
        "  # They look something like \"0-4\", \"5-9\" and so on, except the last one which is just \"100+\".\n",
        "  # So, we extract the age bins and parse them to integers using a nested list comprehension\n",
        "  pyramid['age_bins'] = [[int(age) for age in age_bin.replace('+','').split('-')] for age_bin in pyr_df['Age']]\n",
        "  # Make the second age of the last bin be whatever the top age is (100),\n",
        "  # plus the size of the age bin... minus 1 because they are all made this way.\n",
        "  pyramid['age_bins'][-1].append(pyramid['age_bins'][-1][0] + AGE_BIN_SIZE - 1)\n",
        "  \n",
        "  pyramid['p_cums'] = [] # the cumulative probabilities of being a certain age, to be used for random age assignment\n",
        "  pyramid['p_raws'] = [] # the raw probabilities of being a certain age, year by year\n",
        "\n",
        "  # We want to go over each age bin and check its proportion in the population.\n",
        "  # As a simple starting point for the model, we just make all the five years\n",
        "  # in that bin the same height, i.e. 1/AGE_BIN_SIZE (1/5th) of the proportion\n",
        "  # of the whole five-year bin). It would be more elegant to alter each bin\n",
        "  # with respect to the values of the preceding and following bins, but we take\n",
        "  # the trivial solution for the time being.\n",
        "  with pyr_tb.output_to(i):\n",
        "    for j, age_bin_prop in enumerate(pyramid['age_bin_props']):\n",
        "      age_bin = pyramid['age_bins'][j]\n",
        "      for year in range(age_bin[0], age_bin[1]+1):\n",
        "        # The proportion per year is 1/AGE_BIN_SIZE of that of the whole bin\n",
        "        p_year = age_bin_prop/AGE_BIN_SIZE\n",
        "        # Add this year's probability as a cumulative probability\n",
        "        if len(pyramid['p_cums']):\n",
        "          pyramid['p_cums'].append(pyramid['p_cums'][-1] + p_year)\n",
        "        else: # it's the first one, 0, so nothing to accumulate yet\n",
        "          pyramid['p_cums'].append(p_year)\n",
        "        # end if: is this the first year?\n",
        "        pyramid['p_raws'].append(p_year)\n",
        "        plt.fill_between([0,-p_year/2,-p_year/2,0], [year,year,year+1,year+1], facecolor=(0,.4,1), alpha=0.45)\n",
        "        plt.fill_between([0, p_year/2, p_year/2,0], [year,year,year+1,year+1], facecolor='r', alpha=0.35)\n",
        "      # end for: adding and plotting every bin\n",
        "    # end for\n",
        "    plt.title(pyramid['name'])\n",
        "    plt.show()\n",
        "  # end with: plotting this pyramid\n",
        "# end for: going over each pyramid"
      ],
      "execution_count": 5,
      "outputs": [
        {
          "output_type": "display_data",
          "data": {
            "text/html": [
              "<link rel=stylesheet type=text/css href='/nbextensions/google.colab/tabbar.css'></link>"
            ],
            "text/plain": [
              "<IPython.core.display.HTML object>"
            ]
          },
          "metadata": {
            "tags": [
              "outputarea_id3"
            ]
          }
        },
        {
          "output_type": "display_data",
          "data": {
            "text/html": [
              "<script src='/nbextensions/google.colab/tabbar_main.min.js'></script>"
            ],
            "text/plain": [
              "<IPython.core.display.HTML object>"
            ]
          },
          "metadata": {
            "tags": [
              "outputarea_id3"
            ]
          }
        },
        {
          "output_type": "display_data",
          "data": {
            "text/html": [
              "<div id=\"id3\"></div>"
            ],
            "text/plain": [
              "<IPython.core.display.HTML object>"
            ]
          },
          "metadata": {
            "tags": [
              "outputarea_id3"
            ]
          }
        },
        {
          "output_type": "display_data",
          "data": {
            "application/javascript": [
              "window[\"de3dbf60-a1d6-11ea-b814-0242ac1c0002\"] = colab_lib.createTabBar({\"location\": \"top\", \"elementId\": \"id3\", \"tabNames\": [\"1. Expansive-sharp (Nigeria)\", \"2. Expansive-smooth (Kenya)\", \"3. Stationary (USA)\", \"4. Constrictive (Germany)\", \"5. Custom\"], \"initialSelection\": 0, \"contentBorder\": [\"0px\"], \"contentHeight\": [\"initial\"], \"borderColor\": [\"#a7a7a7\"]});\n",
              "//# sourceURL=js_560569958d"
            ],
            "text/plain": [
              "<IPython.core.display.Javascript object>"
            ]
          },
          "metadata": {
            "tags": [
              "outputarea_id3"
            ]
          }
        },
        {
          "output_type": "display_data",
          "data": {
            "application/javascript": [
              "window[\"de3e0268-a1d6-11ea-b814-0242ac1c0002\"] = window[\"id3\"].setSelectedTabIndex(0);\n",
              "//# sourceURL=js_d8d2bf16ed"
            ],
            "text/plain": [
              "<IPython.core.display.Javascript object>"
            ]
          },
          "metadata": {
            "tags": [
              "outputarea_id3"
            ]
          }
        },
        {
          "output_type": "display_data",
          "data": {
            "application/javascript": [
              "window[\"de7ec2f8-a1d6-11ea-b814-0242ac1c0002\"] = google.colab.output.getActiveOutputArea();\n",
              "//# sourceURL=js_cd1f75d539"
            ],
            "text/plain": [
              "<IPython.core.display.Javascript object>"
            ]
          },
          "metadata": {
            "tags": [
              "id3_content_0",
              "outputarea_id3"
            ]
          }
        },
        {
          "output_type": "display_data",
          "data": {
            "application/javascript": [
              "window[\"de7f448a-a1d6-11ea-b814-0242ac1c0002\"] = document.querySelector(\"#id3_content_0\");\n",
              "//# sourceURL=js_185e2d84d1"
            ],
            "text/plain": [
              "<IPython.core.display.Javascript object>"
            ]
          },
          "metadata": {
            "tags": [
              "id3_content_0",
              "outputarea_id3"
            ]
          }
        },
        {
          "output_type": "display_data",
          "data": {
            "application/javascript": [
              "window[\"de7fb7e4-a1d6-11ea-b814-0242ac1c0002\"] = google.colab.output.setActiveOutputArea(window[\"de7f448a-a1d6-11ea-b814-0242ac1c0002\"]);\n",
              "//# sourceURL=js_1b2b57c7d6"
            ],
            "text/plain": [
              "<IPython.core.display.Javascript object>"
            ]
          },
          "metadata": {
            "tags": [
              "id3_content_0",
              "outputarea_id3"
            ]
          }
        },
        {
          "output_type": "display_data",
          "data": {
            "application/javascript": [
              "window[\"de80bffe-a1d6-11ea-b814-0242ac1c0002\"] = window[\"id3\"].setSelectedTabIndex(0);\n",
              "//# sourceURL=js_bb9f69d039"
            ],
            "text/plain": [
              "<IPython.core.display.Javascript object>"
            ]
          },
          "metadata": {
            "tags": [
              "id3_content_0",
              "outputarea_id3"
            ]
          }
        },
        {
          "output_type": "display_data",
          "data": {
            "image/png": "[encoded data removed]",
            "text/plain": [
              "<Figure size 432x288 with 1 Axes>"
            ]
          },
          "metadata": {
            "tags": [
              "id3_content_0",
              "outputarea_id3",
              "user_output"
            ],
            "needs_background": "light"
          }
        },
        {
          "output_type": "display_data",
          "data": {
            "application/javascript": [
              "window[\"decdff58-a1d6-11ea-b814-0242ac1c0002\"] = google.colab.output.setActiveOutputArea(window[\"de7ec2f8-a1d6-11ea-b814-0242ac1c0002\"]);\n",
              "//# sourceURL=js_216ea9cc18"
            ],
            "text/plain": [
              "<IPython.core.display.Javascript object>"
            ]
          },
          "metadata": {
            "tags": [
              "id3_content_0",
              "outputarea_id3"
            ]
          }
        },
        {
          "output_type": "display_data",
          "data": {
            "application/javascript": [
              "window[\"df085ad6-a1d6-11ea-b814-0242ac1c0002\"] = google.colab.output.getActiveOutputArea();\n",
              "//# sourceURL=js_0be997e000"
            ],
            "text/plain": [
              "<IPython.core.display.Javascript object>"
            ]
          },
          "metadata": {
            "tags": [
              "id3_content_1",
              "outputarea_id3"
            ]
          }
        },
        {
          "output_type": "display_data",
          "data": {
            "application/javascript": [
              "window[\"df08a310-a1d6-11ea-b814-0242ac1c0002\"] = document.querySelector(\"#id3_content_1\");\n",
              "//# sourceURL=js_fb46a110d5"
            ],
            "text/plain": [
              "<IPython.core.display.Javascript object>"
            ]
          },
          "metadata": {
            "tags": [
              "id3_content_1",
              "outputarea_id3"
            ]
          }
        },
        {
          "output_type": "display_data",
          "data": {
            "application/javascript": [
              "window[\"df08f766-a1d6-11ea-b814-0242ac1c0002\"] = google.colab.output.setActiveOutputArea(window[\"df08a310-a1d6-11ea-b814-0242ac1c0002\"]);\n",
              "//# sourceURL=js_c4ac255ab2"
            ],
            "text/plain": [
              "<IPython.core.display.Javascript object>"
            ]
          },
          "metadata": {
            "tags": [
              "id3_content_1",
              "outputarea_id3"
            ]
          }
        },
        {
          "output_type": "display_data",
          "data": {
            "application/javascript": [
              "window[\"df093d7a-a1d6-11ea-b814-0242ac1c0002\"] = window[\"id3\"].setSelectedTabIndex(1);\n",
              "//# sourceURL=js_6c79100053"
            ],
            "text/plain": [
              "<IPython.core.display.Javascript object>"
            ]
          },
          "metadata": {
            "tags": [
              "id3_content_1",
              "outputarea_id3"
            ]
          }
        },
        {
          "output_type": "display_data",
          "data": {
            "image/png": "[encoded data removed]",
            "text/plain": [
              "<Figure size 432x288 with 1 Axes>"
            ]
          },
          "metadata": {
            "tags": [
              "id3_content_1",
              "outputarea_id3",
              "user_output"
            ],
            "needs_background": "light"
          }
        },
        {
          "output_type": "display_data",
          "data": {
            "application/javascript": [
              "window[\"df503702-a1d6-11ea-b814-0242ac1c0002\"] = google.colab.output.setActiveOutputArea(window[\"df085ad6-a1d6-11ea-b814-0242ac1c0002\"]);\n",
              "//# sourceURL=js_4a5e320ba6"
            ],
            "text/plain": [
              "<IPython.core.display.Javascript object>"
            ]
          },
          "metadata": {
            "tags": [
              "id3_content_1",
              "outputarea_id3"
            ]
          }
        },
        {
          "output_type": "display_data",
          "data": {
            "application/javascript": [
              "window[\"dfa0dd9c-a1d6-11ea-b814-0242ac1c0002\"] = google.colab.output.getActiveOutputArea();\n",
              "//# sourceURL=js_7f990ecbb1"
            ],
            "text/plain": [
              "<IPython.core.display.Javascript object>"
            ]
          },
          "metadata": {
            "tags": [
              "id3_content_2",
              "outputarea_id3"
            ]
          }
        },
        {
          "output_type": "display_data",
          "data": {
            "application/javascript": [
              "window[\"dfa14296-a1d6-11ea-b814-0242ac1c0002\"] = document.querySelector(\"#id3_content_2\");\n",
              "//# sourceURL=js_9459524805"
            ],
            "text/plain": [
              "<IPython.core.display.Javascript object>"
            ]
          },
          "metadata": {
            "tags": [
              "id3_content_2",
              "outputarea_id3"
            ]
          }
        },
        {
          "output_type": "display_data",
          "data": {
            "application/javascript": [
              "window[\"dfa1ae20-a1d6-11ea-b814-0242ac1c0002\"] = google.colab.output.setActiveOutputArea(window[\"dfa14296-a1d6-11ea-b814-0242ac1c0002\"]);\n",
              "//# sourceURL=js_15895bd234"
            ],
            "text/plain": [
              "<IPython.core.display.Javascript object>"
            ]
          },
          "metadata": {
            "tags": [
              "id3_content_2",
              "outputarea_id3"
            ]
          }
        },
        {
          "output_type": "display_data",
          "data": {
            "application/javascript": [
              "window[\"dfa1fa4c-a1d6-11ea-b814-0242ac1c0002\"] = window[\"id3\"].setSelectedTabIndex(2);\n",
              "//# sourceURL=js_58eb9e45a5"
            ],
            "text/plain": [
              "<IPython.core.display.Javascript object>"
            ]
          },
          "metadata": {
            "tags": [
              "id3_content_2",
              "outputarea_id3"
            ]
          }
        },
        {
          "output_type": "display_data",
          "data": {
            "image/png": "[encoded data removed]",
            "text/plain": [
              "<Figure size 432x288 with 1 Axes>"
            ]
          },
          "metadata": {
            "tags": [
              "id3_content_2",
              "outputarea_id3",
              "user_output"
            ],
            "needs_background": "light"
          }
        },
        {
          "output_type": "display_data",
          "data": {
            "application/javascript": [
              "window[\"dfe18018-a1d6-11ea-b814-0242ac1c0002\"] = google.colab.output.setActiveOutputArea(window[\"dfa0dd9c-a1d6-11ea-b814-0242ac1c0002\"]);\n",
              "//# sourceURL=js_681cac9a94"
            ],
            "text/plain": [
              "<IPython.core.display.Javascript object>"
            ]
          },
          "metadata": {
            "tags": [
              "id3_content_2",
              "outputarea_id3"
            ]
          }
        },
        {
          "output_type": "display_data",
          "data": {
            "application/javascript": [
              "window[\"e01ed350-a1d6-11ea-b814-0242ac1c0002\"] = google.colab.output.getActiveOutputArea();\n",
              "//# sourceURL=js_a609cd2863"
            ],
            "text/plain": [
              "<IPython.core.display.Javascript object>"
            ]
          },
          "metadata": {
            "tags": [
              "id3_content_3",
              "outputarea_id3"
            ]
          }
        },
        {
          "output_type": "display_data",
          "data": {
            "application/javascript": [
              "window[\"e01f23dc-a1d6-11ea-b814-0242ac1c0002\"] = document.querySelector(\"#id3_content_3\");\n",
              "//# sourceURL=js_fa0afb3555"
            ],
            "text/plain": [
              "<IPython.core.display.Javascript object>"
            ]
          },
          "metadata": {
            "tags": [
              "id3_content_3",
              "outputarea_id3"
            ]
          }
        },
        {
          "output_type": "display_data",
          "data": {
            "application/javascript": [
              "window[\"e01f61f8-a1d6-11ea-b814-0242ac1c0002\"] = google.colab.output.setActiveOutputArea(window[\"e01f23dc-a1d6-11ea-b814-0242ac1c0002\"]);\n",
              "//# sourceURL=js_941218455a"
            ],
            "text/plain": [
              "<IPython.core.display.Javascript object>"
            ]
          },
          "metadata": {
            "tags": [
              "id3_content_3",
              "outputarea_id3"
            ]
          }
        },
        {
          "output_type": "display_data",
          "data": {
            "application/javascript": [
              "window[\"e01f9d4e-a1d6-11ea-b814-0242ac1c0002\"] = window[\"id3\"].setSelectedTabIndex(3);\n",
              "//# sourceURL=js_8284e33139"
            ],
            "text/plain": [
              "<IPython.core.display.Javascript object>"
            ]
          },
          "metadata": {
            "tags": [
              "id3_content_3",
              "outputarea_id3"
            ]
          }
        },
        {
          "output_type": "display_data",
          "data": {
            "image/png": "[encoded data removed]",
            "text/plain": [
              "<Figure size 432x288 with 1 Axes>"
            ]
          },
          "metadata": {
            "tags": [
              "id3_content_3",
              "outputarea_id3",
              "user_output"
            ],
            "needs_background": "light"
          }
        },
        {
          "output_type": "display_data",
          "data": {
            "application/javascript": [
              "window[\"e060fac8-a1d6-11ea-b814-0242ac1c0002\"] = google.colab.output.setActiveOutputArea(window[\"e01ed350-a1d6-11ea-b814-0242ac1c0002\"]);\n",
              "//# sourceURL=js_b85f4b2edd"
            ],
            "text/plain": [
              "<IPython.core.display.Javascript object>"
            ]
          },
          "metadata": {
            "tags": [
              "id3_content_3",
              "outputarea_id3"
            ]
          }
        },
        {
          "output_type": "display_data",
          "data": {
            "application/javascript": [
              "window[\"e0630a3e-a1d6-11ea-b814-0242ac1c0002\"] = google.colab.output.getActiveOutputArea();\n",
              "//# sourceURL=js_5a68ad7618"
            ],
            "text/plain": [
              "<IPython.core.display.Javascript object>"
            ]
          },
          "metadata": {
            "tags": [
              "id3_content_4",
              "outputarea_id3"
            ]
          }
        },
        {
          "output_type": "display_data",
          "data": {
            "application/javascript": [
              "window[\"e063692a-a1d6-11ea-b814-0242ac1c0002\"] = document.querySelector(\"#id3_content_4\");\n",
              "//# sourceURL=js_0f8588b868"
            ],
            "text/plain": [
              "<IPython.core.display.Javascript object>"
            ]
          },
          "metadata": {
            "tags": [
              "id3_content_4",
              "outputarea_id3"
            ]
          }
        },
        {
          "output_type": "display_data",
          "data": {
            "application/javascript": [
              "window[\"e063ba56-a1d6-11ea-b814-0242ac1c0002\"] = google.colab.output.setActiveOutputArea(window[\"e063692a-a1d6-11ea-b814-0242ac1c0002\"]);\n",
              "//# sourceURL=js_015ac39dd6"
            ],
            "text/plain": [
              "<IPython.core.display.Javascript object>"
            ]
          },
          "metadata": {
            "tags": [
              "id3_content_4",
              "outputarea_id3"
            ]
          }
        },
        {
          "output_type": "display_data",
          "data": {
            "application/javascript": [
              "window[\"e064068c-a1d6-11ea-b814-0242ac1c0002\"] = window[\"id3\"].setSelectedTabIndex(4);\n",
              "//# sourceURL=js_3bfb02e5db"
            ],
            "text/plain": [
              "<IPython.core.display.Javascript object>"
            ]
          },
          "metadata": {
            "tags": [
              "id3_content_4",
              "outputarea_id3"
            ]
          }
        },
        {
          "output_type": "display_data",
          "data": {
            "image/png": "[encoded data removed]",
            "text/plain": [
              "<Figure size 432x288 with 1 Axes>"
            ]
          },
          "metadata": {
            "tags": [
              "id3_content_4",
              "outputarea_id3",
              "user_output"
            ],
            "needs_background": "light"
          }
        },
        {
          "output_type": "display_data",
          "data": {
            "application/javascript": [
              "window[\"e0b18506-a1d6-11ea-b814-0242ac1c0002\"] = google.colab.output.setActiveOutputArea(window[\"e0630a3e-a1d6-11ea-b814-0242ac1c0002\"]);\n",
              "//# sourceURL=js_faed9b71ce"
            ],
            "text/plain": [
              "<IPython.core.display.Javascript object>"
            ]
          },
          "metadata": {
            "tags": [
              "id3_content_4",
              "outputarea_id3"
            ]
          }
        }
      ]
    },
    {
      "cell_type": "markdown",
      "metadata": {
        "id": "CJ9QXbGh6k3a",
        "colab_type": "text"
      },
      "source": [
        "Please note that, although the pyramid is drawn as males+females for illustration purposes, no sex differences have been implemented into the model at present."
      ]
    },
    {
      "cell_type": "code",
      "metadata": {
        "id": "IUfBIwf0qnSP",
        "colab_type": "code",
        "cellView": "form",
        "outputId": "811663d1-02c6-48e0-d19f-4de6ecc43531",
        "colab": {
          "base_uri": "https://localhost:8080/",
          "height": 79,
          "referenced_widgets": [
            "e63ccb7892344b2d9e6899786882793c",
            "bf58ac42f0bc439d95fc35d830a1e1ef",
            "7bd7e181e954404a81eab3cfebae005b",
            "c9028bd0eb124ed494a9e7c5fde030cb",
            "edea78d6db9b420ca1dfc7889b8ae975",
            "f1dfe9d15e484f6eb3c49f3533c66cb4"
          ]
        }
      },
      "source": [
        "#@title Select a pyramid type and population size for the city\n",
        "#print(\"Population pyramid type\")\n",
        "w_c1_pyramid_type = ipywidgets.Dropdown(options=list(pyramid_names), description=\"Pyramid type\")\n",
        "# w_c1_population_size = ipywidgets.IntText(value=10000000, min=-3, description=\"Pop. size\")\n",
        "w_c1_population_size = ipywidgets.Dropdown(\n",
        "    options=[(50,50), (100,100), (500,500), ('1,000',1000), ('2,000',2000), ('5,000',5000), ('10,000',10000), ('100,000',100000)],\n",
        "    description='Popul. size:',\n",
        "    value=1000\n",
        ")\n",
        "display(w_c1_pyramid_type, w_c1_population_size)"
      ],
      "execution_count": 6,
      "outputs": [
        {
          "output_type": "display_data",
          "data": {
            "application/vnd.jupyter.widget-view+json": {
              "model_id": "e63ccb7892344b2d9e6899786882793c",
              "version_minor": 0,
              "version_major": 2
            },
            "text/plain": [
              "Dropdown(description='Pyramid type', options=('1. Expansive-sharp (Nigeria)', '2. Expansive-smooth (Kenya)', '…"
            ]
          },
          "metadata": {
            "tags": []
          }
        },
        {
          "output_type": "display_data",
          "data": {
            "application/vnd.jupyter.widget-view+json": {
              "model_id": "c9028bd0eb124ed494a9e7c5fde030cb",
              "version_minor": 0,
              "version_major": 2
            },
            "text/plain": [
              "Dropdown(description='Popul. size:', index=3, options=((50, 50), (100, 100), (500, 500), ('1,000', 1000), ('2,…"
            ]
          },
          "metadata": {
            "tags": []
          }
        }
      ]
    },
    {
      "cell_type": "code",
      "metadata": {
        "id": "1vzcfDz6plAg",
        "colab_type": "code",
        "colab": {}
      },
      "source": [
        "c1_pyramid = pyramids[int(w_c1_pyramid_type.value.split('.')[0]) - 1]\n",
        "c1_population = w_c1_population_size.value"
      ],
      "execution_count": 0,
      "outputs": []
    },
    {
      "cell_type": "code",
      "metadata": {
        "id": "b-aBLgYFjuWk",
        "colab_type": "code",
        "outputId": "c0f90335-a6b9-426a-f10b-afd642014390",
        "colab": {
          "base_uri": "https://localhost:8080/",
          "height": 265
        }
      },
      "source": [
        "rands = np.random.random(c1_population)\n",
        "#print(rands)\n",
        "ages = np.digitize(rands, c1_pyramid['p_cums'])\n",
        "plt.hist(ages, bins=len(c1_pyramid['p_cums']))\n",
        "plt.show()"
      ],
      "execution_count": 8,
      "outputs": [
        {
          "output_type": "display_data",
          "data": {
            "image/png": "[encoded data removed]",
            "text/plain": [
              "<Figure size 432x288 with 1 Axes>"
            ]
          },
          "metadata": {
            "tags": [],
            "needs_background": "light"
          }
        }
      ]
    },
    {
      "cell_type": "markdown",
      "metadata": {
        "id": "dVODZqGZ7yhm",
        "colab_type": "text"
      },
      "source": [
        "# The **Person** class\n",
        "## Properties of a Person (_attributes_)\n",
        "Persons have a number of properties, such as:\n",
        "* Age (which has an inverse relation to the chance of surviving).\n",
        "+ Whether or not they are infected.\n",
        "+ Typical number of daily contacts (i.e. how many people they would meet on a given day on average. This number would change depending on the city's ordinances, whether the person is showing symptoms, has tested positive, or is hospitalised).\n",
        "+ Health status (are they healthy, ill, very ill, or critical?).\n",
        "+ Home City (which they have a high chance of returning to when they leave, in case there is more than one city in the model).\n",
        "+ ...and more (see the description of the Person class below).\n",
        "\n",
        "## Actions of a Person (_methods_)\n",
        "* A person can die, regarless of whether or not they had the virus.\n",
        "+ However, a person's chances of dying increase with:\n",
        "    * Age.\n",
        "    + Pre-existing conditions (these are described abstractly as an integer, with the default being zero - i.e. no pre-conditions. One pre-condition increases the chances of worsening and of dying, two increase it further, and so on.\n",
        "    + Unavailability of a hospital bed or ventilator.\n",
        "    + Infection status.\n",
        "    + Health condition (higher is worse)."
      ]
    },
    {
      "cell_type": "markdown",
      "metadata": {
        "id": "G8rLL9lwALUm",
        "colab_type": "text"
      },
      "source": [
        "## Person class diagram\n",
        "<table class=\"class_diagram\">\n",
        "    <tr>\n",
        "        <th>Attributes of Person class</th>\n",
        "    </tr>\n",
        "    <tr class=\"attributes\" title=\"Each Person has a unique identifier.\">\n",
        "        <td><code>+ id: int</code></td>\n",
        "    </tr>\n",
        "    <tr title=\"The age of the individual. Any individual can die. The older the individual, the more likely it is to die.\">\n",
        "        <td><code>- age: int</code></td>\n",
        "    </tr>\n",
        "    <tr title=\"Which City this Person comes from.\">\n",
        "        <td><code>- home_city: City</code></td>\n",
        "    </tr>\n",
        "    <tr title=\"Which City this Person currently is in.\">\n",
        "        <td><code>- current_city: City</code></td>\n",
        "    </tr>\n",
        "    <tr title=\"Has the individual been infected at some point?\">\n",
        "        <td><code>- has_been_infected: bool = False</code></td>\n",
        "    </tr>    \n",
        "    <tr title=\"How many days since the individual was infected. If -1, it hasn't been infected. 0 when just infected.\">\n",
        "        <td><code>- days_since_infection: int = -1</code></td>\n",
        "    </tr>  \n",
        "    <tr title=\"By default, an individual is not infected and therefore not infectious. This can change upon infection, and again upon recovery.\">\n",
        "        <td><code>+ is_infectious: bool = False</code></td>\n",
        "    </tr>    \n",
        "    <tr title=\"A person can have the virus without showing any symptoms, or show similar symptoms without having the virus. A person with symptoms reduces their social contacts.\">\n",
        "        <td><code>- has_symptoms: bool = False</code></td>\n",
        "    </tr>\n",
        "    <tr title=\"By default, an individual is vulnerable, unless it has been infected and recovered, or vaccinated effectively.\">\n",
        "        <td><code>- is_immune: bool = False</code></td>\n",
        "    </tr>\n",
        "    <tr title=\"HEALTHY=1, ILL=2 (tends to stay at home), VERY_ILL=3 (requires a hospital bed), CRITICAL=4 (requires a ventilator)\">\n",
        "        <td><code>- health_condition: int = HEALTHY</code></td>\n",
        "    </tr>\n",
        "    <tr title=\"The more preconditions a person has, the worse it is affected by infection.\">\n",
        "        <td><code>- n_preconditions: int = 0</code></td>\n",
        "    </tr>\n",
        "    <tr title=\"How many people does this person meet every day, if possible.\">\n",
        "        <td><code>- daily_contacts: int = 50</code></td>\n",
        "    </tr>\n",
        "    <!--\n",
        "                  METHODS of the Person class    \n",
        "    -->\n",
        "    <tr style=\"border-top: 1px solid black\">\n",
        "        <th>Methods of Person class</th>\n",
        "    </tr>\n",
        "    <tr class=\"methods\" title=\"the constructor of the class.\">\n",
        "        <td><code>- Person()</code></td>\n",
        "    </tr>\n",
        "    <tr title=\"Effectively, this works as the 'destructor' of the class. Any bed or ventilator is freed, the tally is increased. A death crisis may also be modelled, following reports from Ecuador, Italy and other places where funerary services have become overwhelmed.\">\n",
        "        <td><code>- die()</code></td>\n",
        "    </tr>\n",
        "    <tr>\n",
        "        <td><code>- get_infected()</code></td>\n",
        "    </tr>\n",
        "    <tr>\n",
        "        <td><code>- become_critical()</code></td>\n",
        "    </tr>\n",
        "    <tr title=\"\">\n",
        "        <td><code>- go_outside()</code></td>\n",
        "    </tr>\n",
        "    <tr>\n",
        "        <td><code>+ meet_person(bool: is_person_infectious)</code></td>\n",
        "    </tr>\n",
        "    <tr title=\"In an early version of the model, this just sends Person to a migration blackbox, where they can get infected and from where they can come back. In a more complex version of the system, with multiple cities, the individual can visit other cities and get infected or bring an infection there.\">\n",
        "        <td><code>+ go_to_city(destination_city)</code></td>\n",
        "    </tr>\n",
        "</table>"
      ]
    },
    {
      "cell_type": "code",
      "metadata": {
        "colab_type": "code",
        "cellView": "form",
        "id": "AmDc5QMFz0Jp",
        "colab": {}
      },
      "source": [
        "#@title Code for the Person class [double-click here to show/hide code]\n",
        "class Person:\n",
        "  ###############\n",
        "  # CONSTRUCTOR #\n",
        "  ###############\n",
        "  def __init__(self, **kwargs):\n",
        "    # REQUIRED PARAMETERS THAT MUST BE PASSED IN UPON INSTANTIATION (CONSTRUCTION)\n",
        "    required_params = {\n",
        "      'home_city': \"an object of class City\",\n",
        "      'age': \"an integer, zero or higher\",\n",
        "      'n_preconditions': \"an integer, zero or higher\",\n",
        "      'daily_contacts': \"an integer, zero or higher\"\n",
        "    }\n",
        "    if not all([param in kwargs for param in required_params]):\n",
        "      joiner = \"\\n\\t- \"\n",
        "      raise AttributeError(\"This Person needs to receive the following arguments upon creation:\\n\"\n",
        "        + joiner + joiner.join(required_params))\n",
        "    self._home_city = kwargs['home_city']\n",
        "    self._age = kwargs['age']\n",
        "    self._daily_contacts = kwargs['daily_contacts']\n",
        "    self._n_preconditions = kwargs['n_preconditions'] if 'n_preconditions' in kwargs else 0\n",
        "    \n",
        "    # Other parameters that can be set upon instantiation\n",
        "    self._current_city = kwargs['current_city'] if 'current_city' in kwargs else self._home_city\n",
        "\n",
        "    self._DESIRED_MEETINGS = kwargs['DESIRED_MEETINGS'] if 'DESIRED_MEETINGS' in kwargs else 10\n",
        "    self._remaining_meetings = None\n",
        "    \n",
        "    #  INFECTIONS  #\n",
        "    # A list of all ongoing and previous Infections that this person has or has had\n",
        "    self._infections = kwargs['infections'] if 'infections' in kwargs else []\n",
        "\n",
        "    self._health_condition = kwargs['health_condition'] if 'health_condition' in kwargs else HEALTHY\n",
        "    self._has_hospital_bed = kwargs['has_hospital_bed'] if 'has_hospital_bed' in kwargs else False\n",
        "    self._has_ventilator = kwargs['has_ventilator'] if 'has_ventilator' in kwargs else False\n",
        "    #self._ = kwargs[''] if '' in kwargs else \n",
        "    # RegEx to change list of attributes into kwargs extraction or default value:\n",
        "    # SEARCH:[+-] ([\\w]+): [\\w]+ = (.*) REPLACE:self._\\1 = kwargs['\\1'] if '\\1' in kwargs else \\2\n",
        "    \n",
        "    # OTHER ATTRIBUTES TO SET UPON INITIALISATION\n",
        "    \n",
        "  # end def __init__: CONSTRUCTOR of the class\n",
        "\n",
        "  def __str__(self):\n",
        "    return f\"This is Person #{id(self)}, aged {self.age()}, from City #{self.home_city().name()}\"\n",
        "  \n",
        "  ##############\n",
        "  # DESTRUCTOR #\n",
        "  ##############\n",
        "  def __del__(self):\n",
        "    \"\"\"This function is equivalent to death of the Person object.\n",
        "    Upon destruction, a Person releases any bed or ventilator occupied.\n",
        "    \"\"\"\n",
        "    if self._has_hospital_bed:\n",
        "      self._current_city.release_hospital_bed()\n",
        "    if self._has_ventilator:\n",
        "      self._current_city.release_ventilator()\n",
        "\n",
        "    # log the statistics of this person's death:\n",
        "    #self._current_city.log_death(self)\n",
        "  # end def __del__ : DESTRUCTOR of the class\n",
        "\n",
        "  #########################\n",
        "  # GETTER/SETTER METHODS #\n",
        "  #########################\n",
        "  def age(self, new_age=None):\n",
        "    if new_age: self._age = new_age\n",
        "    return self._age\n",
        "  def home_city(self, new_home_city=None):\n",
        "    if new_home_city: self._home_city = new_home_city\n",
        "    return self._home_city\n",
        "  def current_city(self, new_current_city=None):\n",
        "    if new_current_city: self._current_city = new_current_city\n",
        "    return self._current_city\n",
        "  def health_condition(self, new_health_condition=None):\n",
        "    if new_health_condition: self._health_condition = new_health_condition\n",
        "    return self._health_condition\n",
        "  def n_preconditions(self, new_n_preconditions=None):\n",
        "    if new_n_preconditions: self._n_preconditions = new_n_preconditions\n",
        "    return self._n_preconditions\n",
        "\n",
        "  def has_symptoms(self, new_has_symptoms=None):\n",
        "    if new_has_symptoms: self._has_symptoms = new_has_symptoms\n",
        "    return self._has_symptoms  \n",
        "\n",
        "  def infections(self, set__infections=None):\n",
        "    if set__infections: self._infections = set__infections\n",
        "    return self._infections\n",
        "  \n",
        "  def remaining_meetings(self, set__remaining_meetings=None):\n",
        "    if set__remaining_meetings: self._remaining_meetings(set__remaining_meetings)\n",
        "    return self._remaining_meetings\n",
        "  # RegEx to create getter-setter method:\n",
        "  # REPLACE:def \\1(self, new_\\1=None):\\n  if new_\\1: self._\\1 = new_\\1\\n  else: return self._\\1\n",
        "  # END GETTER SETTER METHODS FOR THE PERSON CLASS\n",
        "\n",
        "  #####################################\n",
        "  # OTHER METHODS OF THE PERSON CLASS #\n",
        "  #####################################\n",
        "  def start_day(self):\n",
        "    \"\"\"\n",
        "    Do anything that needs to be done at the start of a day,\n",
        "    such as resetting the number of daily meetings, and\n",
        "    increasing the Disease day counters.\n",
        "    \"\"\"\n",
        "    # Desired meetings for this day\n",
        "    self._remaining_meetings = self._DESIRED_MEETINGS\n",
        "\n",
        "    # Diseases\n",
        "    for infection in self._infections:\n",
        "      infection.add_day()\n",
        "\n",
        "      # Now check if the number of days that have passed mean\n",
        "      # that the status needs to change\n",
        "      # make INFECTIOUS if LATENT (i.e. exposed in traditional SEIR models) and passed necessary days, \n",
        "      if infection.status() == LATENT and infection.days_since_acquired() >= infection.disease().days_until_contagious():\n",
        "        # set the Person's Infection status to INFECTIOUS\n",
        "        infection.status(INFECTIOUS)\n",
        "        # Change the status tracker\n",
        "        self._current_city.person_status_changed(person=self, disease=infection.disease(), status_from=LATENT, status_to=INFECTIOUS)\n",
        "      # if INFECTIOUS and passed necessary days, make IMMUNE\n",
        "      elif infection.status() == INFECTIOUS and infection.days_since_acquired() >= infection.disease().days_until_not_contagious():\n",
        "        infection.status(IMMUNE)\n",
        "        self._current_city.person_status_changed(person=self, disease=infection.disease(), status_from=INFECTIOUS, status_to=IMMUNE)\n",
        "      # if IMMUNE &and& can be reinfected &and& passed necessary days, make RESUSCEPTIBLE\n",
        "      elif infection.status() == IMMUNE and infection.disease().days_until_resusceptible() > 0 and infection.days_since_acquired() >= infection.disease().days_until_resusceptible():\n",
        "        self._status = RESUSCEPTIBLE\n",
        "        self._current_city.person_status_changed(person=self, disease=infection.disease(), status_from=IMMUNE, status_to=RESUSCEPTIBLE)\n",
        "      # end if: changing the infection status and updating the trackers in the current city\n",
        "  # end def: start_day()\n",
        "\n",
        "  def decrease_meetings(self, n=1):\n",
        "    \"\"\"Decreases the counter of meetings remaining for this Person by n.\"\"\"\n",
        "    self._remaining_meetings -= n\n",
        "  # end def: decrease_meetings\n",
        "  \n",
        "  def get_infected(self, disease):\n",
        "    \"\"\"Adds an Infection of this Disease to this Person's list of Infections.\"\"\"\n",
        "    self._infections.append(Infection(disease=disease))\n",
        "    # Also, tell the City to track this Person's new Infection with this Disease\n",
        "    self.home_city().add_infected(self, disease)\n",
        "  # end def: get_infected)"
      ],
      "execution_count": 0,
      "outputs": []
    },
    {
      "cell_type": "markdown",
      "metadata": {
        "id": "EYo5dvkK700R",
        "colab_type": "text"
      },
      "source": [
        "# The **City** Class\n",
        "+ Persons live in a **City**, the second unit in the model (but initially there is only one city).\n",
        "+ The city has a number of properties, such as:\n",
        "    * How social people are (i.e. how many people each person is likely to meet each day, as a distribution around an average).\n",
        "    + How many hospital beds and ventilators there are\n",
        "    + How many of those beds and ventilators are currently available.\n",
        "    + Optionally, which cities this city is connected to and how intensely (initially there is only one city and migration is dealt-with in an abstract manner, see below).\n",
        "    + How many people emigrate from the city at any given iteration (by default, the number of people who migrate back in is the same, so that no people are lost by migration).\n",
        "+ The City also has a number of actions it can perform (full list below), for example:\n",
        "    * Whether tests are being performed (people who test positive are more likely to stay at home. If the model is networked, then the a percentage of the contacts of those people would be informed and their probability of meeting other people would also fall, if possibly by less than for the original tested person).\n",
        "    + The city can do vaccinations.\n",
        "    + The city can do serology tests to check who has had a disease.\n",
        "+ There are a number of high-risk people in the city. These persons meet far many more people than regular people do. These correspond to e.g. health personnel, bus drivers, grocery store workers, immigration officers, bank tellers, and so on.\n",
        "+ Although not necessary for the most minimal description of the model, there can be more than one city, and these cities would be connected to each other.\n",
        "+ As a first approach, though, there is abstract emigration: some people just leave the city, but they may end up in a migration blackbox for \"not-in-this-city\". People in hospital cannot leave the city.\n",
        "+ Similarly, other people can come into the city, and these new people would come with their own infectiousness and pre-existing conditions, assigned at random."
      ]
    },
    {
      "cell_type": "markdown",
      "metadata": {
        "id": "BcQ1Bqr-ALPZ",
        "colab_type": "text"
      },
      "source": [
        "## City class diagram\n",
        "<table class=\"class_diagram\">\n",
        "    <tr>\n",
        "        <th>Attributes of the City class</th>\n",
        "    </tr>\n",
        "    <tr class=\"attributes\" title=\"Each City has a unique identifier, which can be used to track connections to other cities, and by Persons to know where they are and where home is.\">\n",
        "        <td><code>+ id: int</code></td>\n",
        "    </tr>\n",
        "    <tr title=\"The list of all people living in this city.\">\n",
        "        <td><code>- people: array of <b>Person</b></code></td>\n",
        "    </tr>\n",
        "    <tr title=\"How many persons live in this city.\">\n",
        "        <td><code>- population: int = &Sigma;#Persons == len(people)</code></td>\n",
        "    </tr>\n",
        "    <tr title=\"How many hospital beds the city regularly has, for each 1 thousand citizens.\">\n",
        "        <td><code>- N_HOSP_BEDS_PER_1K: float = 2.0</code></td>\n",
        "    </tr>\n",
        "    <tr title=\"How many hospital beds the city regularly has, calculated from the number per 1 thousand citizens, above. In a time of crisis, the City may add more beds, and then it may remove those extra beds back down to this number once the crisis is subsiding.\">\n",
        "        <td><code>- N_HOSP_BEDS_ORIGINAL: int</code></td>\n",
        "    </tr>\n",
        "    <tr title=\"How many hospital beds are presently available.\">\n",
        "        <td><code>- n_hosp_beds_available: int</code></td>\n",
        "    </tr>\n",
        "    <tr title=\"How many hospital beds are presently in use.\">\n",
        "        <td><code>- n_hosp_beds_in_use: int</code></td>\n",
        "    </tr>\n",
        "    <tr title=\"How many ventilators the city regularly has, for each 100 thousand citizens.\">\n",
        "        <td><code>- N_VENTILATORS_PER_100K: float = 10.0</code></td>\n",
        "    </tr>\n",
        "    <tr title=\"How many ventilators the city regularly has, calculated from the number per 100 thousand citizens, above. In a time of crisis, the City may add more ventilators, and then it may remove those extra ventilators back down to this number once the crisis is subsiding. Optionally, the City may even go below this number and donate some of its ventilators to another city.\">\n",
        "        <td><code>- N_VENTILATORS_ORIGINAL: int</code></td>\n",
        "    </tr>\n",
        "    <tr title=\"How many ventilators are presently available.\">\n",
        "        <td><code>- n_ventilators_available: int</code></td>\n",
        "    </tr>\n",
        "    <tr title=\"How many ventilators are presently in use.\">\n",
        "        <td><code>- n_ventilators_in_use: int</code></td>\n",
        "    </tr>\n",
        "    <tr title=\"How many people does the average 'regular' Person in this City meet each day? This could be sampled e.g. from a Poisson distribution around this number. Note that there are also high-risk people who meet a lot of people each day, below.\">\n",
        "        <td><code>- group_size_regular: int = 30</code></td>\n",
        "    </tr>\n",
        "    <tr title=\"What proportion of the population are high-contact (e.g. health personnel, public-transport drivers, ?\">\n",
        "        <td><code>- p_high_contact: int = 0.05 (5%)</code></td>\n",
        "    </tr>\n",
        "    <tr title=\"How many people does the average 'high-contact' Person in this City meet each day? This could be sampled e.g. from a Poisson distribution around this number. Note that there are also 'regular' people who meet much fewer people each day, above.\">\n",
        "        <td><code>- group_size_high_contact: int = 500</code></td>\n",
        "    </tr>\n",
        "    <tr title=\"How many comorbidities the average person is born with in this City, sampled from a Poisson distribution. Further comorbidities are added the older the person.\">\n",
        "        <td><code>- birth_comorbidities_poisson_lambda: float = 1.0</code></td>\n",
        "    </tr>\n",
        "    <tr title=\"Which cities is this city connected to?\">\n",
        "        <td><code>- cities_network: keyval</code></td>\n",
        "    </tr>\n",
        "    <tr title=\"What proportion of the population migrate to another city each day on average?\">\n",
        "        <td><code>- p_migration: int = 0.10 (10%)</code></td>\n",
        "    </tr>\n",
        "    <!--\n",
        "                  METHODS of the City class    \n",
        "    -->\n",
        "    <tr>\n",
        "        <th>Methods of the City class</th>\n",
        "    </tr>\n",
        "    <tr title=\"In a time of crisis, the City may add more beds, and then it may remove those extra beds back down to the original number once the crisis is subsiding.\">\n",
        "        <td><code>- add_hosp_beds(int n_new_beds)</code></td>\n",
        "    </tr>\n",
        "    <tr title=\"Must first check if there aren't people in those beds.\">\n",
        "        <td><code>- remove_hosp_beds(int n_beds_to_remove)</code></td>\n",
        "    </tr>\n",
        "    <tr title=\"In a time of crisis, the City may add more ventilators, and then it may remove those extra ventilators back down to the original number once the crisis is subsiding.\">\n",
        "        <td><code>- add_ventilators(int n_ventilators_to_add)</code></td>\n",
        "    </tr>\n",
        "    <tr title=\"Must first check if there aren't people using those ventilators.\">\n",
        "        <td><code>- remove_ventilators(int n_ventilators_to_remove)</code></td>\n",
        "    </tr>\n",
        "    <tr title=\"Must first check that there aren't people using those ventilators, and that there are enough to donate.\">\n",
        "        <td><code>- donate_ventilators(recipient_city, how_many)</code></td>\n",
        "    </tr>\n",
        "    <tr title=\"This City can ask for ventilators, in the hope that some other City will have and donate them.\">\n",
        "        <td><code>- ask_for_ventilators(how_many)</code></td>\n",
        "    </tr>\n",
        "</table>"
      ]
    },
    {
      "cell_type": "code",
      "metadata": {
        "id": "iwHlH8_ZCSP3",
        "colab_type": "code",
        "cellView": "form",
        "colab": {}
      },
      "source": [
        "#@title Code for the City class [double-click here to show/hide code]\n",
        "class City:\n",
        "  def __init__(self, **kwargs):\n",
        "    # PARAMETERS SENT INTO THE CLASS UPON CONSTRUCTION\n",
        "    self._name = kwargs['name'] if 'name' in kwargs else id(self)\n",
        "    self._population = kwargs['population'] if 'population' in kwargs else 100\n",
        "    self._pop_pyramid = kwargs['pop_pyramid'] if 'pop_pyramid' in kwargs else c1_pyramid\n",
        "    # Daily meetings (regular vs. high-contact Persons)\n",
        "    self._n_meetings_regular = kwargs['group_size_regular'] if 'group_size_regular' in kwargs else w_n_meetings_regular.value\n",
        "    self._n_meetings_high_contact = kwargs['group_size_regular'] if 'group_size_regular' in kwargs else w_n_meetings_high_contact.value\n",
        "    self._p_high_contact = kwargs['p_high_contact'] if 'p_high_contact' in kwargs else w_p_high_contact.value\n",
        "    \n",
        "    self._n_preconditions_at_birth = kwargs['n_preconditions_at_birth'] if 'n_preconditions_at_birth' in kwargs else w_n_preconditions_at_birth.value\n",
        "    self._cities_network = kwargs['cities_network'] if 'cities_network' in kwargs else {}\n",
        "    self._p_migration = kwargs['p_migration'] if 'p_migration' in kwargs else 0.1\n",
        "    self._in_lockdown_foreigners = kwargs['in_lockdown_foreigners'] if 'in_lockdown_foreigners' in kwargs else False\n",
        "    self._in_lockdown_all = kwargs['in_lockdown_all'] if 'in_lockdown_all' in kwargs else False\n",
        "    # HOSPITAL DATA\n",
        "    self._N_HOSP_BEDS_PER_1K = kwargs['N_HOSP_BEDS_PER_1K'] if 'N_HOSP_BEDS_PER_1K' in kwargs else 2.0\n",
        "    self._N_HOSP_BEDS_ORIGINAL = kwargs['N_HOSP_BEDS_ORIGINAL'] if 'N_HOSP_BEDS_ORIGINAL' in kwargs else math.ceil(self._population * self._N_HOSP_BEDS_PER_1K/1e3)\n",
        "    self._n_hosp_beds_available = kwargs['n_hosp_beds_available'] if 'n_hosp_beds_available' in kwargs else self._N_HOSP_BEDS_ORIGINAL\n",
        "    self._n_hosp_beds_in_use = kwargs['n_hosp_beds_in_use'] if 'n_hosp_beds_in_use' in kwargs else 0\n",
        "    self._n_ventilators_per_100k = kwargs['n_ventilators_per_100k'] if 'n_ventilators_per_100k' in kwargs else 10.0\n",
        "    self._N_VENTILATORS_ORIGINAL = kwargs['N_VENTILATORS_ORIGINAL'] if 'N_VENTILATORS_ORIGINAL' in kwargs else math.ceil(self._population * self._n_ventilators_per_100k/100e3)\n",
        "    self._n_ventilators_available = kwargs['n_ventilators_available'] if 'n_ventilators_available' in kwargs else self._N_VENTILATORS_ORIGINAL\n",
        "    self._n_ventilators_in_use = kwargs['n_ventilators_in_use'] if 'n_ventilators_in_use' in kwargs else 0\n",
        "    \n",
        "    # RegEx to change list of attributes into kwargs extraction or default value:\n",
        "    # SEARCH:- ([\\w]+): [\\w]+ = (.*) REPLACE:self._\\1 = kwargs['\\1'] if '\\1' in kwargs else \\2\n",
        "    \n",
        "    # OTHER ATTRIBUTES TO SET UPON INITIALISATION\n",
        "    self._people = []\n",
        "    self._n_hosp_beds_available = self._N_HOSP_BEDS_ORIGINAL\n",
        "    self._immigrants = [] # a list of people that will come into the city at the beginning of each round\n",
        "    # Two helper lists to deal with meetings\n",
        "    self._socials = []\n",
        "    self._asocials = []\n",
        "\n",
        "    ##################################################\n",
        "    # Initialise the infection trackers for the City #\n",
        "    ##################################################\n",
        "    # The City contains lists of infected Persons for each infection, in an initially empty defaultdict\n",
        "    # Whenever a citizen Person gets infected, this default dict is fed. Note that once a Person is\n",
        "    # in this list, they stay forever in the list as a historical tracker for each infection.\n",
        "    self._infected_ALL = defaultdict(list)\n",
        "    # In principle, everyone is susceptible:\n",
        "    self._infected_susceptible = defaultdict(list)\n",
        "    # These infected people could be latent when they get exposed:\n",
        "    self._infected_latent = defaultdict(list)\n",
        "    # ... they can become infectious at some point:\n",
        "    self._infected_infectious = defaultdict(list)\n",
        "    # ... and they can recover:\n",
        "    self._infected_recovered = defaultdict(list)\n",
        "    # ... but perhaps they can become susceptible again:\n",
        "    self._infected_resusceptible = defaultdict(list)\n",
        "    # And those people can be counted in another dictionary:\n",
        "    self._n_infected_ALL           = defaultdict(int)\n",
        "    self._n_infected_susceptible   = defaultdict(int)\n",
        "    self._n_infected_latent        = defaultdict(int)\n",
        "    self._n_infected_infectious    = defaultdict(int)\n",
        "    self._n_infected_recovered     = defaultdict(int)\n",
        "    self._n_infected_resusceptible = defaultdict(int)\n",
        "\n",
        "    self._status_trackers = {\n",
        "        SUSCEPTIBLE:    self._infected_susceptible,\n",
        "        LATENT:         self._infected_latent,\n",
        "        INFECTIOUS:     self._infected_infectious,\n",
        "        IMMUNE:         self._infected_recovered,\n",
        "        RESUSCEPTIBLE:  self._infected_resusceptible\n",
        "    }\n",
        "\n",
        "\n",
        "    '''\n",
        "    TO DO:\n",
        "    turn the above into default dictionaries and\n",
        "    the below into lengths\n",
        "    self._n_status_trackers = {\n",
        "        SUSCEPTIBLE:    self._infected_susceptible,\n",
        "        LATENT:         self._infected_latent,\n",
        "        INFECTIOUS:     self._infected_infectious,\n",
        "        IMMUNE:         self._infected_recovered,\n",
        "        RESUSCEPTIBLE:  self._infected_resusceptible\n",
        "    }\n",
        "    '''\n",
        "    ################################################\n",
        "    # Create citizens upon origination of the City #\n",
        "    ################################################\n",
        "    self.add_new_people(self._population)\n",
        "\n",
        "  # end def __init__(): the class constructor\n",
        "\n",
        "  def __str__(self):\n",
        "    return f\"This is City id:#{id(self)} and it has a population of {self.population()}\"\n",
        "  def __repr__(self):\n",
        "    return f\"City id:#{id(self)} Population: {self.population()}\"\n",
        "  \n",
        "  def __del__(self):\n",
        "    # log the statistics of this person's death:\n",
        "    pass#self._current_city.log_death(self)\n",
        "\n",
        "    \n",
        "  #########################\n",
        "  # GETTER/SETTER METHODS #\n",
        "  #########################\n",
        "  # Most of these are only getter methdos, because most of these properties should not be changed\n",
        "  # by force. Instead, use the appropriate functions to change these attributes,\n",
        "  # e.g. If you want to add/remove people, use the add_new_people() or remove_people() methods,\n",
        "  # instead of trying to change the _population attribute directly\n",
        "  def name(self):\n",
        "    return self._name\n",
        "  def people(self):\n",
        "    return self._people\n",
        "  def population(self):\n",
        "    return self._population\n",
        "  def N_HOSP_BEDS_PER_1K(self):\n",
        "    return self._N_HOSP_BEDS_PER_1K\n",
        "  def N_HOSP_BEDS_ORIGINAL(self):\n",
        "    return self._N_HOSP_BEDS_ORIGINAL\n",
        "  def n_hosp_beds_available(self):\n",
        "    return self._n_hosp_beds_available\n",
        "  def n_hosp_beds_in_use(self):\n",
        "    return self._n_hosp_beds_in_use\n",
        "  def n_ventilators_per_100k(self):\n",
        "    return self._n_ventilators_per_100k\n",
        "  def N_VENTILATORS_ORIGINAL(self):\n",
        "    return self._N_VENTILATORS_ORIGINAL\n",
        "  def n_ventilators_available(self):\n",
        "    return self._n_ventilators_available\n",
        "  def n_ventilators_in_use(self):\n",
        "    return self._n_ventilators_in_use\n",
        "  def birth_comorbidities_poisson_lambda(self):\n",
        "    return self._birth_comorbidities_poisson_lambda\n",
        "  # A few hybrid setter/getter methods\n",
        "  def group_size_regular(self, new_group_size_regular=None):\n",
        "    if new_group_size_regular: self._group_size_regular = new_group_size_regular\n",
        "    return self._group_size_regular\n",
        "  def p_high_contact(self, new_p_high_contact=None):\n",
        "    if new_p_high_contact: self._p_high_contact = new_p_high_contact\n",
        "    return self._p_high_contact\n",
        "  def group_size_high_contact(self, new_group_size_high_contact=None):\n",
        "    if new_group_size_high_contact: self._group_size_high_contact = new_group_size_high_contact\n",
        "    return self._group_size_high_contact\n",
        "  def p_migration(self, new__p_migration=None):\n",
        "    if new_p_migration: self._p_migration = new_p_migration\n",
        "    return self._p_migration\n",
        "  def cities_network(self, new_cities_network):\n",
        "    if new_cities_network: self._cities_network = new_cities_network\n",
        "    return self._cities_network\n",
        "  def infected_ALL(self):\n",
        "    return self._infected_ALL\n",
        "  def n_infected_ALL(self, disease=None):\n",
        "    \"\"\"\n",
        "    If an infection was specified, returns the int count for that one.\n",
        "    Otherwise returns the whole dictionary of current counts\n",
        "    \"\"\"\n",
        "    if disease:\n",
        "      try:\n",
        "        return self._n_infected_ALL[disease]\n",
        "      except KeyError:\n",
        "        return 0\n",
        "    return self._n_infected_ALL\n",
        "  def n_infected_susceptible(self, disease=None):\n",
        "    if disease:\n",
        "      try:\n",
        "        return self._n_infected_susceptible[disease]\n",
        "      except KeyError:\n",
        "        return 0\n",
        "    return self._n_infected_susceptible\n",
        "  def n_infected_latent(self, disease=None):\n",
        "    if disease:\n",
        "      try:\n",
        "        return self._n_infected_latent[disease]\n",
        "      except KeyError:\n",
        "        return 0\n",
        "    return self._n_infected_latent\n",
        "  def n_infected_infectious(self, disease=None):\n",
        "    if disease:\n",
        "      try:\n",
        "        return self._n_infected_infectious[disease]\n",
        "      except KeyError:\n",
        "        return 0\n",
        "    return self._n_infected_infectious\n",
        "  def n_infected_recovered(self, disease=None):\n",
        "    if disease:\n",
        "      try:\n",
        "        return self._n_infected_recovered[disease]\n",
        "      except KeyError:\n",
        "        return 0\n",
        "    return self._n_infected_recovered\n",
        "  def n_infected_resusceptible(self, disease=None):\n",
        "    if disease:\n",
        "      try:\n",
        "        return self._n_infected_resusceptible[disease]\n",
        "      except KeyError:\n",
        "        return 0\n",
        "    return self._n_infected_resusceptible\n",
        "  # END: GETTER/SETTER METHODS FOR THE CITY CLASS\n",
        "\n",
        "\n",
        "  ###################################\n",
        "  # OTHER METHODS OF THE CITY CLASS #\n",
        "  ###################################\n",
        "  def add_new_people(self, n_people):\n",
        "    \"\"\"\n",
        "    Adds new Persons to the City, using random\n",
        "    values for age, number of daily meetings,\n",
        "    and whether the person is high-contact or not.\n",
        "    \"\"\"\n",
        "    ### AGE DISTRIBUTION ###\n",
        "    # create a list of random uniform numbers in [0..1] for as many people as desired\n",
        "    rands = np.random.random(n_people)\n",
        "    # use numpy to find the ages to which these numbers belong, given the population pyramid of this City\n",
        "    ages = np.digitize(rands, self._pop_pyramid['p_cums'])\n",
        "    \n",
        "    ### NUMBER OF PRE-CONDITIONS ###\n",
        "    preconditions = poisson.rvs(self._n_preconditions_at_birth, size=n_people)\n",
        "    \n",
        "    for i in range(n_people):\n",
        "      ### NUMBER OF DAILY CONTACTS ###\n",
        "      # Is this person high-contact?\n",
        "      if get_rand() < self._p_high_contact:\n",
        "        n_daily_contacts = poisson.rvs(self._n_meetings_high_contact)\n",
        "      else: # It's a \"regular\" person\n",
        "        n_daily_contacts = poisson.rvs(self._n_meetings_regular)\n",
        "      # end if: is this person high contact?\n",
        "      \n",
        "      ### CREATE A NEW PERSON ###\n",
        "      p = Person(home_city=self, age=ages[i], n_preconditions=preconditions[i], daily_contacts=n_daily_contacts)\n",
        "      # Add them to the list of people in this City\n",
        "      self._people.append(p)\n",
        "      # and for every disease we know of, add them to the list of SUSCEPTIBLE people\n",
        "      for disease in diseases:\n",
        "        self._status_trackers[SUSCEPTIBLE][disease].append(p)\n",
        "        self._n_infected_susceptible[disease] += 1\n",
        "    # end for: adding new people one by one\n",
        "  # end def add_new_people(): method to create people at the beginning of the run\n",
        "\n",
        "  def remove_people(self, list_of_people):\n",
        "    \"\"\"Handles deaths (and should eventually handle emigration)\"\"\"\n",
        "    if isinstance(list_of_people, Person):\n",
        "      # we received a single Person, so turn it into a list\n",
        "      list_of_people = [list_of_people]\n",
        "    for person in list_of_people:\n",
        "      # remove this person from the list of people in this city\n",
        "      self._people.remove(person)\n",
        "      # WARNING: if the person is still alive, make sure it is informed wherever\n",
        "      # this function was called that it no longer lives here!\n",
        "  # end def remove_people\n",
        "\n",
        "  def receive_immigrant(self, immigrant, verbose=True):\n",
        "    \"\"\"Receives people from other cities during a round, and puts them on-hold\n",
        "    into a list. At the beginning of each round, the list is checked to see if\n",
        "    there are any immigrants waiting to enter this City.\n",
        "    If the City is in lockdown, only citizens are allowed in, all others are\n",
        "    bounced by returning False.\"\"\"\n",
        "    if not isinstance(immigrant, Person):\n",
        "      raise TypeError(\"An immigrant must be a Person. Instead, the object received is of type\", type(immigrant))\n",
        "    # Is this City in lockdown? Full lockdown or only locked down to foreigners?\n",
        "    if self._in_lockdown_all:\n",
        "      if verbose: print(\"WARNING: Destination city is in full lockdown and even citizens are not allowed in! Sorry, we could not welcome this Person.\")\n",
        "      return False\n",
        "    elif self._in_lockdown_foreigners and immigrant.home_city()!=self:\n",
        "      if verbose: print(\"WARNING: Destination city is in lockdown and this person is not a citizen! Sorry, we could not welcome this Person.\")\n",
        "      return False\n",
        "    else:\n",
        "      # it's fine, this person is allowed in\n",
        "      self._immigrants.append(immigrant)\n",
        "      return True\n",
        "  # end def receive_immigrant()\n",
        "\n",
        "  def release_hospital_bed(self):\n",
        "    \"\"\"Releases a hospital bed that a Person had assigned.\"\"\"\n",
        "    self._n_hosp_beds_available += 1\n",
        "  # end def: release a hospital bed\n",
        "  def release_ventilator(self):\n",
        "    \"\"\"Releases a hospital bed that a Person had assigned.\"\"\"\n",
        "    self._n_ventilators_available += 1\n",
        "  # end def: release a hospital bed\n",
        "  \n",
        "  def add_infected(self, person, disease):\n",
        "    \"\"\"Add a Person to the list of Persons infected with a given disease\"\"\"\n",
        "    self._infected_ALL[disease].append(person)\n",
        "    self._n_infected_ALL[disease] += 1\n",
        "    self._n_infected_latent[disease] += 1\n",
        "    # And update the trackers\n",
        "    self.person_status_changed(person, disease, SUSCEPTIBLE, LATENT)\n",
        "  # end def: add_infected()\n",
        "\n",
        "  def person_status_changed(self, person, disease, status_from, status_to):\n",
        "    \"\"\"Manages changing the Infection status of a Person, especially with regards to the count trackers\"\"\"\n",
        "    # Remove the Person from the tracker they were in\n",
        "    self._status_trackers[status_from][disease].remove(person)\n",
        "    # And add them to the new one:\n",
        "    self._status_trackers[status_to][disease].append(person)\n",
        "  # end def: person_status_changed()\n",
        "\n",
        "\n",
        "  def _do_a_meeting(self, meeting_size):\n",
        "    \"\"\"Handles a meeting between a specified number of people\"\"\"\n",
        "    # Only go ahead if there are enough people willing to do this meeting\n",
        "    if len(self._socials) < meeting_size:\n",
        "      return False\n",
        "\n",
        "    # Shuffle the list of socials, i.e. those Persons with remaining meetings\n",
        "    random.shuffle(self._socials)\n",
        "    # A list of people who have done all their meetings for this iteration. Starts empty.\n",
        "    self._asocials = []\n",
        "    # Go over each group of MEETING_SIZE Persons and handle their meeting\n",
        "    for i in range(len(self._socials)//meeting_size):\n",
        "      # Build up a group for MEETING_SIZE people\n",
        "      meeting_group = []\n",
        "      for j in range(meeting_size):\n",
        "        meeting_group.append(self._socials[i*meeting_size+j])\n",
        "      # end for: building the meeting_group\n",
        "      #print(meeting_group)\n",
        "\n",
        "      # GET ALL THE DISEASES ACTIVELY CARRIED BY THE PEOPLE IN THIS MEETING GROUP:\n",
        "      active_diseases = defaultdict(int)\n",
        "      for person in meeting_group:\n",
        "        for infection in person.infections():\n",
        "          # If the Infection is still contagious, increase\n",
        "          # the counter for its Disease (these many people\n",
        "          # have the Disease in this meeting)\n",
        "          if infection.status() == INFECTIOUS:\n",
        "            active_diseases[infection.disease()] += 1\n",
        "        # end for: TODO\n",
        "      # end for: getting all the Diseases carried by Persons in this meeting\n",
        "\n",
        "      # Recode the count of each Disease's frequency into a probability given\n",
        "      # by 1 - that Disease's infectivity to the power of how many people have it.\n",
        "      # This can be used later to determine whether a non-infected person in this group gets infected.\n",
        "      for disease, count in active_diseases.items():\n",
        "          active_diseases[disease] = 1 - (1-disease.infectivity())**count\n",
        "      # end for: recoding Diseases to a power of infectivity\n",
        "\n",
        "      #print(diseases)\n",
        "\n",
        "      # MEETING:\n",
        "      #meeters_txt = \"\"\n",
        "      for person in meeting_group:\n",
        "        # HANDLING INFECTION\n",
        "        #meeters_txt += str(person) + '\\t'\n",
        "        for disease, prob in active_diseases.items():\n",
        "          if not disease in [infection.disease() for infection in person.infections()]:\n",
        "            # this person has never had this Disease. May get infected with it\n",
        "            if get_rand() < prob:\n",
        "              # person gets infected =(\n",
        "              person.get_infected(disease)\n",
        "              #print(f\"\\n\\n\\n{50*'*'}\\n{person} has been INFECTED!\\n{50*'*'}\\n\\n\\n\")\n",
        "            # end if: TODO\n",
        "          # end if: TODO\n",
        "        # end for: TODO\n",
        "\n",
        "        # Decrease the counter of meetings remaining\n",
        "        person.decrease_meetings(meeting_size - 1)\n",
        "        # Note that the counter can go below 0. That's ok, we just assume the person\n",
        "        # ended up meeting a few more people than desired (e.g. it was especially busy\n",
        "        # at a place they visited today)\n",
        "\n",
        "        # check if any of the Persons have done all their meetings\n",
        "        if person.remaining_meetings() <= 0:\n",
        "          self._asocials.append(person) # this is better than removing from socials here.\n",
        "          # If we removed from socials here, we'd change the size of socials and mess\n",
        "          # up the indexing that we're using to handle the meetings, so it's best to\n",
        "          # add Persons who completed their meetings to a list and remove them at the\n",
        "          # end of this meeting round.\n",
        "        # end if: adding Person to a list of Persons who have finished their meetings\n",
        "      # end for: handling the meetings between all members of this meeting group\n",
        "      #print(meeters_txt)\n",
        "    # end for: meeting of socials in groups of MEETING_SIZE size\n",
        "\n",
        "    # If there are any persons that have finished their desired meetings, remove them\n",
        "    for person in self._asocials:\n",
        "      # Remove this Person from the list of socials in this iteration,\n",
        "      # since they have done all their meetings.\n",
        "      # This is better than removing them immediately above, because that would change the\n",
        "      # list size of socials during the iteration above, which would mess everything up.\n",
        "      self._socials.remove(person)\n",
        "    # end for: removing all Persons who have completed their meetings.\n",
        "    return True\n",
        "  # end def: do_a_meeting()\n",
        "\n",
        "  ########################\n",
        "  #  DAY ITERATION CODE  #\n",
        "  ########################\n",
        "  def run_iteration(self, do_super_spreader=False):\n",
        "    \"\"\"Runs an iteration (a 'day') for this City\"\"\"\n",
        "    \n",
        "    # Start the day for each Person in the City\n",
        "    for person in self._people:\n",
        "      person.start_day()\n",
        "\n",
        "    # The meeting sizes for normal events and superspreader events\n",
        "    MEETING_SIZE = w_meeting_size.value # 2 by default, so 1-to-1 meetings\n",
        "    \n",
        "    # Initialise the list of people that will be meeting others\n",
        "    # to the full list of people in the City\n",
        "    self._socials = self._people.copy()\n",
        "    \n",
        "    ###########################\n",
        "    #  SUPER-SPREADER EVENTS  #\n",
        "    ###########################\n",
        "    if do_super_spreader:\n",
        "      self._do_a_meeting(w_n_people_superspreader_events.value)\n",
        "\n",
        "    ############################\n",
        "    #  REGULAR MEETING EVENTS  #\n",
        "    ############################\n",
        "    # Go over the group of people who still want to have regular (e.g. 1-to-1) meetings\n",
        "    while len(self._socials) >= MEETING_SIZE:      \n",
        "      self._do_a_meeting(MEETING_SIZE)\n",
        "    # end while\n",
        "\n",
        "    # UPDATE THE COUNTERS OF ONGOING AND PREVIOUS INFECTIONS FOR EACH DISEASE\n",
        "    self._n_infected_ALL           = {disease: len(self._infected_ALL[disease]) for disease in self._infected_ALL}\n",
        "    self._n_infected_susceptible   = {disease: len(self._infected_susceptible[disease]) for disease in self._infected_susceptible}\n",
        "    self._n_infected_latent        = {disease: len(self._infected_latent[disease]) for disease in self._infected_latent}\n",
        "    self._n_infected_infectious    = {disease: len(self._infected_infectious[disease]) for disease in self._infected_infectious}\n",
        "    self._n_infected_recovered     = {disease: len(self._infected_recovered[disease]) for disease in self._infected_recovered}\n",
        "    self._n_infected_resusceptible = {disease: len(self._infected_resusceptible[disease]) for disease in self._infected_resusceptible}\n",
        "  # end def: run_iteration()\n",
        "# END CLASS CITY"
      ],
      "execution_count": 0,
      "outputs": []
    },
    {
      "cell_type": "markdown",
      "metadata": {
        "id": "FSSOyUmBuJkc",
        "colab_type": "text"
      },
      "source": [
        "## Number of meetings\n",
        "There are two numbers of meetings being used here:\n",
        "1. \"**Regular**\" (typically most) people in the city meet a given number of people every day, on average.\n",
        "1. **High-contact** people typically meet a much higher number of people each day. This could be akin to people working with public (health personnel, public transport employees, retail workers, and so on).\n",
        "Both numbers are sampled from a Poisson distribution around each of the two chosen means, and the proportion of how many people belong to each class can be chosen below as well."
      ]
    },
    {
      "cell_type": "code",
      "metadata": {
        "id": "KnBBtYwUvrm1",
        "colab_type": "code",
        "colab": {
          "base_uri": "https://localhost:8080/",
          "height": 212,
          "referenced_widgets": [
            "66f9bef831184fc6983a331c5be5128e",
            "b51a37a7b8964c1f8bb04f30f49d4446",
            "989dc5b7b28d40f89be9b69895a436f7",
            "587f1ec53f61436382dff260486760f9",
            "38edbad32f404b3bab3e50dbcdc5fe6f",
            "4a7f9924c6194586ac4c946a51685784",
            "726032c547a140c789fbf8651bc12c57",
            "09b2c209f42a4e949c74199ea0889e52",
            "1c2376f699474318b90d40e36993ad21",
            "d31b0d01f1504cb28ab6612caacb689e",
            "9551c2838d8b46cca9a46f7a0d8cd935",
            "a172cfe564394a2788595a2d3ac34695"
          ]
        },
        "cellView": "form",
        "outputId": "c21726c2-9976-47f3-8935-a1a7366bc0b8"
      },
      "source": [
        "#@title Control dashboard for the City class [double click here to show code]\n",
        "print(\"Mean number of daily meetings for \\\"regular\\\" people\")\n",
        "w_n_meetings_regular = ipywidgets.IntSlider(value=30, min=5, max=500, step=5)\n",
        "display(w_n_meetings_regular)\n",
        "\n",
        "print(\"Mean number of daily meetings for \\\"high-cotact\\\" people\")\n",
        "w_n_meetings_high_contact = ipywidgets.IntSlider(value=500, min=50, max=2000, step=10)\n",
        "display(w_n_meetings_high_contact)\n",
        "\n",
        "print(\"Proportion of people that belong to the high-contact group\")\n",
        "w_p_high_contact = ipywidgets.FloatSlider(value=0.1, min=0.0, max=1.0, step=0.01)\n",
        "display(w_p_high_contact)\n",
        "\n",
        "print(\"Mean number of existing health pre-conditions at birth\")\n",
        "w_n_preconditions_at_birth = ipywidgets.IntSlider(value=2, min=0, max=50, step=1)\n",
        "display(w_n_preconditions_at_birth)"
      ],
      "execution_count": 11,
      "outputs": [
        {
          "output_type": "stream",
          "text": [
            "Mean number of daily meetings for \"regular\" people\n"
          ],
          "name": "stdout"
        },
        {
          "output_type": "display_data",
          "data": {
            "application/vnd.jupyter.widget-view+json": {
              "model_id": "66f9bef831184fc6983a331c5be5128e",
              "version_minor": 0,
              "version_major": 2
            },
            "text/plain": [
              "IntSlider(value=30, max=500, min=5, step=5)"
            ]
          },
          "metadata": {
            "tags": []
          }
        },
        {
          "output_type": "stream",
          "text": [
            "Mean number of daily meetings for \"high-cotact\" people\n"
          ],
          "name": "stdout"
        },
        {
          "output_type": "display_data",
          "data": {
            "application/vnd.jupyter.widget-view+json": {
              "model_id": "587f1ec53f61436382dff260486760f9",
              "version_minor": 0,
              "version_major": 2
            },
            "text/plain": [
              "IntSlider(value=500, max=2000, min=50, step=10)"
            ]
          },
          "metadata": {
            "tags": []
          }
        },
        {
          "output_type": "stream",
          "text": [
            "Proportion of people that belong to the high-contact group\n"
          ],
          "name": "stdout"
        },
        {
          "output_type": "display_data",
          "data": {
            "application/vnd.jupyter.widget-view+json": {
              "model_id": "726032c547a140c789fbf8651bc12c57",
              "version_minor": 0,
              "version_major": 2
            },
            "text/plain": [
              "FloatSlider(value=0.1, max=1.0, step=0.01)"
            ]
          },
          "metadata": {
            "tags": []
          }
        },
        {
          "output_type": "stream",
          "text": [
            "Mean number of existing health pre-conditions at birth\n"
          ],
          "name": "stdout"
        },
        {
          "output_type": "display_data",
          "data": {
            "application/vnd.jupyter.widget-view+json": {
              "model_id": "d31b0d01f1504cb28ab6612caacb689e",
              "version_minor": 0,
              "version_major": 2
            },
            "text/plain": [
              "IntSlider(value=2, max=50)"
            ]
          },
          "metadata": {
            "tags": []
          }
        }
      ]
    },
    {
      "cell_type": "markdown",
      "metadata": {
        "id": "oUGGUkIDfXpW",
        "colab_type": "text"
      },
      "source": [
        "# The **Disease** class: epidemiological factors\n",
        "**Note:** \"Disease\" is used here as shorthand for \"infectious disease\".\n",
        "\n",
        "This contains general epidemiological factors of a Disease (e.g. a virus) and its behaviour in an infected Person, chiefly:\n",
        "\n",
        "Property                          |Description\n",
        "----------------------------------|----------------------------------\n",
        "```infectivity``` |What proportion of contacts results in an effective transmission of the disease.\n",
        "```p_symptomatic``` |What proportion of carriers develop symptoms.\n",
        "```days_until_symptomatic``` |How many days until infected person ```starts showing symptoms, in case they do.\n",
        "```days_symptom_duration``` |How many days do symptoms last, if person is showing them and recovers.\n",
        "```days_until_contagious``` |Once a person is infected, how many days until they become contagious to others.\n",
        "```days_until_not_contagious``` |How many days until an infected person stops being contagious to others.\n",
        "```days_until_resusceptible``` |Once a Person recovers from the infection, how many days until they become susceptible again.\n"
      ]
    },
    {
      "cell_type": "code",
      "metadata": {
        "id": "ZlMxgkQMcUnc",
        "colab_type": "code",
        "cellView": "form",
        "colab": {}
      },
      "source": [
        "#@title Code for the Disease class [double click here to show/hide code]\n",
        "class Disease:\n",
        "  \"\"\"Contains all epidemiological factors of a Disease (such as a virus).\"\"\"\n",
        "\n",
        "  # CONSTRUCTOR #\n",
        "  def __init__(self, **kwargs):\n",
        "    self._name = kwargs['name'] if 'name' in kwargs else \"SARS-CoV-2/Covid-19\"\n",
        "    # Customisable parameters extracted from the dashboard above\n",
        "    self._infectivity = kwargs['infectivity'] if 'infectivity' in kwargs else w_infectivity.value\n",
        "    self._p_symptomatic = kwargs['p_symptomatic'] if 'p_symptomatic' in kwargs else w_p_symptomatic.value\n",
        "    self._days_until_symptomatic = kwargs['days_until_symptomatic'] if 'days_until_symptomatic' in kwargs else w_days_until_symptomatic.value\n",
        "    self._days_symptom_duration = kwargs['days_symptom_duration'] if 'days_symptom_duration' in kwargs else w_days_symptom_duration.value\n",
        "    self._days_until_contagious = kwargs['days_until_contagious'] if 'days_until_contagious' in kwargs else w_days_until_contagious.value\n",
        "    self._days_until_not_contagious = kwargs['days_until_not_contagious'] if 'days_until_not_contagious' in kwargs else self._days_until_contagious + w_duration_of_contagiousness.value\n",
        "    self._days_until_resusceptible = kwargs['days_until_resusceptible'] if 'days_until_resusceptible' in kwargs else w_days_until_resusceptible.value\n",
        "    # Other \n",
        "    self._has_vaccine = False\n",
        "\n",
        "    # Check that the chosen parameters make sense\n",
        "    if self._days_until_resusceptible > 0 and self._days_until_resusceptible < self._days_until_not_contagious:\n",
        "      raise ValueError(\"The number of days until susceptible again have to be more than the time it takes to stop being contagious!\")\n",
        "  # end def __init__: the CONSTRUCTOR of the class\n",
        "\n",
        "  def __str__(self):\n",
        "    return f\"This is the {self._name} Disease\"\n",
        "  # end def __str__: the string processor of the class\n",
        "  \n",
        "  def __repr__(self):\n",
        "    return f\"{self._name}\"\n",
        "  # end def __str__: the string processor of the class\n",
        "  \n",
        "  ###########################\n",
        "  #  GETTER/SETTER METHODS  #\n",
        "  ###########################\n",
        "  def name(self):\n",
        "    return self._name\n",
        "  def infectivity(self, set__infectivity=None):\n",
        "    if set__infectivity: self._infectivity(set__infectivity)\n",
        "    return self._infectivity\n",
        "  def has_vaccine(self, set__has_vaccine=None):\n",
        "    if set__has_vaccine: self._has_vaccine(set__has_vaccine)\n",
        "    return self._has_vaccine\n",
        "  def days_until_contagious(self):\n",
        "    return self._days_until_contagious\n",
        "  def days_until_not_contagious(self):\n",
        "    return self._days_until_not_contagious\n",
        "  def days_until_resusceptible(self):\n",
        "    return self._days_until_resusceptible\n",
        "  # END GETTER/SETTER METHODS\n",
        "\n",
        "  ########################################\n",
        "  #  OTHER METHODS OF THE DISEASE CLASS  #\n",
        "  ########################################\n",
        "  def add_vaccine(self, protection_days=-1):\n",
        "    # -1 means protection is forever\n",
        "    self._has_vaccine = True\n",
        "  # end def add_vaccine\n",
        "# end class Disease"
      ],
      "execution_count": 0,
      "outputs": []
    },
    {
      "cell_type": "markdown",
      "metadata": {
        "id": "GvZiOZCsYY8u",
        "colab_type": "text"
      },
      "source": [
        "# The **Infection** class\n",
        "A `Person` can have an **`Infection`**. This is different from the `Disease` in that `Disease` represents the biological pathogen itself, whereas `Infection` represents a case of that pathogen as acquired by a `Person`. It is therefore of most use to track the progress of the Disease in the Person, particularly in terms of infectiousness.\n",
        "\n",
        "## Properties of an Infection (_attributes_)\n",
        "* `disease`: which disease (e.g. \"SARS-CoV-2\") this infection involves.\n",
        "+ `days since infection`: How many days since the infection was acquired.\n",
        "+ `status`: the infectiousness status. Can be\n",
        "  * `SUSCEPTIBLE`.\n",
        "  + `LATENT` (equivalent to \"exposed\" in a traditional SEIR model).\n",
        "  + `INFECTIOUS`.\n",
        "  + `IMMUNE` (equivalent to \"recovered\" in a typical SEIR model).\n",
        "  + `RESUSCEPTIBLE` (optional, used if immunity is lost after some time, but not entirely).\n",
        "\n",
        "## Actions of an Infection (_methods_)\n",
        "* `add_day()`: adds a day to a counter, so that any necessary changes to immunity status can be effected by the Person that has this infection and tracked by the City where the Person resides."
      ]
    },
    {
      "cell_type": "markdown",
      "metadata": {
        "id": "CFEJUkzNZDaK",
        "colab_type": "text"
      },
      "source": [
        "## Infection class diagram\n"
      ]
    },
    {
      "cell_type": "code",
      "metadata": {
        "id": "i4fNQKRIlACF",
        "colab_type": "code",
        "cellView": "form",
        "colab": {}
      },
      "source": [
        "#@title Code for the Infection class [double-click here to show/hide code]\n",
        "class Infection:\n",
        "  \"\"\"\n",
        "  Can be had by a Person.\n",
        "  Needs an object of class Disease as argument.\n",
        "  The main difference between Disease and Infection objects\n",
        "  is that a Disease is a generic independent entity with epidemiological\n",
        "  and biological information, such as \"Influenza\" or \"SARS-CoV-2\",\n",
        "  whereas an Infection is a case of such a Disease in a Person,\n",
        "  with details such as when it was acquired, whether the Person is\n",
        "  contagious for that Disease, and so on.\n",
        "  \"\"\"\n",
        "  def __init__(self, **kwargs):\n",
        "    #########################\n",
        "    #  REQUIRED PARAMETERS  #\n",
        "    #########################\n",
        "    # These are needed upon initialisation.\n",
        "    # Check if all required parameters were provided:\n",
        "    required_params = {\n",
        "      'disease': \"an object of class Disease\"\n",
        "    }\n",
        "    if not all([param in kwargs for param in required_params]):\n",
        "      joiner = \"\\n\\t- \"\n",
        "      raise AttributeError(\"This Infection needs to receive the following arguments upon creation:\\n\"\n",
        "        + joiner + joiner.join(required_params))\n",
        "    # Initialise the required parameters\n",
        "    self._disease = kwargs['disease']\n",
        "\n",
        "    #########################\n",
        "    #  OPTIONAL PARAMETERS  #\n",
        "    #########################\n",
        "    # The contagiousness status of this Infection. Defaults to LATENT, but\n",
        "    # can be: SUSCEPTIBLE, LATENT (same as \"exposed\" in a typical SEIR model), INFECTIOUS, IMMUNE (same as \"recovered\" in SEIR), ...\n",
        "    # or RESUSCEPTIBLE (in case reinfection is possible, but with lower susceptibility, otherwise just use SUSCEPTIBLE)\n",
        "    self._status = kwargs['status'] if 'status' in kwargs else LATENT\n",
        "    # Days since this Disease was acquired. Status can change as a result of this\n",
        "    self._days_since_acquired = kwargs['days_since_acquired'] if 'days_since_acquired' in kwargs else 0\n",
        "    # Symptoms for this Infection. Can be ASYMPTOMATIC, MILD, or SEVERE\n",
        "    self._symptoms = kwargs['symptoms'] if 'symptoms' in kwargs else ASYMPTOMATIC\n",
        "  # end def: __init__ # Constructor for class Infection\n",
        "\n",
        "  ###########################\n",
        "  #  GETTER/SETTER METHODS  #\n",
        "  ###########################\n",
        "  def disease(self):\n",
        "    return self._disease\n",
        "  def days_since_acquired(self):\n",
        "    return self._days_since_acquired\n",
        "  def status(self, set__status=None):\n",
        "    if set__status: self._status = set__status\n",
        "    return self._status\n",
        "  def symptoms(self, set__symptoms=None):\n",
        "    if set__symptoms: self._symptoms = set__symptoms\n",
        "    return self._symptoms\n",
        "\n",
        "  ##########################################\n",
        "  #  OTHER METHODS OF THE INFECTION CLASS  #\n",
        "  ##########################################\n",
        "  def add_day(self):\n",
        "    \"\"\"Adds a day to this Infection so that any changes can be tracked by the Person and City.\"\"\"\n",
        "    self._days_since_acquired += 1\n",
        "  # end def: add_day()\n",
        "# end class: Infection"
      ],
      "execution_count": 0,
      "outputs": []
    },
    {
      "cell_type": "markdown",
      "metadata": {
        "id": "tnCz5xfxRBe4",
        "colab_type": "text"
      },
      "source": [
        "# Steps in a model iteration\n",
        "At every time step, a number of events happen:\n",
        "* People go out and meet other people. In these meetings, infections can happen.\n",
        "+ Those infected can show symptoms.\n",
        "+ Those with symptoms reduce their chance of going out.\n",
        "+  Those that are infected with symptoms can get worse and require hospitalisation.\n",
        "+  Those hospitalised can recover, or they can become critical and require a ventilator.\n",
        "+  People may die, whether or not they have the Disease.\n",
        "+  People may leave the city.\n",
        "+  People who have left the city have a tendency to return home.\n",
        "+  Other people may come into the city, and those that come may or may not be infected and will bring their own pre-existing conditions. This is the only inflow of people in the model, there are no births (at least initially)."
      ]
    },
    {
      "cell_type": "code",
      "metadata": {
        "id": "_Q8yyO_Gg6aD",
        "colab_type": "code",
        "cellView": "form",
        "outputId": "fe797143-1687-4840-e2c4-8d8cf3b7aa0f",
        "colab": {
          "base_uri": "https://localhost:8080/",
          "height": 473,
          "referenced_widgets": [
            "3b3dae269cde49d888f60097666698d0",
            "55efe0fe5f0f472f8022dce12a7fca62",
            "09c4218b489d4c00a0b60b28d18f23a7",
            "898f409002bc4de298fceafff7155870",
            "584527ddfa8d4d54a4b091d2e36cbcac",
            "2b8d09be25264ca4a7701e94e257865c",
            "7682f29cb1324bee8156680f4e8de8a6",
            "1878499850a248b791709a4c830ae164",
            "c74aaf5c0d2b4914943c4cf9dd50c0ef",
            "19d027c1ab93470cb5efe3ec6859a169",
            "4486e7213b864266a53f1843b0ffc9c2",
            "ea129cd278a346cc987b5e267f1eefa6",
            "86622d90f59f497ab7a33694ad021461",
            "da61acb4e0ac4e5e85ec785c613a3b14",
            "b7854942fa754c0e9c7ae017575c03c2",
            "74ab2f17cdef4bf3a4c6aedcd977ea64",
            "b77918b3c8764ecd9053f104d12ad380",
            "d751aabf05d44294a2c7a355614e3a76",
            "fcd9d30bd41646229c9199378ca1319a",
            "cf2795c44a61473ea209986be9501cb9",
            "c5681e0940b043ada40543fa11334938",
            "3ad73ee845c748bbab5eef32a1f5b8c9",
            "21387e1ecf144e1498f728979721d391",
            "13e95501bc8b464caf205da2db87801f",
            "d918f62613f44007bc115868ea4dbf30",
            "bfb1b5296ef3492fa4a1feb786d44024",
            "f9679bd2474f42be8d481b34a47e56b1"
          ]
        }
      },
      "source": [
        "#@title Control dashboard for the Disease class (epidemiological factors)\n",
        "\n",
        "print(\"Proportion of contacts that result in infection\")\n",
        "w_infectivity = ipywidgets.FloatSlider(value=0.01, min=0.01, max=1.0, step=0.01)\n",
        "display(w_infectivity)\n",
        "\n",
        "print(\"Proportion of infected people that become symptomatic\")\n",
        "w_p_symptomatic = ipywidgets.FloatSlider(value=0.25, min=0.0, max=1.0, step=0.01)\n",
        "display(w_p_symptomatic)\n",
        "\n",
        "print(\"Days until symptomatic\")\n",
        "w_days_until_symptomatic = ipywidgets.IntSlider(value=7, min=1, max=25)\n",
        "display(w_days_until_symptomatic)\n",
        "\n",
        "print(\"Duration of symptoms (days)\")\n",
        "w_days_symptom_duration = ipywidgets.IntSlider(value=10, min=3, max=50)\n",
        "display(w_days_symptom_duration)\n",
        "\n",
        "print(\"Days until contagious\")\n",
        "w_days_until_contagious = ipywidgets.IntSlider(value=3, min=1, max=25)\n",
        "display(w_days_until_contagious)\n",
        "\n",
        "print(\"How many days contagiousness lasts\")\n",
        "w_duration_of_contagiousness = ipywidgets.IntSlider(value=4, min=1, max=60)\n",
        "display(w_duration_of_contagiousness)\n",
        "\n",
        "print(\"Has vaccine\")\n",
        "w_has_vaccine = ipywidgets.Checkbox(value=False, indent=False)\n",
        "display(w_has_vaccine)\n",
        "\n",
        "print(\"Days until susceptible again after vaccination or infection\")\n",
        "print(\"(-1 means protection is for life)\")\n",
        "w_days_until_resusceptible = ipywidgets.IntSlider(value=-1, min=-1, max=200)\n",
        "display(w_days_until_resusceptible)\n",
        "\n",
        "print(\"Days until recovery if initially healthy\")\n",
        "w_days_recovery_healthy = ipywidgets.IntSlider(value=14, min=0, max=60)\n",
        "display(w_days_recovery_healthy)"
      ],
      "execution_count": 14,
      "outputs": [
        {
          "output_type": "stream",
          "text": [
            "Proportion of contacts that result in infection\n"
          ],
          "name": "stdout"
        },
        {
          "output_type": "display_data",
          "data": {
            "application/vnd.jupyter.widget-view+json": {
              "model_id": "3b3dae269cde49d888f60097666698d0",
              "version_minor": 0,
              "version_major": 2
            },
            "text/plain": [
              "FloatSlider(value=0.01, max=1.0, min=0.01, step=0.01)"
            ]
          },
          "metadata": {
            "tags": []
          }
        },
        {
          "output_type": "stream",
          "text": [
            "Proportion of infected people that become symptomatic\n"
          ],
          "name": "stdout"
        },
        {
          "output_type": "display_data",
          "data": {
            "application/vnd.jupyter.widget-view+json": {
              "model_id": "898f409002bc4de298fceafff7155870",
              "version_minor": 0,
              "version_major": 2
            },
            "text/plain": [
              "FloatSlider(value=0.25, max=1.0, step=0.01)"
            ]
          },
          "metadata": {
            "tags": []
          }
        },
        {
          "output_type": "stream",
          "text": [
            "Days until symptomatic\n"
          ],
          "name": "stdout"
        },
        {
          "output_type": "display_data",
          "data": {
            "application/vnd.jupyter.widget-view+json": {
              "model_id": "7682f29cb1324bee8156680f4e8de8a6",
              "version_minor": 0,
              "version_major": 2
            },
            "text/plain": [
              "IntSlider(value=7, max=25, min=1)"
            ]
          },
          "metadata": {
            "tags": []
          }
        },
        {
          "output_type": "stream",
          "text": [
            "Duration of symptoms (days)\n"
          ],
          "name": "stdout"
        },
        {
          "output_type": "display_data",
          "data": {
            "application/vnd.jupyter.widget-view+json": {
              "model_id": "19d027c1ab93470cb5efe3ec6859a169",
              "version_minor": 0,
              "version_major": 2
            },
            "text/plain": [
              "IntSlider(value=10, max=50, min=3)"
            ]
          },
          "metadata": {
            "tags": []
          }
        },
        {
          "output_type": "stream",
          "text": [
            "Days until contagious\n"
          ],
          "name": "stdout"
        },
        {
          "output_type": "display_data",
          "data": {
            "application/vnd.jupyter.widget-view+json": {
              "model_id": "86622d90f59f497ab7a33694ad021461",
              "version_minor": 0,
              "version_major": 2
            },
            "text/plain": [
              "IntSlider(value=3, max=25, min=1)"
            ]
          },
          "metadata": {
            "tags": []
          }
        },
        {
          "output_type": "stream",
          "text": [
            "How many days contagiousness lasts\n"
          ],
          "name": "stdout"
        },
        {
          "output_type": "display_data",
          "data": {
            "application/vnd.jupyter.widget-view+json": {
              "model_id": "74ab2f17cdef4bf3a4c6aedcd977ea64",
              "version_minor": 0,
              "version_major": 2
            },
            "text/plain": [
              "IntSlider(value=4, max=60, min=1)"
            ]
          },
          "metadata": {
            "tags": []
          }
        },
        {
          "output_type": "stream",
          "text": [
            "Has vaccine\n"
          ],
          "name": "stdout"
        },
        {
          "output_type": "display_data",
          "data": {
            "application/vnd.jupyter.widget-view+json": {
              "model_id": "fcd9d30bd41646229c9199378ca1319a",
              "version_minor": 0,
              "version_major": 2
            },
            "text/plain": [
              "Checkbox(value=False, indent=False)"
            ]
          },
          "metadata": {
            "tags": []
          }
        },
        {
          "output_type": "stream",
          "text": [
            "Days until susceptible again after vaccination or infection\n",
            "(-1 means protection is for life)\n"
          ],
          "name": "stdout"
        },
        {
          "output_type": "display_data",
          "data": {
            "application/vnd.jupyter.widget-view+json": {
              "model_id": "3ad73ee845c748bbab5eef32a1f5b8c9",
              "version_minor": 0,
              "version_major": 2
            },
            "text/plain": [
              "IntSlider(value=-1, max=200, min=-1)"
            ]
          },
          "metadata": {
            "tags": []
          }
        },
        {
          "output_type": "stream",
          "text": [
            "Days until recovery if initially healthy\n"
          ],
          "name": "stdout"
        },
        {
          "output_type": "display_data",
          "data": {
            "application/vnd.jupyter.widget-view+json": {
              "model_id": "d918f62613f44007bc115868ea4dbf30",
              "version_minor": 0,
              "version_major": 2
            },
            "text/plain": [
              "IntSlider(value=14, max=60)"
            ]
          },
          "metadata": {
            "tags": []
          }
        }
      ]
    },
    {
      "cell_type": "markdown",
      "metadata": {
        "id": "FJ9wm4aTWWYW",
        "colab_type": "text"
      },
      "source": [
        "## Initialise the cities and their people"
      ]
    },
    {
      "cell_type": "code",
      "metadata": {
        "id": "MN1OlTN3I5u2",
        "colab_type": "code",
        "colab": {
          "base_uri": "https://localhost:8080/",
          "height": 372,
          "referenced_widgets": [
            "c9028bd0eb124ed494a9e7c5fde030cb",
            "edea78d6db9b420ca1dfc7889b8ae975",
            "f1dfe9d15e484f6eb3c49f3533c66cb4",
            "07663c5d64ab405a91a64ddfc92a4952",
            "580a5f827e154a5d85ca5b73e0256548",
            "01ff454a60e24663a8f9c2302a6c5c7e",
            "e8448897f6394c0f88475eb6e0cc72a5",
            "68f946ad72964d9b839e4b67f38e191f",
            "fdbe3ff71a22411c8d4f665f973b1a3b",
            "9a5525b8f7ff4fc0a8e6d4ee2632b07f",
            "b282993e3eb94cc9b6179a939be4058f",
            "5d688dbac4884e339447553788cafdf1",
            "0ddf8778069340d0809c26504a552871",
            "82417b9143f64cf2bc24fc7b69443815",
            "f848addfd24e48eca8ea43ae038f5a50",
            "0fedeeb454ee4e52b997c5895b77c23d",
            "7b8c1d8d293b4ca0ac866ee61530e958",
            "4ae47ec0858b443e964e9a4487482d04"
          ]
        },
        "cellView": "form",
        "outputId": "ae0c419d-6fc6-43fa-c3f5-273c2c0be96b"
      },
      "source": [
        "#@title Control dashboard for this simulation\n",
        "#######################\n",
        "#  CONTROL DASHBOARD  #\n",
        "#######################\n",
        "print(\"Population of the City\")\n",
        "display(w_c1_population_size)\n",
        "\n",
        "print(\"Number of people infected a priori\")\n",
        "w_n_infected_a_priori = ipywidgets.IntText(value=5, min=1)\n",
        "display(w_n_infected_a_priori)\n",
        "\n",
        "print(\"Number of iterations (days)\")\n",
        "w_n_iterations = ipywidgets.Select(\n",
        "    options=[\n",
        "             #('1 (one day)', 1), ('7 (one week)',7),\n",
        "             ('10 (ten days)',10), ('30 (one month)',30), ('90 (one quarter)',90), ('183 (half a year)',183), ('365 (a year)',365), ('1826 (5 years)',1826)],\n",
        "    value=90\n",
        ")\n",
        "display(w_n_iterations)\n",
        "\n",
        "print(\"Number of people in a typical meeting (default is 2, which means people meet 1-to-1)\")\n",
        "w_meeting_size = ipywidgets.IntSlider(value=2, min=2, max=5)\n",
        "display(w_meeting_size)\n",
        "\n",
        "print(\"Number of super-spreader events (evenly spaced throughout the simulation)\")\n",
        "w_n_superspreader_events = ipywidgets.IntSlider(value=0, min=0, max=20)\n",
        "display(w_n_superspreader_events)\n",
        "\n",
        "print(\"Number of people in a super-spreader event\")\n",
        "w_n_people_superspreader_events = ipywidgets.IntSlider(value=50, min=5, max=300, step=5)\n",
        "display(w_n_people_superspreader_events)"
      ],
      "execution_count": 15,
      "outputs": [
        {
          "output_type": "stream",
          "text": [
            "Population of the City\n"
          ],
          "name": "stdout"
        },
        {
          "output_type": "display_data",
          "data": {
            "application/vnd.jupyter.widget-view+json": {
              "model_id": "c9028bd0eb124ed494a9e7c5fde030cb",
              "version_minor": 0,
              "version_major": 2
            },
            "text/plain": [
              "Dropdown(description='Popul. size:', index=3, options=((50, 50), (100, 100), (500, 500), ('1,000', 1000), ('2,…"
            ]
          },
          "metadata": {
            "tags": []
          }
        },
        {
          "output_type": "stream",
          "text": [
            "Number of people infected a priori\n"
          ],
          "name": "stdout"
        },
        {
          "output_type": "display_data",
          "data": {
            "application/vnd.jupyter.widget-view+json": {
              "model_id": "07663c5d64ab405a91a64ddfc92a4952",
              "version_minor": 0,
              "version_major": 2
            },
            "text/plain": [
              "IntText(value=5)"
            ]
          },
          "metadata": {
            "tags": []
          }
        },
        {
          "output_type": "stream",
          "text": [
            "Number of iterations (days)\n"
          ],
          "name": "stdout"
        },
        {
          "output_type": "display_data",
          "data": {
            "application/vnd.jupyter.widget-view+json": {
              "model_id": "e8448897f6394c0f88475eb6e0cc72a5",
              "version_minor": 0,
              "version_major": 2
            },
            "text/plain": [
              "Select(index=2, options=(('10 (ten days)', 10), ('30 (one month)', 30), ('90 (one quarter)', 90), ('183 (half …"
            ]
          },
          "metadata": {
            "tags": []
          }
        },
        {
          "output_type": "stream",
          "text": [
            "Number of people in a typical meeting (default is 2, which means people meet 1-to-1)\n"
          ],
          "name": "stdout"
        },
        {
          "output_type": "display_data",
          "data": {
            "application/vnd.jupyter.widget-view+json": {
              "model_id": "9a5525b8f7ff4fc0a8e6d4ee2632b07f",
              "version_minor": 0,
              "version_major": 2
            },
            "text/plain": [
              "IntSlider(value=2, max=5, min=2)"
            ]
          },
          "metadata": {
            "tags": []
          }
        },
        {
          "output_type": "stream",
          "text": [
            "Number of super-spreader events (evenly spaced throughout the simulation)\n"
          ],
          "name": "stdout"
        },
        {
          "output_type": "display_data",
          "data": {
            "application/vnd.jupyter.widget-view+json": {
              "model_id": "0ddf8778069340d0809c26504a552871",
              "version_minor": 0,
              "version_major": 2
            },
            "text/plain": [
              "IntSlider(value=0, max=20)"
            ]
          },
          "metadata": {
            "tags": []
          }
        },
        {
          "output_type": "stream",
          "text": [
            "Number of people in a super-spreader event\n"
          ],
          "name": "stdout"
        },
        {
          "output_type": "display_data",
          "data": {
            "application/vnd.jupyter.widget-view+json": {
              "model_id": "0fedeeb454ee4e52b997c5895b77c23d",
              "version_minor": 0,
              "version_major": 2
            },
            "text/plain": [
              "IntSlider(value=50, max=300, min=5, step=5)"
            ]
          },
          "metadata": {
            "tags": []
          }
        }
      ]
    },
    {
      "cell_type": "code",
      "metadata": {
        "id": "7RvXHnKSkZmz",
        "colab_type": "code",
        "cellView": "form",
        "outputId": "f5d55b6e-29ed-4ae1-fc5d-939f777abdf8",
        "colab": {
          "base_uri": "https://localhost:8080/",
          "height": 603,
          "referenced_widgets": [
            "81bd383a536f44039acb761be4da308e",
            "7981e1b5e5104baf80f2c4ac0b2aa523",
            "dbeff4a5d0da4ef5974f25d5622ce38b"
          ]
        }
      },
      "source": [
        "#@title The main iteration code [double-click here to show/hide code]\n",
        "\n",
        "#############################\n",
        "#  THE MAIN ITERATION CODE  #\n",
        "#############################\n",
        "N_ITERATIONS = w_n_iterations.value\n",
        "N_CITIES = 5\n",
        "\n",
        "# Show a progress tracker for the computations\n",
        "w_progress = ipywidgets.IntProgress(\n",
        "    value=0, min=0, max=N_ITERATIONS, step=1,\n",
        "    description='Progress:', bar_style='', orientation='horizontal'\n",
        ")\n",
        "display(w_progress)\n",
        "\n",
        "\n",
        "rands = []\n",
        "v = Disease(name=\"SARS-CoV-2\")\n",
        "diseases = [v] # A list of all infections going on\n",
        "\n",
        "cities = [] # A list of all cities\n",
        "for i in range(N_CITIES):\n",
        "  cities.append(City(population=w_c1_population_size.value))\n",
        "\n",
        "# INFECT A FEW PERSONS IN THE FIRST CITY, JUST TO GET STARTED\n",
        "# But first check if the number is positive and not larger than the population\n",
        "if w_n_infected_a_priori.value < 1:\n",
        "  w_n_infected_a_priori.value = 5\n",
        "if w_n_infected_a_priori.value > 0.99*w_c1_population_size.value:\n",
        "  w_n_infected_a_priori.value = 0.99*w_c1_population_size.value\n",
        "# OK, now do infect a few Persons\n",
        "for j in range(len(cities)):\n",
        "  for i in range(w_n_infected_a_priori.value):\n",
        "    cities[j].people()[i].get_infected(v)\n",
        "# end for: infecting a few Persons in the City\n",
        "\n",
        "# tracker_n_infected_ALL is a dictionary whose keys are Diseases. The values are themselves dictionaries,\n",
        "# with the key being each City, and the values a list of counts of infected people in that city for\n",
        "# that Disease, per iteration. So, each entry in the inner list is a count per Disease per day\n",
        "tracker_n_infected_susceptible   = {}\n",
        "tracker_n_infected_latent        = {} # same as \"exposed\" in SEIR models\n",
        "tracker_n_infected_infectious    = {} # contagious at present\n",
        "tracker_n_infected_recovered     = {} # equivalent to \"immune\"\n",
        "tracker_n_infected_resusceptible = {}\n",
        "tracker_n_infected_ALL           = {} # All historical cases\n",
        "\n",
        "# INITIALISE THE INFECTIONS COUNT TRACKER\n",
        "for disease in diseases:\n",
        "  tracker_n_infected_susceptible[disease]   = {}\n",
        "  tracker_n_infected_latent[disease]        = {}\n",
        "  tracker_n_infected_infectious[disease]    = {}\n",
        "  tracker_n_infected_recovered[disease]     = {}\n",
        "  tracker_n_infected_resusceptible[disease] = {}\n",
        "  tracker_n_infected_ALL[disease]           = {}\n",
        "\n",
        "  for city in cities:\n",
        "    tracker_n_infected_susceptible[disease][city]   = [city.n_infected_susceptible(disease)]\n",
        "    tracker_n_infected_latent[disease][city]        = [city.n_infected_latent(disease)]\n",
        "    tracker_n_infected_infectious[disease][city]    = [city.n_infected_infectious(disease)]\n",
        "    tracker_n_infected_recovered[disease][city]     = [city.n_infected_recovered(disease)]\n",
        "    tracker_n_infected_resusceptible[disease][city] = [city.n_infected_resusceptible(disease)]\n",
        "    tracker_n_infected_ALL[disease][city]           = [city.n_infected_ALL(disease)]\n",
        "# end for: feeding the infection counts tracker\n",
        "\n",
        "# Any super-spreader events will be evenly spaced out throughout the simulation\n",
        "superspreader_iterations = []\n",
        "if w_n_superspreader_events.value > 0:\n",
        "  superspreader_event_separation = round(N_ITERATIONS / (w_n_superspreader_events.value+1))\n",
        "  for i in range(w_n_superspreader_events.value):\n",
        "    superspreader_iterations.append((i+1)*superspreader_event_separation)\n",
        "# end if: Any super-spreader events?\n",
        "\n",
        "if superspreader_iterations:\n",
        "  print(f\"Super-spreader events happening at iterations # {superspreader_iterations}\")\n",
        "#######################################################\n",
        "#  THE MAIN ITERATION CODE FOR WHAT HAPPENS EACH DAY  #\n",
        "#######################################################\n",
        "for i in range(N_ITERATIONS):\n",
        "  do_super_spreader = False\n",
        "  # Does this iteration have a superspreader event?\n",
        "  if i in superspreader_iterations:\n",
        "      do_super_spreader = True\n",
        "  # end if: Is a super-spreader event happening in this iteration?\n",
        "  \n",
        "  for city in cities:\n",
        "    city.run_iteration(do_super_spreader)\n",
        "  \n",
        "  for disease in diseases:\n",
        "    for city in cities:\n",
        "      tracker_n_infected_susceptible[disease][city].append(city.n_infected_susceptible(disease))\n",
        "      tracker_n_infected_latent[disease][city].append(city.n_infected_latent(disease))\n",
        "      tracker_n_infected_infectious[disease][city].append(city.n_infected_infectious(disease))\n",
        "      tracker_n_infected_recovered[disease][city].append(city.n_infected_recovered(disease))\n",
        "      tracker_n_infected_resusceptible[disease][city].append(city.n_infected_resusceptible(disease))\n",
        "      tracker_n_infected_ALL[disease][city].append(city.n_infected_ALL(disease))\n",
        "    # end for: going over each city\n",
        "  # end for: going over all infections\n",
        "\n",
        "  # increase the progress bar\n",
        "  w_progress.value = i + 1\n",
        "# end for: ITERATIONS (i.e. DAYS)\n",
        "\n",
        "\n",
        "\n",
        "##############\n",
        "#  PLOTTING  #\n",
        "##############\n",
        "#@title Plotting [double-click here to show/hide code]\n",
        "#print(tracker_n_infected_ALL)\n",
        "\n",
        "tracker_names = ['All infected', 'Susceptible', 'Latent (exposed)', 'Infectious', 'Recovered', 'Re-susceptible']\n",
        "trackers = [\n",
        "    tracker_n_infected_ALL,\n",
        "    tracker_n_infected_susceptible,\n",
        "    tracker_n_infected_latent,\n",
        "    tracker_n_infected_infectious,\n",
        "    tracker_n_infected_recovered,\n",
        "    tracker_n_infected_resusceptible,\n",
        "]\n",
        "\n",
        "'''\n",
        "# Create a GoogleWidget TabBar with each of the Infection tracker names \n",
        "infections_tb = gwidgets.TabBar(tracker_names)\n",
        "\n",
        "for i, tracker in enumerate(trackers):\n",
        "  with infections_tb.output_to(i):\n",
        "    for infection, cities in tracker.items():\n",
        "      for city, city_count in cities.items():\n",
        "        #print(f\"\\n{50*'*'}\\n\\tNumber of citizens of {city} infected with {infection}\\n\")\n",
        "        plt.plot(city_count)\n",
        "        plt.title(tracker_names[i])\n",
        "        plt.show()\n",
        "      # end for: adding and plotting every bin\n",
        "    # end for\n",
        "  # end with: plotting infections\n",
        "# end for: printing the infection trackers\n",
        "'''\n",
        "\n",
        "N_ROWS = 3\n",
        "N_COLS = 2\n",
        "COLORS = ['tab:red', 'tab:orange', 'tab:green', 'tab:blue', 'tab:purple', 'tab:brown']\n",
        "\n",
        "#diseases_tb = gwidgets.TabBar([disease.name() for disease in diseases])\n",
        "fig, axs = plt.subplots(N_ROWS, N_COLS, figsize=(15,9), sharex=True)\n",
        "\n",
        "# Set a tab for each disease\n",
        "'''\n",
        "for i in range(len(diseases)):\n",
        "  # Select the tab\n",
        "  with diseases_tb.output_to(i):\n",
        "    # Now plot each infection tracker for all cities, with\n",
        "    # one plot for each tracker, and all cities together in each plot\n",
        "'''\n",
        "\n",
        "for j, ax in enumerate(axs.flat):\n",
        "  # The row and column in the plots grid for the trackers\n",
        "  row = j//N_COLS\n",
        "  col = j - row*N_COLS\n",
        "  cities_tracker = trackers[j][disease]\n",
        "  #print(cities_tracker)\n",
        "  city_idx = 0\n",
        "  for city, city_count in cities_tracker.items():\n",
        "    #print(city)\n",
        "    #print(city_count)\n",
        "    #print(f\"\\n{50*'*'}\\n\\tNumber of citizens of {city} infected with {infection}\\n\")\n",
        "    axs[row, col].plot(city_count, color=COLORS[city_idx], label=f\"#{city_idx+1}\")\n",
        "    axs[row, col].set_title(tracker_names[j], fontsize=14)\n",
        "    ax.set(ylabel='# people')\n",
        "    if j == 0:\n",
        "      # Add a legend to the first plot\n",
        "      ax.legend(title=\"City\")#, frameon=False)\n",
        "    # Hide x labels and tick labels for top plots and y ticks for right plots.\n",
        "    #ax.label_outer()\n",
        "    # increase the colour pointer for the city\n",
        "    city_idx += 1\n",
        "  # end for: adding and plotting every bin\n",
        "# end for\n",
        "\n",
        "#  # end with: plotting infections\n",
        "## end for: printing the infection trackers"
      ],
      "execution_count": 21,
      "outputs": [
        {
          "output_type": "display_data",
          "data": {
            "application/vnd.jupyter.widget-view+json": {
              "model_id": "81bd383a536f44039acb761be4da308e",
              "version_minor": 0,
              "version_major": 2
            },
            "text/plain": [
              "IntProgress(value=0, description='Progress:', max=90)"
            ]
          },
          "metadata": {
            "tags": []
          }
        },
        {
          "output_type": "stream",
          "text": [
            "Super-spreader events happening at iterations # [15, 30, 45, 60, 75]\n"
          ],
          "name": "stdout"
        },
        {
          "output_type": "display_data",
          "data": {
            "image/png": "[encoded data removed]",
            "text/plain": [
              "<Figure size 1080x648 with 6 Axes>"
            ]
          },
          "metadata": {
            "tags": [],
            "needs_background": "light"
          }
        }
      ]
    },
    {
      "cell_type": "markdown",
      "metadata": {
        "id": "9peB31gSFHoE",
        "colab_type": "text"
      },
      "source": [
        "## City connectivity\n",
        "Although presently not implemented, the 5 cities in the model are connected as follows:\n",
        "![City connectivity](https://raw.githubusercontent.com/vsojo/covid19/master/_img/City_connectivity.png)\n",
        "The initial (e.g. zoonotic) infection happens at the first City, and may travel from there to the other 4 cities, according to their connectivity and to the migration likelihoods and imposed travel restrictions."
      ]
    },
    {
      "cell_type": "markdown",
      "metadata": {
        "id": "lVxth0vpwpED",
        "colab_type": "text"
      },
      "source": [
        "## Mathematics of the model\n",
        "(under construction)"
      ]
    },
    {
      "cell_type": "markdown",
      "metadata": {
        "id": "lnLWv3bcAsMv",
        "colab_type": "text"
      },
      "source": [
        "<a name=\"contributors\"></a>\n",
        "# Contributors and rights\n",
        "The people below have all contributed in some way to the development of this model. If you want to collaborate, please contact Victor.\n",
        "* **Victor Sojo** | American Museum of Natural History, New York | vsojo@amnh.org\n",
        "+ **Janina Roemer** | Ludwig-Maximilian University of Munich\n",
        "\n",
        "We sincerely encourage you to modify this code as much as you wish. We only ask that you kindly contact us (either via email, or by making a fork/pull-request on GitHub) if you make a significant improvement, so that we can update here.\n",
        "\n",
        "This code is released under a [CC-BY-NC-SA](https://creativecommons.org/licenses/by-nc-sa/4.0/) license."
      ]
    }
  ]
}